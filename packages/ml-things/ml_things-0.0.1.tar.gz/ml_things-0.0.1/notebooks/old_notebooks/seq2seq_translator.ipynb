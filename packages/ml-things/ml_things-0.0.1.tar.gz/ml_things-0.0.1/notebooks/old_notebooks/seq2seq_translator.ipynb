{
  "nbformat": 4,
  "nbformat_minor": 0,
  "metadata": {
    "colab": {
      "name": "seq2seq_translator.ipynb",
      "version": "0.3.2",
      "provenance": [],
      "collapsed_sections": []
    },
    "kernelspec": {
      "name": "python3",
      "display_name": "Python 3"
    },
    "accelerator": "GPU"
  },
  "cells": [
    {
      "cell_type": "markdown",
      "metadata": {
        "id": "view-in-github",
        "colab_type": "text"
      },
      "source": [
        "[View in Colaboratory](https://colab.research.google.com/github/gmihaila/toy_models/blob/master/seq2seq_translator.ipynb)"
      ]
    },
    {
      "metadata": {
        "id": "CAehfVpYiSPu",
        "colab_type": "text"
      },
      "cell_type": "markdown",
      "source": [
        "## Text Translation\n",
        "### It uses Encoder-Decoder architecture with repeat vector.\n",
        "\n",
        "by GeorgeM.\n"
      ]
    },
    {
      "metadata": {
        "id": "2MRQ-Z8bPXHU",
        "colab_type": "code",
        "colab": {}
      },
      "cell_type": "code",
      "source": [
        "#@title\n",
        "!apt-get -qq install -y graphviz && pip install -q pydot"
      ],
      "execution_count": 0,
      "outputs": []
    },
    {
      "metadata": {
        "id": "AFLOHHfXiQ7T",
        "colab_type": "code",
        "colab": {
          "base_uri": "https://localhost:8080/",
          "height": 255
        },
        "outputId": "44d17440-8086-47dc-fa72-8fcc01310767"
      },
      "cell_type": "code",
      "source": [
        "!wget http://www.manythings.org/anki/deu-eng.zip\n",
        "!unzip deu-eng.zip"
      ],
      "execution_count": 2,
      "outputs": [
        {
          "output_type": "stream",
          "text": [
            "--2018-05-26 16:17:26--  http://www.manythings.org/anki/deu-eng.zip\n",
            "Resolving www.manythings.org (www.manythings.org)... 104.24.109.196, 104.24.108.196, 2400:cb00:2048:1::6818:6cc4, ...\n",
            "Connecting to www.manythings.org (www.manythings.org)|104.24.109.196|:80... connected.\n",
            "HTTP request sent, awaiting response... 200 OK\n",
            "Length: 4012023 (3.8M) [application/zip]\n",
            "Saving to: ‘deu-eng.zip’\n",
            "\n",
            "deu-eng.zip         100%[===================>]   3.83M  3.61MB/s    in 1.1s    \n",
            "\n",
            "2018-05-26 16:17:27 (3.61 MB/s) - ‘deu-eng.zip’ saved [4012023/4012023]\n",
            "\n",
            "Archive:  deu-eng.zip\n",
            "  inflating: deu.txt                 \n",
            "  inflating: _about.txt              \n"
          ],
          "name": "stdout"
        }
      ]
    },
    {
      "metadata": {
        "id": "GqUXOJZrYxC2",
        "colab_type": "code",
        "colab": {}
      },
      "cell_type": "code",
      "source": [
        "import sys\n",
        "import string\n",
        "import re\n",
        "from unicodedata import normalize\n",
        "from numpy import array\n",
        "from numpy import argmax\n",
        "\n",
        "from pickle import dump\n",
        "from numpy.random import rand\n",
        "from numpy.random import shuffle\n",
        "\n",
        "from pickle import load\n",
        "from numpy import array\n",
        "from keras.preprocessing.text import Tokenizer\n",
        "from keras.preprocessing.sequence import pad_sequences\n",
        "from keras.utils import to_categorical\n",
        "from keras.utils.vis_utils import plot_model\n",
        "from keras.models import load_model\n",
        "from keras.models import Sequential\n",
        "from keras.layers import LSTM\n",
        "from keras.layers import Dense\n",
        "from keras.layers import Embedding\n",
        "from keras.layers import RepeatVector\n",
        "from keras.layers import TimeDistributed\n",
        "from keras.callbacks import ModelCheckpoint\n",
        "\n",
        "from nltk.translate.bleu_score import corpus_bleu\n",
        "\n",
        "import pydot\n",
        "from IPython.display import Image"
      ],
      "execution_count": 0,
      "outputs": []
    },
    {
      "metadata": {
        "id": "pkRUYTD_aX8-",
        "colab_type": "code",
        "colab": {
          "base_uri": "https://localhost:8080/",
          "height": 204
        },
        "outputId": "214838ec-422b-4f4f-c5c9-4f4ebb8dc17e"
      },
      "cell_type": "code",
      "source": [
        "# load doc into memory\n",
        "def load_doc(filename):\n",
        "  # open the file as read only\n",
        "  file = open(filename, mode='rt', encoding='utf-8')\n",
        "  # read all text\n",
        "  text = file.read()\n",
        "  # close the file\n",
        "  file.close()\n",
        "  return text\n",
        "\n",
        "# split a loaded document into sentences\n",
        "def to_pairs(doc):\n",
        "  lines = doc.strip().split('\\n')\n",
        "  pairs = [line.split('\\t') for line in  lines]\n",
        "  return pairs\n",
        "\n",
        "# clean a list of lines\n",
        "def clean_pairs(lines):\n",
        "  cleaned = list()\n",
        "  # prepare regex for char filtering\n",
        "  re_print = re.compile('[^%s]' % re.escape(string.printable))\n",
        "  # prepare translation table for removing punctuation\n",
        "  table = str.maketrans('', '', string.punctuation)\n",
        "  for pair in lines:\n",
        "    clean_pair = list()\n",
        "    for line in pair:\n",
        "      # normalize unicode characters\n",
        "      line = normalize('NFD', line).encode('ascii', 'ignore')\n",
        "      line = line.decode('UTF-8')\n",
        "      # tokenize on white space\n",
        "      line = line.split()\n",
        "      # convert to lowercase\n",
        "      line = [word.lower() for word in line]\n",
        "      # remove punctuation from each token\n",
        "      line = [word.translate(table) for word in line]\n",
        "      # remove non-printable chars form each token\n",
        "      line = [re_print.sub('', w) for w in line]\n",
        "      # remove tokens with numbers in them\n",
        "      line = [word for word in line if word.isalpha()]\n",
        "      # store as string\n",
        "      clean_pair.append(' '.join(line))\n",
        "    cleaned.append(clean_pair)\n",
        "  return array(cleaned)\n",
        "\n",
        "# save a list of clean sentences to file\n",
        "def save_clean_data(sentences, filename):\n",
        "  dump(sentences, open(filename, 'wb'))\n",
        "  print('Saved: %s' % filename)\n",
        "\n",
        "# load dataset\n",
        "filename = 'deu.txt'\n",
        "doc = load_doc(filename)\n",
        "# split into english-german pairs\n",
        "pairs = to_pairs(doc)\n",
        "# clean sentences\n",
        "clean_pairs = clean_pairs(pairs)\n",
        "# save clean pairs to file\n",
        "save_clean_data(clean_pairs, 'english-german.pkl')\n",
        "# spot check\n",
        "for i in range(10):\n",
        "  print('[%s] => [%s]' % (clean_pairs[i,0], clean_pairs[i,1]))"
      ],
      "execution_count": 2,
      "outputs": [
        {
          "output_type": "stream",
          "text": [
            "Saved: english-german.pkl\n",
            "[hi] => [hallo]\n",
            "[hi] => [gru gott]\n",
            "[run] => [lauf]\n",
            "[fire] => [feuer]\n",
            "[help] => [hilfe]\n",
            "[help] => [zu hulf]\n",
            "[stop] => [stopp]\n",
            "[wait] => [warte]\n",
            "[go on] => [mach weiter]\n",
            "[hello] => [hallo]\n"
          ],
          "name": "stdout"
        }
      ]
    },
    {
      "metadata": {
        "id": "FAtNA2PNfNdb",
        "colab_type": "code",
        "colab": {
          "base_uri": "https://localhost:8080/",
          "height": 68
        },
        "outputId": "de01d100-fd11-492d-c2ed-76fabf86cd7a"
      },
      "cell_type": "code",
      "source": [
        "# load a clean dataset\n",
        "def load_clean_sentences(filename):\n",
        "  return load(open(filename, 'rb'))\n",
        "\n",
        "\n",
        "# load dataset\n",
        "raw_dataset = load_clean_sentences('english-german.pkl')\n",
        "\n",
        "# reduce dataset size\n",
        "n_sentences = 10000\n",
        "dataset = raw_dataset[:n_sentences, :]\n",
        "# random shuffle\n",
        "shuffle(dataset)\n",
        "# split into train/test\n",
        "train, test = dataset[:9000], dataset[9000:]\n",
        "# save\n",
        "save_clean_data(dataset, 'english-german-both.pkl')\n",
        "save_clean_data(train, 'english-german-train.pkl')\n",
        "save_clean_data(test, 'english-german-test.pkl')\n"
      ],
      "execution_count": 3,
      "outputs": [
        {
          "output_type": "stream",
          "text": [
            "Saved: english-german-both.pkl\n",
            "Saved: english-german-train.pkl\n",
            "Saved: english-german-test.pkl\n"
          ],
          "name": "stdout"
        }
      ]
    },
    {
      "metadata": {
        "id": "TJBanPMlsScY",
        "colab_type": "code",
        "colab": {}
      },
      "cell_type": "code",
      "source": [
        "# fit a tokenizer\n",
        "def create_tokenizer(lines):\n",
        "  tokenizer = Tokenizer()\n",
        "  tokenizer.fit_on_texts(lines)\n",
        "  return tokenizer\n",
        "\n",
        "# max sentence length\n",
        "def max_length(lines):\n",
        "  return max(len(line.split()) for line in lines)\n",
        "\n",
        "# encode and pad sequences\n",
        "def encode_sequences(tokenizer, length, lines):\n",
        "  # integer encode sequences\n",
        "  X = tokenizer.texts_to_sequences(lines)\n",
        "  # pad sequences with 0 values\n",
        "  X = pad_sequences(X, maxlen=length, padding='post')\n",
        "  return X\n",
        "\n",
        "# one hot encode target sequence\n",
        "def encode_output(sequences, vocab_size):\n",
        "  ylist = list()\n",
        "  for sequence in sequences:\n",
        "    encoded = to_categorical(sequence, num_classes=vocab_size)\n",
        "    ylist.append(encoded)\n",
        "  y = array(ylist)\n",
        "  y = y.reshape(sequences.shape[0], sequences.shape[1], vocab_size)\n",
        "  return y\n",
        "\n",
        "# define NMT model\n",
        "def define_model(src_vocab, tar_vocab, src_timesteps, tar_timesteps, n_units):\n",
        "  model = Sequential()\n",
        "  model.add(Embedding(src_vocab, n_units, input_length=src_timesteps, mask_zero=True))\n",
        "  model.add(LSTM(n_units))\n",
        "  model.add(RepeatVector(tar_timesteps))\n",
        "  model.add(LSTM(n_units, return_sequences=True))\n",
        "  model.add(TimeDistributed(Dense(tar_vocab, activation='softmax')))\n",
        "  return model\n",
        "\n",
        "# map an integer to a word\n",
        "def word_for_id(integer, tokenizer):\n",
        "  for word, index in tokenizer.word_index.items():\n",
        "    if index == integer:\n",
        "      return word\n",
        "  return None\n",
        "\n",
        "# generate target given source sequence\n",
        "def predict_sequence(model, tokenizer, source):\n",
        "  prediction = model.predict(source, verbose=0)[0]\n",
        "  integers = [argmax(vector) for vector in prediction]\n",
        "  target = list()\n",
        "  for i in integers:\n",
        "    word = word_for_id(i, tokenizer)\n",
        "    if word is None:\n",
        "      break\n",
        "    target.append(word)\n",
        "  return ' '.join(target)\n",
        "\n",
        "# evaluate the skill of the model\n",
        "def evaluate_model(model, tokenizer, sources, raw_dataset):\n",
        "  actual, predicted = list(), list()\n",
        "  for i, source in enumerate(sources):\n",
        "    # translate encoded source text\n",
        "    source = source.reshape((1, source.shape[0]))\n",
        "    translation = predict_sequence(model, eng_tokenizer, source)\n",
        "    raw_target, raw_src = raw_dataset[i]\n",
        "    if i < 10:\n",
        "      print('src=[%s], target=[%s], predicted=[%s]' % (raw_src, raw_target, translation))\n",
        "    actual.append(raw_target.split())\n",
        "    predicted.append(translation.split())\n",
        "  # calculate BLEU score\n",
        "  print('BLEU-1: %f' % corpus_bleu(actual, predicted, weights=(1.0, 0, 0, 0)))\n",
        "  print('BLEU-2: %f' % corpus_bleu(actual, predicted, weights=(0.5, 0.5, 0, 0)))\n",
        "  print('BLEU-3: %f' % corpus_bleu(actual, predicted, weights=(0.3, 0.3, 0.3, 0)))\n",
        "  print('BLEU-4: %f' % corpus_bleu(actual, predicted, weights=(0.25, 0.25, 0.25, 0.25)))\n"
      ],
      "execution_count": 0,
      "outputs": []
    },
    {
      "metadata": {
        "id": "KyPZD5qxs05U",
        "colab_type": "code",
        "colab": {
          "base_uri": "https://localhost:8080/",
          "height": 85
        },
        "outputId": "5a6ea24e-a405-406c-de6a-54734a5f961e"
      },
      "cell_type": "code",
      "source": [
        "# load datasets\n",
        "dataset = load_clean_sentences('english-german-both.pkl')\n",
        "train = load_clean_sentences('english-german-train.pkl')\n",
        "test = load_clean_sentences('english-german-test.pkl')\n",
        "\n",
        "# prepare english tokenizer\n",
        "eng_tokenizer = create_tokenizer(dataset[:, 0])\n",
        "eng_vocab_size = len(eng_tokenizer.word_index) + 1\n",
        "eng_length = max_length(dataset[:, 0])\n",
        "print('English Vocabulary Size: %d' % eng_vocab_size)\n",
        "print('English Max Length: %d' % (eng_length))\n",
        "# prepare german tokenizer\n",
        "ger_tokenizer = create_tokenizer(dataset[:, 1])\n",
        "ger_vocab_size = len(ger_tokenizer.word_index) + 1\n",
        "ger_length = max_length(dataset[:, 1])\n",
        "print('German Vocabulary Size: %d' % ger_vocab_size)\n",
        "print('German Max Length: %d' % (ger_length))\n",
        "\n",
        "# prepare training data\n",
        "trainX = encode_sequences(ger_tokenizer, ger_length, train[:, 1])\n",
        "trainY = encode_sequences(eng_tokenizer, eng_length, train[:, 0])\n",
        "trainY = encode_output(trainY, eng_vocab_size)\n",
        "# prepare validation data\n",
        "testX = encode_sequences(ger_tokenizer, ger_length, test[:, 1])\n",
        "testY = encode_sequences(eng_tokenizer, eng_length, test[:, 0])\n",
        "testY = encode_output(testY, eng_vocab_size)"
      ],
      "execution_count": 5,
      "outputs": [
        {
          "output_type": "stream",
          "text": [
            "English Vocabulary Size: 2315\n",
            "English Max Length: 5\n",
            "German Vocabulary Size: 3686\n",
            "German Max Length: 10\n"
          ],
          "name": "stdout"
        }
      ]
    },
    {
      "metadata": {
        "id": "Yy-ozX2ks7qF",
        "colab_type": "code",
        "colab": {
          "base_uri": "https://localhost:8080/",
          "height": 323
        },
        "outputId": "c736b2b1-d6db-4902-c00c-4549d8a3df45"
      },
      "cell_type": "code",
      "source": [
        "# define model\n",
        "model = define_model(ger_vocab_size, eng_vocab_size, ger_length, eng_length, 256)\n",
        "model.compile(optimizer='adam', loss='categorical_crossentropy')\n",
        "# summarize defined model\n",
        "print(model.summary())"
      ],
      "execution_count": 6,
      "outputs": [
        {
          "output_type": "stream",
          "text": [
            "_________________________________________________________________\n",
            "Layer (type)                 Output Shape              Param #   \n",
            "=================================================================\n",
            "embedding_1 (Embedding)      (None, 10, 256)           943616    \n",
            "_________________________________________________________________\n",
            "lstm_1 (LSTM)                (None, 256)               525312    \n",
            "_________________________________________________________________\n",
            "repeat_vector_1 (RepeatVecto (None, 5, 256)            0         \n",
            "_________________________________________________________________\n",
            "lstm_2 (LSTM)                (None, 5, 256)            525312    \n",
            "_________________________________________________________________\n",
            "time_distributed_1 (TimeDist (None, 5, 2315)           594955    \n",
            "=================================================================\n",
            "Total params: 2,589,195\n",
            "Trainable params: 2,589,195\n",
            "Non-trainable params: 0\n",
            "_________________________________________________________________\n",
            "None\n"
          ],
          "name": "stdout"
        }
      ]
    },
    {
      "metadata": {
        "id": "Tk7MHB4OtCgg",
        "colab_type": "code",
        "colab": {
          "base_uri": "https://localhost:8080/",
          "height": 644
        },
        "outputId": "6cc2bcf3-f685-4181-abcc-ea10f9d504ef"
      },
      "cell_type": "code",
      "source": [
        "plot_model(model, to_file='model.png', show_shapes=True)\n",
        "Image('model.png')"
      ],
      "execution_count": 7,
      "outputs": [
        {
          "output_type": "execute_result",
          "data": {
            "image/png": "[encoded data removed]",
            "text/plain": [
              "<IPython.core.display.Image object>"
            ]
          },
          "metadata": {
            "tags": []
          },
          "execution_count": 7
        }
      ]
    },
    {
      "metadata": {
        "id": "b3zyGWEOtOum",
        "colab_type": "code",
        "colab": {
          "base_uri": "https://localhost:8080/",
          "height": 2091
        },
        "outputId": "a00d2006-aafd-4f60-83ef-80e2ecfbe8f9"
      },
      "cell_type": "code",
      "source": [
        "checkpoint = ModelCheckpoint('model.h5', monitor='val_loss', verbose=1, save_best_only=True, mode='min')\n",
        "model.fit(trainX, trainY, epochs=30, batch_size=64, validation_data=(testX, testY), callbacks=[checkpoint], verbose=2)"
      ],
      "execution_count": 13,
      "outputs": [
        {
          "output_type": "stream",
          "text": [
            "Train on 9000 samples, validate on 1000 samples\n",
            "Epoch 1/30\n",
            " - 7s - loss: 0.4126 - val_loss: 2.0727\n",
            "\n",
            "Epoch 00001: val_loss improved from inf to 2.07269, saving model to model.h5\n",
            "Epoch 2/30\n",
            " - 7s - loss: 0.3805 - val_loss: 2.0650\n",
            "\n",
            "Epoch 00002: val_loss improved from 2.07269 to 2.06503, saving model to model.h5\n",
            "Epoch 3/30\n",
            " - 7s - loss: 0.3486 - val_loss: 2.0634\n",
            "\n",
            "Epoch 00003: val_loss improved from 2.06503 to 2.06338, saving model to model.h5\n",
            "Epoch 4/30\n",
            " - 7s - loss: 0.3214 - val_loss: 2.0685\n",
            "\n",
            "Epoch 00004: val_loss did not improve from 2.06338\n",
            "Epoch 5/30\n",
            " - 7s - loss: 0.2982 - val_loss: 2.0556\n",
            "\n",
            "Epoch 00005: val_loss improved from 2.06338 to 2.05560, saving model to model.h5\n",
            "Epoch 6/30\n",
            " - 7s - loss: 0.2740 - val_loss: 2.0779\n",
            "\n",
            "Epoch 00006: val_loss did not improve from 2.05560\n",
            "Epoch 7/30\n",
            " - 7s - loss: 0.2541 - val_loss: 2.0854\n",
            "\n",
            "Epoch 00007: val_loss did not improve from 2.05560\n",
            "Epoch 8/30\n",
            " - 7s - loss: 0.2351 - val_loss: 2.0881\n",
            "\n",
            "Epoch 00008: val_loss did not improve from 2.05560\n",
            "Epoch 9/30\n",
            " - 7s - loss: 0.2210 - val_loss: 2.0927\n",
            "\n",
            "Epoch 00009: val_loss did not improve from 2.05560\n",
            "Epoch 10/30\n",
            " - 7s - loss: 0.2052 - val_loss: 2.1076\n",
            "\n",
            "Epoch 00010: val_loss did not improve from 2.05560\n",
            "Epoch 11/30\n",
            " - 7s - loss: 0.1927 - val_loss: 2.0935\n",
            "\n",
            "Epoch 00011: val_loss did not improve from 2.05560\n",
            "Epoch 12/30\n",
            " - 7s - loss: 0.1815 - val_loss: 2.1055\n",
            "\n",
            "Epoch 00012: val_loss did not improve from 2.05560\n",
            "Epoch 13/30\n",
            " - 7s - loss: 0.1714 - val_loss: 2.1203\n",
            "\n",
            "Epoch 00013: val_loss did not improve from 2.05560\n",
            "Epoch 14/30\n",
            " - 7s - loss: 0.1634 - val_loss: 2.1106\n",
            "\n",
            "Epoch 00014: val_loss did not improve from 2.05560\n",
            "Epoch 15/30\n",
            " - 7s - loss: 0.1545 - val_loss: 2.1353\n",
            "\n",
            "Epoch 00015: val_loss did not improve from 2.05560\n",
            "Epoch 16/30\n",
            " - 7s - loss: 0.1482 - val_loss: 2.1357\n",
            "\n",
            "Epoch 00016: val_loss did not improve from 2.05560\n",
            "Epoch 17/30\n",
            " - 7s - loss: 0.1429 - val_loss: 2.1509\n",
            "\n",
            "Epoch 00017: val_loss did not improve from 2.05560\n",
            "Epoch 18/30\n",
            " - 7s - loss: 0.1377 - val_loss: 2.1519\n",
            "\n",
            "Epoch 00018: val_loss did not improve from 2.05560\n",
            "Epoch 19/30\n",
            " - 7s - loss: 0.1319 - val_loss: 2.1741\n",
            "\n",
            "Epoch 00019: val_loss did not improve from 2.05560\n",
            "Epoch 20/30\n",
            " - 7s - loss: 0.1276 - val_loss: 2.1732\n",
            "\n",
            "Epoch 00020: val_loss did not improve from 2.05560\n",
            "Epoch 21/30\n",
            " - 7s - loss: 0.1252 - val_loss: 2.1700\n",
            "\n",
            "Epoch 00021: val_loss did not improve from 2.05560\n",
            "Epoch 22/30\n",
            " - 7s - loss: 0.1213 - val_loss: 2.1875\n",
            "\n",
            "Epoch 00022: val_loss did not improve from 2.05560\n",
            "Epoch 23/30\n",
            " - 7s - loss: 0.1175 - val_loss: 2.1884\n",
            "\n",
            "Epoch 00023: val_loss did not improve from 2.05560\n",
            "Epoch 24/30\n",
            " - 7s - loss: 0.1131 - val_loss: 2.2180\n",
            "\n",
            "Epoch 00024: val_loss did not improve from 2.05560\n",
            "Epoch 25/30\n",
            " - 7s - loss: 0.1100 - val_loss: 2.2264\n",
            "\n",
            "Epoch 00025: val_loss did not improve from 2.05560\n",
            "Epoch 26/30\n",
            " - 7s - loss: 0.1091 - val_loss: 2.2055\n",
            "\n",
            "Epoch 00026: val_loss did not improve from 2.05560\n",
            "Epoch 27/30\n",
            " - 7s - loss: 0.1073 - val_loss: 2.2192\n",
            "\n",
            "Epoch 00027: val_loss did not improve from 2.05560\n",
            "Epoch 28/30\n",
            " - 7s - loss: 0.1058 - val_loss: 2.2305\n",
            "\n",
            "Epoch 00028: val_loss did not improve from 2.05560\n",
            "Epoch 29/30\n",
            " - 7s - loss: 0.1034 - val_loss: 2.2251\n",
            "\n",
            "Epoch 00029: val_loss did not improve from 2.05560\n",
            "Epoch 30/30\n"
          ],
          "name": "stdout"
        },
        {
          "output_type": "stream",
          "text": [
            " - 7s - loss: 0.1025 - val_loss: 2.2461\n",
            "\n",
            "Epoch 00030: val_loss did not improve from 2.05560\n"
          ],
          "name": "stdout"
        },
        {
          "output_type": "execute_result",
          "data": {
            "text/plain": [
              "<keras.callbacks.History at 0x7f68311b47f0>"
            ]
          },
          "metadata": {
            "tags": []
          },
          "execution_count": 13
        }
      ]
    },
    {
      "metadata": {
        "id": "cK4LIQtFtezG",
        "colab_type": "code",
        "colab": {
          "base_uri": "https://localhost:8080/",
          "height": 663
        },
        "outputId": "eec62178-38fd-40b1-a34b-4cd08c731adb"
      },
      "cell_type": "code",
      "source": [
        "\n",
        "# load a clean dataset\n",
        "def load_clean_sentences(filename):\n",
        "  return load(open(filename, 'rb'))\n",
        "\n",
        "# fit a tokenizer\n",
        "def create_tokenizer(lines):\n",
        "  tokenizer = Tokenizer()\n",
        "  tokenizer.fit_on_texts(lines)\n",
        "  return tokenizer\n",
        "\n",
        "# max sentence length\n",
        "def max_length(lines):\n",
        "  return max(len(line.split()) for line in lines)\n",
        "\n",
        "# encode and pad sequences\n",
        "def encode_sequences(tokenizer, length, lines):\n",
        "  # integer encode sequences\n",
        "  X = tokenizer.texts_to_sequences(lines)\n",
        "  # pad sequences with 0 values\n",
        "  X = pad_sequences(X, maxlen=length, padding='post')\n",
        "  return X\n",
        "\n",
        "# map an integer to a word\n",
        "def word_for_id(integer, tokenizer):\n",
        "  for word, index in tokenizer.word_index.items():\n",
        "    if index == integer:\n",
        "      return word\n",
        "  return None\n",
        "\n",
        "# generate target given source sequence\n",
        "def predict_sequence(model, tokenizer, source):\n",
        "  prediction = model.predict(source, verbose=0)[0]\n",
        "  integers = [argmax(vector) for vector in prediction]\n",
        "  target = list()\n",
        "  for i in integers:\n",
        "    word = word_for_id(i, tokenizer)\n",
        "    if word is None:\n",
        "      break\n",
        "    target.append(word)\n",
        "  return ' '.join(target)\n",
        "\n",
        "# evaluate the skill of the model\n",
        "def evaluate_model(model, tokenizer, sources, raw_dataset):\n",
        "  actual, predicted = list(), list()\n",
        "  for i, source in enumerate(sources):\n",
        "    # translate encoded source text\n",
        "    source = source.reshape((1, source.shape[0]))\n",
        "    translation = predict_sequence(model, eng_tokenizer, source)\n",
        "    raw_target, raw_src = raw_dataset[i]\n",
        "    if i < 10:\n",
        "      print('src=[%s], target=[%s], predicted=[%s]' % (raw_src, raw_target, translation))\n",
        "    actual.append(raw_target.split())\n",
        "    predicted.append(translation.split())\n",
        "  # calculate BLEU score\n",
        "  print('BLEU-1: %f' % corpus_bleu(actual, predicted, weights=(1.0, 0, 0, 0)))\n",
        "  print('BLEU-2: %f' % corpus_bleu(actual, predicted, weights=(0.5, 0.5, 0, 0)))\n",
        "  print('BLEU-3: %f' % corpus_bleu(actual, predicted, weights=(0.3, 0.3, 0.3, 0)))\n",
        "  print('BLEU-4: %f' % corpus_bleu(actual, predicted, weights=(0.25, 0.25, 0.25, 0.25)))\n",
        "\n",
        "# load datasets\n",
        "dataset = load_clean_sentences('english-german-both.pkl')\n",
        "train = load_clean_sentences('english-german-train.pkl')\n",
        "test = load_clean_sentences('english-german-test.pkl')\n",
        "# prepare english tokenizer\n",
        "eng_tokenizer = create_tokenizer(dataset[:, 0])\n",
        "eng_vocab_size = len(eng_tokenizer.word_index) + 1\n",
        "eng_length = max_length(dataset[:, 0])\n",
        "# prepare german tokenizer\n",
        "ger_tokenizer = create_tokenizer(dataset[:, 1])\n",
        "ger_vocab_size = len(ger_tokenizer.word_index) + 1\n",
        "ger_length = max_length(dataset[:, 1])\n",
        "# prepare data\n",
        "trainX = encode_sequences(ger_tokenizer, ger_length, train[:, 1])\n",
        "testX = encode_sequences(ger_tokenizer, ger_length, test[:, 1])\n",
        "\n",
        "# load model\n",
        "model = load_model('model.h5')\n",
        "# test on some training sequences\n",
        "print('train')\n",
        "evaluate_model(model, eng_tokenizer, trainX, train)\n",
        "# test on some test sequences\n",
        "print('test')\n",
        "evaluate_model(model, eng_tokenizer, testX, test)\n",
        "\n"
      ],
      "execution_count": 24,
      "outputs": [
        {
          "output_type": "stream",
          "text": [
            "train\n",
            "src=[frauen lieben tom], target=[women like tom], predicted=[women like tom]\n",
            "src=[bis dann], target=[see you then], predicted=[see you then]\n",
            "src=[ich bin lehrerin], target=[im a teacher], predicted=[i a a teacher]\n",
            "src=[du weit das], target=[you know this], predicted=[you know this]\n",
            "src=[wer betrog], target=[who cheated], predicted=[who cheated]\n",
            "src=[nimm dir von dem schinken], target=[have some ham], predicted=[have some ham]\n",
            "src=[ich brauche einen arzt], target=[i need a medic], predicted=[i need a medic]\n",
            "src=[das ist ein lowe], target=[this is a lion], predicted=[this is a lion]\n",
            "src=[lasst mich sehen], target=[let me see that], predicted=[let me see]\n",
            "src=[ich kann mich nicht mit tom treffen], target=[i cant see tom], predicted=[i cant see tom]\n"
          ],
          "name": "stdout"
        },
        {
          "output_type": "stream",
          "text": [
            "/usr/local/lib/python3.6/dist-packages/nltk/translate/bleu_score.py:490: UserWarning: \n",
            "Corpus/Sentence contains 0 counts of 3-gram overlaps.\n",
            "BLEU scores might be undesirable; use SmoothingFunction().\n",
            "  warnings.warn(_msg)\n"
          ],
          "name": "stderr"
        },
        {
          "output_type": "stream",
          "text": [
            "BLEU-1: 0.076043\n",
            "BLEU-2: 0.003463\n",
            "BLEU-3: 0.032511\n",
            "BLEU-4: 0.056909\n",
            "test\n",
            "src=[wir mussen gehen], target=[we need to go], predicted=[we need to go]\n",
            "src=[wirf ihn mir ruber], target=[throw it to me], predicted=[show it to me]\n",
            "src=[ich sitze in der patsche], target=[i am in trouble], predicted=[i made by bus]\n",
            "src=[tom kannte sie], target=[tom knew it], predicted=[tom knew it]\n",
            "src=[sie stand zum verkauf an], target=[it was on sale], predicted=[tom pinched him]\n",
            "src=[die dinge sind in ordnung], target=[things are fine], predicted=[theyre are]\n",
            "src=[tom liebt kinder], target=[tom loves kids], predicted=[tom loves guns]\n",
            "src=[ich bin drauen], target=[im out of here], predicted=[im freaked out]\n",
            "src=[das ist schon], target=[its beautiful], predicted=[this is big]\n",
            "src=[tom wurde reich], target=[tom became rich], predicted=[tom is rich]\n"
          ],
          "name": "stdout"
        },
        {
          "output_type": "stream",
          "text": [
            "/usr/local/lib/python3.6/dist-packages/nltk/translate/bleu_score.py:490: UserWarning: \n",
            "Corpus/Sentence contains 0 counts of 2-gram overlaps.\n",
            "BLEU scores might be undesirable; use SmoothingFunction().\n",
            "  warnings.warn(_msg)\n"
          ],
          "name": "stderr"
        },
        {
          "output_type": "stream",
          "text": [
            "BLEU-1: 0.078244\n",
            "BLEU-2: 0.275525\n",
            "BLEU-3: 0.455874\n",
            "BLEU-4: 0.517030\n"
          ],
          "name": "stdout"
        }
      ]
    },
    {
      "metadata": {
        "id": "FdgdsPp7Tk5A",
        "colab_type": "code",
        "colab": {
          "base_uri": "https://localhost:8080/",
          "height": 68
        },
        "outputId": "adf256b2-5d37-4b07-e33c-bdde1cbedd02"
      },
      "cell_type": "code",
      "source": [
        "ls"
      ],
      "execution_count": 15,
      "outputs": [
        {
          "output_type": "stream",
          "text": [
            "_about.txt   deu.txt                  english-german-test.pkl   model.png\r\n",
            "\u001b[0m\u001b[01;34mdatalab\u001b[0m/     english-german-both.pkl  english-german-train.pkl\r\n",
            "deu-eng.zip  english-german.pkl       model.h5\r\n"
          ],
          "name": "stdout"
        }
      ]
    },
    {
      "metadata": {
        "id": "W9pgewFmhCxu",
        "colab_type": "text"
      },
      "cell_type": "markdown",
      "source": [
        "#### ref: https://machinelearningmastery.com/develop-neural-machine-translation-system-keras/ "
      ]
    }
  ]
}