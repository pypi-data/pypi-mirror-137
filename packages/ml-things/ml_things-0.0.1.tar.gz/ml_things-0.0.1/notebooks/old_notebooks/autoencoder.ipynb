{
  "nbformat": 4,
  "nbformat_minor": 0,
  "metadata": {
    "colab": {
      "name": "autoencoder.ipynb",
      "version": "0.3.2",
      "provenance": [],
      "collapsed_sections": [],
      "include_colab_link": true
    },
    "kernelspec": {
      "name": "python3",
      "display_name": "Python 3"
    }
  },
  "cells": [
    {
      "cell_type": "markdown",
      "metadata": {
        "id": "view-in-github",
        "colab_type": "text"
      },
      "source": [
        "<a href=\"https://colab.research.google.com/github/gmihaila/machine_learning_toolbox/blob/master/autoencoder.ipynb\" target=\"_parent\"><img src=\"https://colab.research.google.com/assets/colab-badge.svg\" alt=\"Open In Colab\"/></a>"
      ]
    },
    {
      "metadata": {
        "id": "RImy6vgHvuLS",
        "colab_type": "text"
      },
      "cell_type": "markdown",
      "source": [
        "### Universal Autoencoder\n",
        "\n",
        "Materials: \n",
        "\n",
        "https://blog.keras.io/building-autoencoders-in-keras.html\n",
        "\n",
        "https://ramhiser.com/post/2018-05-14-autoencoders-with-keras/\n",
        "\n",
        "https://www.datacamp.com/community/tutorials/autoencoder-keras-tutorial\n",
        "\n",
        "![alt text](https://blog.keras.io/img/ae/autoencoder_schema.jpg)\n"
      ]
    },
    {
      "metadata": {
        "id": "iyenTzSTirW_",
        "colab_type": "code",
        "colab": {
          "base_uri": "https://localhost:8080/",
          "height": 34
        },
        "outputId": "c16d883e-51cd-4d75-ae7c-b4e2124c084b"
      },
      "cell_type": "code",
      "source": [
        "from IPython.display import clear_output\n",
        "\n",
        "print(\"Install pydot\")\n",
        "!apt-get -qq install -y graphviz && pip install -q pydot\n",
        "clear_output()\n",
        "\n",
        "print(\"Downloading data...\")\n",
        "\n",
        "clear_output()\n",
        "\n",
        "!ls"
      ],
      "execution_count": 1,
      "outputs": [
        {
          "output_type": "stream",
          "text": [
            "sample_data\n"
          ],
          "name": "stdout"
        }
      ]
    },
    {
      "metadata": {
        "id": "HaZfGbjrrdHS",
        "colab_type": "code",
        "colab": {}
      },
      "cell_type": "code",
      "source": [
        "from keras.models import Model\n",
        "from keras.layers import Input, Dense, Softmax\n",
        "from keras import optimizers\n",
        "from keras.utils.vis_utils import plot_model\n",
        "from IPython.display import Image\n",
        "\n",
        "\n",
        "\n",
        "\n",
        "encoding_dim = 300\n",
        "\n",
        "# input\n",
        "model_input = Input(shape=(2,), name='INPUT')\n",
        "# encoder layer\n",
        "encod = Dense(units=encoding_dim, activation='relu', name='ENCODER', use_bias=True, )(model_input)\n",
        "# decoder layer\n",
        "decode = Dense(units=2, activation='sigmoid', name='DECODER', use_bias=True, )(encod)\n",
        "\n",
        "# assemble model\n",
        "autoencoder = Model(model_input, decode)\n",
        "\n",
        "# Encoder model\n",
        "encoder = Model(model_input, encod)\n",
        "\n",
        "# Decoder model\n",
        "encoded_input = Input(shape=(encoding_dim,))\n",
        "# retrieve the last layer of the autoencoder model\n",
        "decoder_layer = autoencoder.layers[-1]\n",
        "# create the decoder model\n",
        "decoder = Model(encoded_input, decoder_layer(encoded_input))\n",
        "\n",
        "# compile model\n",
        "autoencoder.compile(optimizer='adadelta', loss='binary_crossentropy')\n",
        "\n"
      ],
      "execution_count": 0,
      "outputs": []
    },
    {
      "metadata": {
        "id": "Kogc2-LfuI1K",
        "colab_type": "code",
        "colab": {
          "base_uri": "https://localhost:8080/",
          "height": 312
        },
        "outputId": "4a6e8c99-9598-4464-b03e-d86c062ffbdf"
      },
      "cell_type": "code",
      "source": [
        "# image model\n",
        "plot_model(autoencoder, to_file='model.png', show_shapes=True, show_layer_names=True)\n",
        "Image('model.png')"
      ],
      "execution_count": 6,
      "outputs": [
        {
          "output_type": "execute_result",
          "data": {
            "image/png": "[encoded data removed]",
            "text/plain": [
              "<IPython.core.display.Image object>"
            ]
          },
          "metadata": {
            "tags": []
          },
          "execution_count": 6
        }
      ]
    },
    {
      "metadata": {
        "id": "RS0B815vvIDV",
        "colab_type": "code",
        "colab": {}
      },
      "cell_type": "code",
      "source": [
        "autoencoder.fit(x_train, x_train,\n",
        "                epochs=50,\n",
        "                batch_size=256,\n",
        "                shuffle=True,\n",
        "                validation_data=(x_test, x_test))"
      ],
      "execution_count": 0,
      "outputs": []
    },
    {
      "metadata": {
        "id": "c3WIYWT2vJYi",
        "colab_type": "code",
        "colab": {}
      },
      "cell_type": "code",
      "source": [
        "# encode and decode some digits\n",
        "# note that we take them from the *test* set\n",
        "encoded_imgs = encoder.predict(x_test)\n",
        "decoded_imgs = decoder.predict(encoded_imgs)"
      ],
      "execution_count": 0,
      "outputs": []
    }
  ]
}