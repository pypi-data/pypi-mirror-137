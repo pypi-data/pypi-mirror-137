{
  "nbformat": 4,
  "nbformat_minor": 0,
  "metadata": {
    "colab": {
      "name": "text_sum_no_generator.ipynb",
      "version": "0.3.2",
      "provenance": [],
      "collapsed_sections": []
    },
    "kernelspec": {
      "name": "python2",
      "display_name": "Python 2"
    },
    "accelerator": "GPU"
  },
  "cells": [
    {
      "cell_type": "markdown",
      "metadata": {
        "id": "view-in-github",
        "colab_type": "text"
      },
      "source": [
        "[View in Colaboratory](https://colab.research.google.com/github/gmihaila/deep_learning_toolbox/blob/master/text_sum_no_generator.ipynb)"
      ]
    },
    {
      "metadata": {
        "id": "SaVEJaZd4X-Y",
        "colab_type": "text"
      },
      "cell_type": "markdown",
      "source": [
        "## Download Data"
      ]
    },
    {
      "metadata": {
        "id": "UtjoTtBS4pbz",
        "colab_type": "text"
      },
      "cell_type": "markdown",
      "source": [
        "link for data: http://research.signalmedia.co/newsir16/signalmedia-1m.jsonl.gz"
      ]
    },
    {
      "metadata": {
        "id": "c6_3xtVm4bqk",
        "colab_type": "code",
        "colab": {
          "base_uri": "https://localhost:8080/",
          "height": 247
        },
        "outputId": "d1510ce7-c7e9-4d88-9e4e-c6a97d0b6715"
      },
      "cell_type": "code",
      "source": [
        "!wget http://research.signalmedia.co/newsir16/signalmedia-1m.jsonl.gz\n",
        "\n",
        "\n",
        "print(\"\\nFinished!\")"
      ],
      "execution_count": 0,
      "outputs": [
        {
          "output_type": "stream",
          "text": [
            "--2018-05-28 15:52:22--  http://research.signalmedia.co/newsir16/signalmedia-1m.jsonl.gz\n",
            "Resolving research.signalmedia.co (research.signalmedia.co)... 52.218.105.28\n",
            "Connecting to research.signalmedia.co (research.signalmedia.co)|52.218.105.28|:80... connected.\n",
            "HTTP request sent, awaiting response... 200 OK\n",
            "Length: 1066404716 (1017M) [application/x-gzip]\n",
            "Saving to: ‘signalmedia-1m.jsonl.gz’\n",
            "\n",
            "signalmedia-1m.json  87%[================>   ] 890.29M  25.7MB/s    eta 8s     "
          ],
          "name": "stdout"
        },
        {
          "output_type": "stream",
          "text": [
            "signalmedia-1m.json 100%[===================>]   1017M  29.7MB/s    in 53s     \n",
            "\n",
            "2018-05-28 15:53:16 (19.0 MB/s) - ‘signalmedia-1m.jsonl.gz’ saved [1066404716/1066404716]\n",
            "\n",
            "\n",
            "Finished!\n"
          ],
          "name": "stdout"
        }
      ]
    },
    {
      "metadata": {
        "id": "eQp3ngapCJUF",
        "colab_type": "text"
      },
      "cell_type": "markdown",
      "source": [
        "## Parse json and create indexes"
      ]
    },
    {
      "metadata": {
        "id": "IbVJ__gmEbxW",
        "colab_type": "text"
      },
      "cell_type": "markdown",
      "source": [
        "### Imports"
      ]
    },
    {
      "metadata": {
        "id": "qnoxcyTPdCls",
        "colab_type": "code",
        "colab": {}
      },
      "cell_type": "code",
      "source": [
        "!pip install gensim\n",
        "!apt-get -qq install -y graphviz && pip install -q pydot"
      ],
      "execution_count": 0,
      "outputs": []
    },
    {
      "metadata": {
        "id": "uSd5QG5H1qoR",
        "colab_type": "code",
        "colab": {
          "base_uri": "https://localhost:8080/",
          "height": 34
        },
        "outputId": "e14e4fc2-20b2-4b03-c35f-21f5052a1041"
      },
      "cell_type": "code",
      "source": [
        "import os\n",
        "import sys\n",
        "import json\n",
        "import gzip\n",
        "import string\n",
        "from keras.preprocessing.text import Tokenizer\n",
        "from keras.preprocessing.text import text_to_word_sequence\n",
        "from keras.preprocessing.sequence import pad_sequences\n",
        "from keras.utils import to_categorical\n",
        "from keras.utils.vis_utils import plot_model\n",
        "from keras import callbacks\n",
        "\n",
        "from keras.layers import Embedding\n",
        "from keras.layers import LSTM\n",
        "from keras.layers import RepeatVector\n",
        "from keras.layers import TimeDistributed\n",
        "from keras.layers import Dense\n",
        "from keras.layers import Input\n",
        "from keras.models import Sequential\n",
        "from keras.callbacks import ModelCheckpoint\n",
        "\n",
        "\n",
        "import numpy as np\n",
        "import cPickle as pickle\n",
        "\n",
        "import gensim\n",
        "from gensim.models import KeyedVectors\n",
        "\n",
        "from unicodedata import normalize\n",
        "\n",
        "import pydot\n",
        "from IPython.display import Image\n",
        "\n",
        "import matplotlib.pyplot as plt\n",
        "\n",
        "from nltk.translate.bleu_score import corpus_bleu\n",
        "\n",
        "import random\n",
        "\n"
      ],
      "execution_count": 1,
      "outputs": [
        {
          "output_type": "stream",
          "text": [
            "Using TensorFlow backend.\n"
          ],
          "name": "stderr"
        }
      ]
    },
    {
      "metadata": {
        "id": "HTSj-0aUFHMd",
        "colab_type": "text"
      },
      "cell_type": "markdown",
      "source": [
        "### Functions"
      ]
    },
    {
      "metadata": {
        "id": "ZbZLqG3tiumL",
        "colab_type": "code",
        "colab": {}
      },
      "cell_type": "code",
      "source": [
        "# clean text strings\n",
        "def CleanText(text):\n",
        "  # normalize unicode characters\n",
        "#   junk_words = ['\\r', '\\t', '-', '/', '!','\"','#','$','%','&','(',')','*', '+']\n",
        "  junk_words = list(string.punctuation) + ['\\r', '\\t', 'ht', '2']\n",
        "  text = normalize('NFD', text).encode('ascii', 'ignore')\n",
        "  text.replace('\\r', '')\n",
        "  \n",
        "  # split a loaded document into sentences\n",
        "  text = text.strip().split('\\n')\n",
        "  text = \" \".join([line for line in text])\n",
        "  \n",
        "  # remove junk words\n",
        "  for junk_word in junk_words:\n",
        "    text = text.translate(None, junk_word)\n",
        "  # lower case\n",
        "  text = text.lower()\n",
        "  # split on white space\n",
        "  text = text.split(' ')\n",
        "  # remove null strings\n",
        "  text = filter(None, text)\n",
        "  text = [word for word in text if len(word)< 25]\n",
        "  return text\n",
        "\n",
        "\n",
        "# fit a tokenizer\n",
        "def MyTokenizer(data, n_words):\n",
        "  # fit tokenizer\n",
        "  tokenizer = Tokenizer(num_words=n_words+1, filters=string.punctuation, lower=True, split=' ', char_level=False, oov_token='<unk>')\n",
        "  # feed each sequence\n",
        "  [tokenizer.fit_on_texts([x[0]+x[1]]) for x in data]\n",
        "  \n",
        "  tokenizer.word_index = {e:i for e,i in tokenizer.word_index.items() if i <= n_words}\n",
        "  tokenizer.word_index[tokenizer.oov_token] = n_words + 1\n",
        "\n",
        "  return tokenizer\n",
        "\n",
        "\n",
        "# encode and pad sequences\n",
        "def EncSeq(data, tokenizer, n_words, n_input, n_output, start_f=False, end_f=False):\n",
        "  # input and output\n",
        "  x, y = [], []\n",
        "  s_flag, e_flag = 0, 0\n",
        "  \n",
        "  if start_f:\n",
        "    s_flag = 1\n",
        "  if end_f:\n",
        "    e_flag = 1\n",
        "    \n",
        "  for content,title in data:\n",
        "    sequence = tokenizer.texts_to_sequences([content])\n",
        "    x.append(sequence[0])\n",
        "    \n",
        "    sequence = tokenizer.texts_to_sequences([title])\n",
        "    y.append([n_words+2] * s_flag + sequence[0] + [n_words+2] * e_flag)\n",
        "    del sequence\n",
        "    \n",
        "  x = pad_sequences(x, maxlen=n_input, padding='post')\n",
        "  y = pad_sequences(y, maxlen=(n_output + s_flag + e_flag), padding='post')\n",
        "  \n",
        "  return x,y\n",
        "\n",
        "\n",
        "# one hot encode target sequence\n",
        "def EncOutput(sequences, n_words):\n",
        "  output = []\n",
        "  for sequence in sequences:\n",
        "    seq_output = []\n",
        "    \n",
        "    for index in sequence:\n",
        "      encoded = to_categorical(index, num_classes=n_words+3).astype(int)\n",
        "      seq_output.append(encoded)\n",
        "      \n",
        "    output.append(seq_output)\n",
        "    \n",
        "  return np.array(output)\n",
        "\n",
        "\n",
        "# index word dictionary\n",
        "def IndexWord(tokenizer):\n",
        "  index_word = {}\n",
        "  for word, index in tokenizer.word_index.items():\n",
        "    index_word[index] = word\n",
        "    \n",
        "  return index_word\n",
        "\n",
        "# define model\n",
        "def define_model(n_words, n_input, n_output, n_units):\n",
        "  model = Sequential()\n",
        "  model.add(Embedding(input_dim=(n_words + 2), output_dim=n_embed, input_length=n_input, mask_zero=True, name='EMBEDDING'))\n",
        "  model.add(LSTM(units=n_units, dropout=0.0, recurrent_dropout=0.0,return_sequences=False, return_state=False, name='ENCODER_LSTM'))\n",
        "  model.add(RepeatVector(n=n_output, name='REPEAT_VECT'))\n",
        "  model.add(LSTM(units=n_units, dropout=0.0, recurrent_dropout=0.0,return_sequences=True, return_state=False, name='DECODER_LSTM'))\n",
        "  model.add(TimeDistributed(Dense(units=(n_words + 3), activation='softmax', name='DECODER_OUT')))\n",
        "  \n",
        "  return model\n",
        "\n",
        "\n",
        "# generate target given source sequence\n",
        "def Predictions(model, test_data, index_word):\n",
        "  pred_sequence = model.predict(test_data, verbose=0)\n",
        "  word_predictions = []\n",
        "  for sequence in pred_sequence:\n",
        "    word_seq = []\n",
        "    for prediction in sequence:\n",
        "      index = np.argmax(prediction)\n",
        "      word_seq.append(index_word[index])\n",
        "    word_predictions.append(word_seq)  \n",
        "\n",
        "  return word_predictions\n",
        "\n",
        "\n"
      ],
      "execution_count": 0,
      "outputs": []
    },
    {
      "metadata": {
        "id": "ZQBz7Ktj-Yi1",
        "colab_type": "text"
      },
      "cell_type": "markdown",
      "source": [
        "### Parse Data"
      ]
    },
    {
      "metadata": {
        "id": "mTMERv2t9OgC",
        "colab_type": "code",
        "colab": {
          "base_uri": "https://localhost:8080/",
          "height": 123
        },
        "outputId": "9d2ca4b6-976d-4d90-c453-d7cd9693110f"
      },
      "cell_type": "code",
      "source": [
        "dataset = []    # whole data\n",
        "\n",
        "n_input = 10    # number of tokens of article\n",
        "n_output = 5    # number of tokens in headline\n",
        "\n",
        "n_articles = 100# number of articles (data length)\n",
        "\n",
        "n_words = 20    # number of top most frequent words to use\n",
        "\n",
        "# open zip and start reading\n",
        "with gzip.open(\"signalmedia-1m.jsonl.gz\", \"rb\") as f:\n",
        "  print ('Open JSON to read...\\n')\n",
        "  \n",
        "  for index, line in enumerate(f):\n",
        "    \n",
        "    if (index+1)%100000 == 0:\n",
        "      print('Another 100,000 articles.\\n')\n",
        "      \n",
        "    # convert from JSON\n",
        "    entry = json.loads(line.decode(\"ascii\"))\n",
        "    \n",
        "    ID = entry['id']\n",
        "    content = entry['content']\n",
        "    title = entry['title']\n",
        "    media = entry['media-type']\n",
        "    source = entry['source']\n",
        "    published = entry['published']\n",
        "    \n",
        "    # clear entry variable\n",
        "    del entry\n",
        "    \n",
        "    # clean data\n",
        "    content = CleanText(content)\n",
        "    title = CleanText(title)\n",
        "    \n",
        "    # append data\n",
        "    dataset.append([content[:n_input], title[:n_output]])\n",
        "    \n",
        "    # clean memory\n",
        "    del content, title, media, source, published\n",
        "    \n",
        "    if index+1 == n_articles:\n",
        "      break\n",
        "    \n",
        "print('Dataset: %s'%len(dataset))\n",
        "print ('Articles: %s'%n_articles)\n",
        "  \n",
        "print ('\\nFinsihed!')\n"
      ],
      "execution_count": 3,
      "outputs": [
        {
          "output_type": "stream",
          "text": [
            "Open JSON to read...\n",
            "\n",
            "Dataset: 100\n",
            "Articles: 100\n",
            "\n",
            "Finsihed!\n"
          ],
          "name": "stdout"
        }
      ]
    },
    {
      "metadata": {
        "id": "LLCJo0V_IOiQ",
        "colab_type": "text"
      },
      "cell_type": "markdown",
      "source": [
        "## Tokenizing Data"
      ]
    },
    {
      "metadata": {
        "id": "l4tyjwk3IRbR",
        "colab_type": "code",
        "colab": {
          "base_uri": "https://localhost:8080/",
          "height": 52
        },
        "outputId": "1461cb5e-c645-4888-edac-253e6a4b4828"
      },
      "cell_type": "code",
      "source": [
        "# random shuffle\n",
        "np.random.shuffle(dataset)\n",
        "\n",
        "# split into train/test\n",
        "train_data, test_data = dataset[:9], dataset[9:]\n",
        "print('Train size: %s'%len(train_data))\n",
        "print('Test size: %s'%len(test_data))\n",
        "\n",
        "# create the tokenizer for words\n",
        "tokenizer = MyTokenizer(data=dataset, n_words=n_words)\n",
        "\n",
        "# create training sequences\n",
        "x_train, y_train = EncSeq(data=train_data, tokenizer=tokenizer, n_words=n_words, n_input=n_input, n_output=n_output, start_f=False, end_f=False)\n",
        "y_train = EncOutput(sequences=y_train, n_words=n_words)\n",
        "\n",
        "# create testing sequences\n",
        "x_test, y_test = EncSeq(data=test_data, tokenizer=tokenizer, n_words=n_words, n_input=n_input, n_output=n_output, start_f=False, end_f=False)\n",
        "y_test = [data[1] for data in test_data]\n",
        "\n",
        "\n"
      ],
      "execution_count": 5,
      "outputs": [
        {
          "output_type": "stream",
          "text": [
            "Train size: 9\n",
            "Test size: 91\n"
          ],
          "name": "stdout"
        }
      ]
    },
    {
      "metadata": {
        "id": "A7AMzF0ybrx6",
        "colab_type": "text"
      },
      "cell_type": "markdown",
      "source": [
        "### Model"
      ]
    },
    {
      "metadata": {
        "id": "qX9Ovtdsbtcw",
        "colab_type": "code",
        "colab": {}
      },
      "cell_type": "code",
      "source": [
        "# parameters\n",
        "n_embed = 32\n",
        "enc_lstm = 1\n",
        "n_units = 32\n",
        "n_epochs = 2\n",
        "n_batch = 32\n",
        "\n",
        "# define model\n",
        "model = define_model(n_words=n_words, n_input=n_input, n_output=n_output, n_units=n_units)\n",
        "model.compile(optimizer='adam', loss='categorical_crossentropy', metrics=['accuracy'])\n"
      ],
      "execution_count": 0,
      "outputs": []
    },
    {
      "metadata": {
        "id": "NUwXLYnEoMbr",
        "colab_type": "code",
        "colab": {
          "base_uri": "https://localhost:8080/",
          "height": 336
        },
        "outputId": "de628d80-2ed0-40c6-a927-b8e29e63bd33"
      },
      "cell_type": "code",
      "source": [
        "# summarize defined model\n",
        "print(model.summary())"
      ],
      "execution_count": 9,
      "outputs": [
        {
          "output_type": "stream",
          "text": [
            "_________________________________________________________________\n",
            "Layer (type)                 Output Shape              Param #   \n",
            "=================================================================\n",
            "EMBEDDING (Embedding)        (None, 10, 32)            704       \n",
            "_________________________________________________________________\n",
            "ENCODER_LSTM (LSTM)          (None, 32)                8320      \n",
            "_________________________________________________________________\n",
            "REPEAT_VECT (RepeatVector)   (None, 5, 32)             0         \n",
            "_________________________________________________________________\n",
            "DECODER_LSTM (LSTM)          (None, 5, 32)             8320      \n",
            "_________________________________________________________________\n",
            "time_distributed_1 (TimeDist (None, 5, 23)             759       \n",
            "=================================================================\n",
            "Total params: 18,103\n",
            "Trainable params: 18,103\n",
            "Non-trainable params: 0\n",
            "_________________________________________________________________\n",
            "None\n"
          ],
          "name": "stdout"
        }
      ]
    },
    {
      "metadata": {
        "id": "yEMkVvJdpDnf",
        "colab_type": "code",
        "colab": {
          "base_uri": "https://localhost:8080/",
          "height": 643
        },
        "outputId": "ee57bd8f-feed-4ec6-9c95-263b07a03ee3"
      },
      "cell_type": "code",
      "source": [
        "# plot model\n",
        "plot_model(model, to_file='model.png', show_shapes=True)\n",
        "Image('model.png')"
      ],
      "execution_count": 10,
      "outputs": [
        {
          "output_type": "execute_result",
          "data": {
            "image/png": "[encoded data removed]",
            "text/plain": [
              "<IPython.core.display.Image object>"
            ]
          },
          "metadata": {
            "tags": []
          },
          "execution_count": 10
        }
      ]
    },
    {
      "metadata": {
        "id": "1a_wXTngse35",
        "colab_type": "code",
        "colab": {
          "base_uri": "https://localhost:8080/",
          "height": 176
        },
        "outputId": "7eff1e73-ed1e-4df6-e3bf-bbcd2088411c"
      },
      "cell_type": "code",
      "source": [
        "# train with checkpoints\n",
        "checkpoint = ModelCheckpoint('model.h5', monitor='val_loss', verbose=1, save_best_only=True, mode='min')\n",
        "history = model.fit(x_train, y_train, epochs=n_epochs, batch_size=n_batch, validation_split=0.2, callbacks=[checkpoint], verbose=2)"
      ],
      "execution_count": 22,
      "outputs": [
        {
          "output_type": "stream",
          "text": [
            "Train on 7 samples, validate on 2 samples\n",
            "Epoch 1/2\n",
            " - 1s - loss: 3.1432 - acc: 0.0286 - val_loss: 3.1373 - val_acc: 0.0000e+00\n",
            "\n",
            "Epoch 00001: val_loss improved from inf to 3.13730, saving model to model.h5\n",
            "Epoch 2/2\n",
            " - 0s - loss: 3.1377 - acc: 0.0286 - val_loss: 3.1320 - val_acc: 0.3000\n",
            "\n",
            "Epoch 00002: val_loss improved from 3.13730 to 3.13200, saving model to model.h5\n"
          ],
          "name": "stdout"
        }
      ]
    },
    {
      "metadata": {
        "id": "cNkEp1W3wHjV",
        "colab_type": "code",
        "colab": {}
      },
      "cell_type": "code",
      "source": [
        "# save model\n",
        "model.save('final_model.h5')"
      ],
      "execution_count": 0,
      "outputs": []
    },
    {
      "metadata": {
        "id": "SFJcnMSfwTey",
        "colab_type": "code",
        "colab": {
          "base_uri": "https://localhost:8080/",
          "height": 734
        },
        "outputId": "1351faac-c47c-4d2f-9256-4201be0128bb"
      },
      "cell_type": "code",
      "source": [
        "# summarize history for loss\n",
        "plt.plot(history.history['loss'])\n",
        "plt.plot(history.history['val_loss'])\n",
        "plt.title('model loss')\n",
        "plt.ylabel('loss')\n",
        "plt.xlabel('epoch')\n",
        "plt.legend(['train', 'test'], loc='upper left')\n",
        "plt.show()\n",
        "\n",
        "# summarize history for accuracy\n",
        "plt.plot(history.history['acc'])\n",
        "plt.plot(history.history['val_acc'])\n",
        "plt.title('model accuracy')\n",
        "plt.ylabel('accuracy')\n",
        "plt.xlabel('epoch')\n",
        "plt.legend(['train', 'test'], loc='upper left')\n",
        "plt.show()"
      ],
      "execution_count": 23,
      "outputs": [
        {
          "output_type": "display_data",
          "data": {
            "image/png": "[encoded data removed]",
            "text/plain": [
              "<matplotlib.figure.Figure at 0x7f584245d8d0>"
            ]
          },
          "metadata": {
            "tags": []
          }
        },
        {
          "output_type": "display_data",
          "data": {
            "image/png": "[encoded data removed]",
            "text/plain": [
              "<matplotlib.figure.Figure at 0x7f5842436e50>"
            ]
          },
          "metadata": {
            "tags": []
          }
        }
      ]
    },
    {
      "metadata": {
        "id": "Uwgfs9K5ykRF",
        "colab_type": "text"
      },
      "cell_type": "markdown",
      "source": [
        "### Predict"
      ]
    },
    {
      "metadata": {
        "id": "NLFOZ1yUyjOQ",
        "colab_type": "code",
        "colab": {
          "base_uri": "https://localhost:8080/",
          "height": 194
        },
        "outputId": "10a14403-a033-462c-c556-1a575444dc20"
      },
      "cell_type": "code",
      "source": [
        "# evaluate on BLEU score\n",
        "index_word = IndexWord(tokenizer)\n",
        "\n",
        "y_hat = Predictions(model=model, test_data=x_test, index_word=index_word)\n",
        "\n",
        "print('BLEU-1: %f' % corpus_bleu(y_test, y_hat, weights=(1.0, 0, 0, 0)))\n",
        "print('BLEU-2: %f' % corpus_bleu(y_test, y_hat, weights=(0.5, 0.5, 0, 0)))\n",
        "print('BLEU-3: %f' % corpus_bleu(y_test, y_hat, weights=(0.3, 0.3, 0.3, 0)))\n",
        "print('BLEU-4: %f' % corpus_bleu(y_test, y_hat, weights=(0.25, 0.25, 0.25, 0.25)))\n",
        "print('')\n",
        "\n",
        "for index in range(1):\n",
        "  print('Original:\\t%s'%y_test[index])\n",
        "  print('----------')\n",
        "  print('Predicted:\\t%s\\n\\n'%y_hat[index])\n",
        "  "
      ],
      "execution_count": 24,
      "outputs": [
        {
          "output_type": "stream",
          "text": [
            "BLEU-1: 0.000000\n",
            "BLEU-2: 0.000000\n",
            "BLEU-3: 0.000000\n",
            "BLEU-4: 0.000000\n",
            "\n",
            "Original:\t['police', 'ciefs', 'warn', 'minisers', 'were']\n",
            "----------\n",
            "Predicted:\t['<unk>', '<unk>', '<unk>', '015', 'for']\n",
            "\n",
            "\n"
          ],
          "name": "stdout"
        }
      ]
    },
    {
      "metadata": {
        "id": "jpgYKC0XR2fj",
        "colab_type": "text"
      },
      "cell_type": "markdown",
      "source": [
        "### Word Embeddings - Not implemented yet.\n",
        "For now is creating its own embeddings for words while it trains.\n",
        "I will implement the pre-set word embeddings"
      ]
    },
    {
      "metadata": {
        "id": "LsNlmHQnR8ZQ",
        "colab_type": "code",
        "colab": {
          "base_uri": "https://localhost:8080/",
          "height": 336
        },
        "outputId": "dd43ad0d-35ff-456a-dcd7-b47acc763621"
      },
      "cell_type": "code",
      "source": [
        "!wget https://s3.amazonaws.com/dl4j-distribution/GoogleNews-vectors-negative300.bin.gz\n",
        "  \n",
        "!gunzip GoogleNews-vectors-negative300.bin.gz\n",
        "\n",
        "!ls"
      ],
      "execution_count": 0,
      "outputs": [
        {
          "output_type": "stream",
          "text": [
            "--2018-05-28 04:16:37--  https://s3.amazonaws.com/dl4j-distribution/GoogleNews-vectors-negative300.bin.gz\r\n",
            "Resolving s3.amazonaws.com (s3.amazonaws.com)... 52.216.225.107\n",
            "Connecting to s3.amazonaws.com (s3.amazonaws.com)|52.216.225.107|:443... connected.\n",
            "HTTP request sent, awaiting response... 200 OK\n",
            "Length: 1647046227 (1.5G) [application/x-gzip]\n",
            "Saving to: ‘GoogleNews-vectors-negative300.bin.gz’\n",
            "\n",
            "300.bin.gz           93%[=================>  ]   1.44G  46.9MB/s    eta 4s     "
          ],
          "name": "stdout"
        },
        {
          "output_type": "stream",
          "text": [
            "GoogleNews-vectors- 100%[===================>]   1.53G  47.0MB/s    in 47s     \n",
            "\n",
            "2018-05-28 04:17:25 (33.2 MB/s) - ‘GoogleNews-vectors-negative300.bin.gz’ saved [1647046227/1647046227]\n",
            "\n",
            "_about.txt\t\t english-german-train.pkl\n",
            "datalab\t\t\t final_model.h5\n",
            "deu-eng.zip\t\t GoogleNews-vectors-negative300.bin\n",
            "deu.txt\t\t\t model.h5\n",
            "english-german-both.pkl  model.png\n",
            "english-german.pkl\t signalmedia-1m.jsonl.gz\n",
            "english-german-test.pkl\n"
          ],
          "name": "stdout"
        }
      ]
    },
    {
      "metadata": {
        "id": "brFn0oTrcH_f",
        "colab_type": "code",
        "colab": {}
      },
      "cell_type": "code",
      "source": [
        "filename = 'GoogleNews-vectors-negative300.bin'\n",
        "model = KeyedVectors.load_word2vec_format(filename, binary=True)"
      ],
      "execution_count": 0,
      "outputs": []
    },
    {
      "metadata": {
        "id": "xMhrmJ6cco3W",
        "colab_type": "code",
        "colab": {}
      },
      "cell_type": "code",
      "source": [
        "result = model.most_similar(positive=['woman', 'king'], negative=['man'], topn=1)\n",
        "print(result)"
      ],
      "execution_count": 0,
      "outputs": []
    },
    {
      "metadata": {
        "id": "rjcCIt88dnmU",
        "colab_type": "code",
        "colab": {}
      },
      "cell_type": "code",
      "source": [
        "model.save_word2vec_format('GoogleNews-vectors-negative300.txt', binary=False)\n"
      ],
      "execution_count": 0,
      "outputs": []
    }
  ]
}