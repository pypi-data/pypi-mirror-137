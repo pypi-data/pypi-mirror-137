{
 "cells": [
  {
   "cell_type": "code",
   "execution_count": 1,
   "id": "e8f9be9f",
   "metadata": {
    "execution": {
     "iopub.execute_input": "2022-02-04T06:46:46.087768Z",
     "iopub.status.busy": "2022-02-04T06:46:46.077483Z",
     "iopub.status.idle": "2022-02-04T06:46:46.571840Z",
     "shell.execute_reply": "2022-02-04T06:46:46.571214Z"
    }
   },
   "outputs": [
    {
     "name": "stdout",
     "output_type": "stream",
     "text": [
      "I_B_rel_O = 65*m/3*(N.x|N.x) + 6*m*(N.x|N.y) - 12*m*(N.x|N.z) + 6*m*(N.y|N.x) + 325*m/12*(N.y|N.y) + 8*m*(N.y|N.z) - 12*m*(N.z|N.x) + 8*m*(N.z|N.y) + 169*m/12*(N.z|N.z)\n",
      "\n",
      "I_B*_rel_O = 20*m*(N.x|N.x) + 25*m*(N.y|N.y) + 13*m*(N.z|N.z) + 6*m*(N.x|N.y) - 12*m*(N.x|N.z) + 6*m*(N.y|N.x) + 8*m*(N.y|N.z) - 12*m*(N.z|N.x) + 8*m*(N.z|N.y)\n",
      "\n",
      "I_B_rel_B* = 5*m/3*(N.x|N.x) + 25*m/12*(N.y|N.y) + 13*m/12*(N.z|N.z)\n",
      "\n",
      "I_B*_rel_Q = 4*m*(N.x|N.x) + 9*m*(N.y|N.y) + 13*m*(N.z|N.z) + 6*m*(N.x|N.y) + 6*m*(N.y|N.x)\n",
      "\n",
      "I_B_rel_Q = 17*m/3*(N.x|N.x) + 133*m/12*(N.y|N.y) + 169*m/12*(N.z|N.z) + 6*m*(N.x|N.y) + 6*m*(N.y|N.x)\n",
      "\n",
      "n_a = 3/5*N.x - 4/5*N.z\n",
      "\n",
      "I_a_a_B_Q = 829*m/75 = 3316/25\n"
     ]
    }
   ],
   "source": [
    "from sympy.physics.mechanics import ReferenceFrame, Point\n",
    "from sympy.physics.mechanics import inertia, inertia_of_point_mass\n",
    "from sympy.physics.mechanics import dot\n",
    "from sympy import symbols\n",
    "from sympy import S\n",
    "\n",
    "m = symbols('m')\n",
    "m_val = 12\n",
    "\n",
    "N = ReferenceFrame('N')\n",
    "pO = Point('O')\n",
    "pBs = pO.locatenew('B*', -3*N.x + 2*N.y - 4*N.z)\n",
    "\n",
    "I_B_O = inertia(N, 260*m/m_val, 325*m/m_val, 169*m/m_val,\n",
    "                72*m/m_val, 96*m/m_val, -144*m/m_val)\n",
    "print(\"I_B_rel_O = {0}\".format(I_B_O))\n",
    "\n",
    "I_Bs_O = inertia_of_point_mass(m, pBs.pos_from(pO), N)\n",
    "print(\"\\nI_B*_rel_O = {0}\".format(I_Bs_O))\n",
    "\n",
    "I_B_Bs = I_B_O - I_Bs_O\n",
    "print(\"\\nI_B_rel_B* = {0}\".format(I_B_Bs))\n",
    "\n",
    "pQ = pO.locatenew('Q', -4*N.z)\n",
    "I_Bs_Q = inertia_of_point_mass(m, pBs.pos_from(pQ), N)\n",
    "print(\"\\nI_B*_rel_Q = {0}\".format(I_Bs_Q))\n",
    "\n",
    "I_B_Q = I_B_Bs + I_Bs_Q\n",
    "print(\"\\nI_B_rel_Q = {0}\".format(I_B_Q))\n",
    "\n",
    "# n_a is a vector parallel to line PQ\n",
    "n_a = S(3)/5 * N.x - S(4)/5 * N.z\n",
    "I_a_a_B_Q = dot(dot(n_a, I_B_Q), n_a)\n",
    "print(\"\\nn_a = {0}\".format(n_a))\n",
    "print(\"\\nI_a_a_B_Q = {0} = {1}\".format(I_a_a_B_Q, I_a_a_B_Q.subs(m, m_val)))"
   ]
  }
 ],
 "metadata": {
  "kernelspec": {
   "display_name": "Python 3 (ipykernel)",
   "language": "python",
   "name": "python3"
  },
  "language_info": {
   "codemirror_mode": {
    "name": "ipython",
    "version": 3
   },
   "file_extension": ".py",
   "mimetype": "text/x-python",
   "name": "python",
   "nbconvert_exporter": "python",
   "pygments_lexer": "ipython3",
   "version": "3.7.12"
  }
 },
 "nbformat": 4,
 "nbformat_minor": 5
}