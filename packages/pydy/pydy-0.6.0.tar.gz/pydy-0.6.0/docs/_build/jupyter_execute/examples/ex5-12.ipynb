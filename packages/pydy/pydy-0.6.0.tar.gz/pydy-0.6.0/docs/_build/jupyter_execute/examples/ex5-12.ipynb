{
 "cells": [
  {
   "cell_type": "code",
   "execution_count": 1,
   "id": "07d12d73",
   "metadata": {
    "execution": {
     "iopub.execute_input": "2022-02-04T06:46:44.964106Z",
     "iopub.status.busy": "2022-02-04T06:46:44.963676Z",
     "iopub.status.idle": "2022-02-04T06:46:45.021415Z",
     "shell.execute_reply": "2022-02-04T06:46:45.021803Z"
    }
   },
   "outputs": [
    {
     "name": "stdout",
     "output_type": "stream",
     "text": [
      "Moment of inertia of B with respect to a line that is parallel to\n",
      "line PQ and passes through point O.\n",
      "340.0 kg m**2\n"
     ]
    }
   ],
   "source": [
    "import numpy as np\n",
    "\n",
    "# n_a = 3/5*n_1 - 4/5*n_3. Substituting n_i for e_i results in\n",
    "# n_a = 4/5*e_1 + 3/5*n_2.\n",
    "a = np.matrix([4/5, 3/5, 0])\n",
    "Iij = np.matrix([[169, 144, -96],\n",
    "                 [144, 260, 72],\n",
    "                 [-96, 72, 325]])\n",
    "\n",
    "print(\"Moment of inertia of B with respect to a line that is parallel to\")\n",
    "print(\"line PQ and passes through point O.\")\n",
    "print(\"{0} kg m**2\".format((a * Iij * a.T).item(0)))"
   ]
  }
 ],
 "metadata": {
  "kernelspec": {
   "display_name": "Python 3 (ipykernel)",
   "language": "python",
   "name": "python3"
  },
  "language_info": {
   "codemirror_mode": {
    "name": "ipython",
    "version": 3
   },
   "file_extension": ".py",
   "mimetype": "text/x-python",
   "name": "python",
   "nbconvert_exporter": "python",
   "pygments_lexer": "ipython3",
   "version": "3.7.12"
  }
 },
 "nbformat": 4,
 "nbformat_minor": 5
}