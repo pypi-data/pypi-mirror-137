{
 "cells": [
  {
   "cell_type": "code",
   "execution_count": 1,
   "id": "12d54540",
   "metadata": {
    "execution": {
     "iopub.execute_input": "2022-02-04T06:46:47.514364Z",
     "iopub.status.busy": "2022-02-04T06:46:47.498338Z",
     "iopub.status.idle": "2022-02-04T06:46:53.730739Z",
     "shell.execute_reply": "2022-02-04T06:46:53.731224Z"
    }
   },
   "outputs": [
    {
     "name": "stdout",
     "output_type": "stream",
     "text": [
      "\n",
      "I_1s_rel_O = b**2*m/4*(N.x|N.x) + b**2*m/4*(N.y|N.y) + b**2*m/2*(N.z|N.z) - b**2*m/4*(N.x|N.y) - b**2*m/4*(N.y|N.x)\n",
      "\n",
      "I_2s_rel_O = b**2*m/2*(N.x|N.x) + 5*b**2*m/4*(N.y|N.y) + 5*b**2*m/4*(N.z|N.z) - b**2*m/2*(N.x|N.y) - b**2*m/2*(N.x|N.z) - b**2*m/2*(N.y|N.x) - b**2*m/4*(N.y|N.z) - b**2*m/2*(N.z|N.x) - b**2*m/4*(N.z|N.y)\n",
      "\n",
      "I_3s_rel_O = m*(b**2*(2 - cos(theta))**2/4 + b**2/4)*(N.x|N.x) + m*(b**2*(sin(theta) + 2)**2/4 + b**2/4)*(N.y|N.y) + m*(b**2*(2 - cos(theta))**2/4 + b**2*(sin(theta) + 2)**2/4)*(N.z|N.z) - b**2*m*(2 - cos(theta))*(sin(theta) + 2)/4*(N.x|N.y) - b**2*m*(sin(theta) + 2)/4*(N.x|N.z) - b**2*m*(2 - cos(theta))*(sin(theta) + 2)/4*(N.y|N.x) - b**2*m*(2 - cos(theta))/4*(N.y|N.z) - b**2*m*(sin(theta) + 2)/4*(N.z|N.x) - b**2*m*(2 - cos(theta))/4*(N.z|N.y)\n",
      "\n",
      "I_1_rel_O = b**2*m/3*(N.x|N.x) + b**2*m/3*(N.y|N.y) + 2*b**2*m/3*(N.z|N.z) - b**2*m/4*(N.x|N.y) - b**2*m/4*(N.y|N.x)\n",
      "\n",
      "I_2_rel_O = 2*b**2*m/3*(N.x|N.x) + 4*b**2*m/3*(N.y|N.y) + 4*b**2*m/3*(N.z|N.z) - b**2*m/2*(N.x|N.y) - b**2*m/2*(N.x|N.z) - b**2*m/2*(N.y|N.x) - b**2*m/4*(N.y|N.z) - b**2*m/2*(N.z|N.x) - b**2*m/4*(N.z|N.y)\n",
      "\n",
      "I_3_rel_O = (b**2*m*(cos(theta)**2 + 1)/12 + m*(b**2*(2 - cos(theta))**2/4 + b**2/4))*(N.x|N.x) + (-b**2*m*(2 - cos(theta))*(sin(theta) + 2)/4 + b**2*m*sin(2*theta)/24)*(N.x|N.y) + (-b**2*m*(2 - cos(theta))*(sin(theta) + 2)/4 + b**2*m*sin(2*theta)/24)*(N.y|N.x) + (b**2*m*(sin(theta)**2 + 1)/12 + m*(b**2*(sin(theta) + 2)**2/4 + b**2/4))*(N.y|N.y) + (b**2*m/12 + m*(b**2*(2 - cos(theta))**2/4 + b**2*(sin(theta) + 2)**2/4))*(N.z|N.z) - b**2*m*(sin(theta) + 2)/4*(N.x|N.z) - b**2*m*(2 - cos(theta))/4*(N.y|N.z) - b**2*m*(sin(theta) + 2)/4*(N.z|N.x) - b**2*m*(2 - cos(theta))/4*(N.z|N.y)\n",
      "\n",
      "I_B_rel_O = (b**2*m*(cos(theta)**2 + 1)/12 + b**2*m + m*(b**2*(2 - cos(theta))**2/4 + b**2/4))*(N.x|N.x) + (b**2*m*(sin(theta)**2 + 1)/12 + 5*b**2*m/3 + m*(b**2*(sin(theta) + 2)**2/4 + b**2/4))*(N.y|N.y) + (25*b**2*m/12 + m*(b**2*(2 - cos(theta))**2/4 + b**2*(sin(theta) + 2)**2/4))*(N.z|N.z) + (-b**2*m*(2 - cos(theta))*(sin(theta) + 2)/4 + b**2*m*sin(2*theta)/24 - 3*b**2*m/4)*(N.x|N.y) + (-b**2*m*(2 - cos(theta))*(sin(theta) + 2)/4 + b**2*m*sin(2*theta)/24 - 3*b**2*m/4)*(N.y|N.x) + (-b**2*m*(sin(theta) + 2)/4 - b**2*m/2)*(N.x|N.z) + (-b**2*m*(2 - cos(theta))/4 - b**2*m/4)*(N.y|N.z) + (-b**2*m*(sin(theta) + 2)/4 - b**2*m/2)*(N.z|N.x) + (-b**2*m*(2 - cos(theta))/4 - b**2*m/4)*(N.z|N.y)\n",
      "\n",
      "n_a = sqrt(2)/2*N.x + sqrt(2)/2*N.z\n"
     ]
    },
    {
     "name": "stdout",
     "output_type": "stream",
     "text": [
      "\n",
      "I_a_a_B_rel_O = b**2*m*(-4*sin(theta)**2 + 6*sin(theta) - 24*cos(theta) + 60)/24\n",
      "\n",
      "k_a = b*sqrt(3*sin(theta) - 12*cos(theta) + cos(2*theta) + 29)/6\n"
     ]
    },
    {
     "name": "stdout",
     "output_type": "stream",
     "text": [
      "\n",
      "dk_a/dtheta = b*(6*sin(theta) - sin(2*theta) + 3*cos(theta)/2)/(6*sqrt(3*sin(theta) - 12*cos(theta) + cos(2*theta) + 29))\n"
     ]
    },
    {
     "name": "stdout",
     "output_type": "stream",
     "text": [
      "\n"
     ]
    },
    {
     "name": "stdout",
     "output_type": "stream",
     "text": [
      "k_a(169.335342108210) = 1.08371034822267*b\n"
     ]
    },
    {
     "name": "stdout",
     "output_type": "stream",
     "text": [
      "k_a(-20.0025512645583) = 0.696492652799896*b\n"
     ]
    }
   ],
   "source": [
    "from sympy.physics.mechanics import ReferenceFrame, Point\n",
    "from sympy.physics.mechanics import inertia, inertia_of_point_mass\n",
    "from sympy.physics.mechanics import dot\n",
    "from sympy import solve, sqrt, symbols, diff\n",
    "from sympy import sin, cos, pi, Matrix\n",
    "from sympy import simplify\n",
    "\n",
    "b, m, k_a = symbols('b m k_a', real=True, nonnegative=True)\n",
    "theta = symbols('theta', real=True)\n",
    "\n",
    "N = ReferenceFrame('N')\n",
    "N2 = N.orientnew('N2', 'Axis', [theta, N.z])\n",
    "pO = Point('O')\n",
    "pP1s = pO.locatenew('P1*', b/2 * (N.x + N.y))\n",
    "pP2s = pO.locatenew('P2*', b/2 * (2*N.x + N.y + N.z))\n",
    "pP3s = pO.locatenew('P3*', b/2 * ((2 + sin(theta))*N.x +\n",
    "                                 (2 - cos(theta))*N.y +\n",
    "                                 N.z))\n",
    "\n",
    "I_1s_O = inertia_of_point_mass(m, pP1s.pos_from(pO), N)\n",
    "I_2s_O = inertia_of_point_mass(m, pP2s.pos_from(pO), N)\n",
    "I_3s_O = inertia_of_point_mass(m, pP3s.pos_from(pO), N)\n",
    "print(\"\\nI_1s_rel_O = {0}\".format(I_1s_O))\n",
    "print(\"\\nI_2s_rel_O = {0}\".format(I_2s_O))\n",
    "print(\"\\nI_3s_rel_O = {0}\".format(I_3s_O))\n",
    "\n",
    "\n",
    "I_1_1s = inertia(N, m*b**2/12, m*b**2/12, 2*m*b**2/12)\n",
    "I_2_2s = inertia(N, 2*m*b**2/12, m*b**2/12, m*b**2/12)\n",
    "\n",
    "I_3_3s_N2 = Matrix([[2, 0, 0],\n",
    "                    [0, 1, 0],\n",
    "                    [0, 0, 1]])\n",
    "I_3_3s_N = m*b**2/12 * simplify(N.dcm(N2) * I_3_3s_N2 * N2.dcm(N))\n",
    "I_3_3s = inertia(N, I_3_3s_N[0, 0], I_3_3s_N[1, 1], I_3_3s_N[2, 2],\n",
    "                 I_3_3s_N[0, 1], I_3_3s_N[1, 2], I_3_3s_N[2, 0])\n",
    "\n",
    "I_1_O = I_1_1s + I_1s_O\n",
    "I_2_O = I_2_2s + I_2s_O\n",
    "I_3_O = I_3_3s + I_3s_O\n",
    "print(\"\\nI_1_rel_O = {0}\".format(I_1_O))\n",
    "print(\"\\nI_2_rel_O = {0}\".format(I_2_O))\n",
    "print(\"\\nI_3_rel_O = {0}\".format(I_3_O))\n",
    "\n",
    "# assembly inertia tensor is the sum of the inertia tensor of each component\n",
    "I_B_O = I_1_O + I_2_O + I_3_O\n",
    "print(\"\\nI_B_rel_O = {0}\".format(I_B_O))\n",
    "\n",
    "# n_a is parallel to line L\n",
    "n_a = sqrt(2) / 2 * (N.x + N.z)\n",
    "print(\"\\nn_a = {0}\".format(n_a))\n",
    "\n",
    "# calculate moment of inertia of for point O of assembly about line L\n",
    "I_a_a_B_O = simplify(dot(n_a, dot(I_B_O, n_a)))\n",
    "print(\"\\nI_a_a_B_rel_O = {0}\".format(I_a_a_B_O))\n",
    "\n",
    "# use the second value since k_a is non-negative\n",
    "k_a_val = solve(I_a_a_B_O - 3 * m * k_a**2, k_a)[1]\n",
    "print(\"\\nk_a = {0}\".format(k_a_val))\n",
    "\n",
    "dk_a_dtheta = diff(k_a_val, theta)\n",
    "print(\"\\ndk_a/dtheta = {0}\".format(dk_a_dtheta))\n",
    "\n",
    "# solve for theta = 0 using a simplified expression or\n",
    "# else no solution will be found\n",
    "soln = solve(3*cos(theta) + 12*sin(theta) - 4*sin(theta)*cos(theta), theta)\n",
    "# ignore complex values of theta\n",
    "theta_vals = [s for s in soln if s.is_real]\n",
    "\n",
    "print(\"\")\n",
    "for th in theta_vals:\n",
    "    print(\"k_a({0}) = {1}\".format((th * 180 / pi).evalf(),\n",
    "                                  k_a_val.subs(theta, th).evalf()))"
   ]
  }
 ],
 "metadata": {
  "kernelspec": {
   "display_name": "Python 3 (ipykernel)",
   "language": "python",
   "name": "python3"
  },
  "language_info": {
   "codemirror_mode": {
    "name": "ipython",
    "version": 3
   },
   "file_extension": ".py",
   "mimetype": "text/x-python",
   "name": "python",
   "nbconvert_exporter": "python",
   "pygments_lexer": "ipython3",
   "version": "3.7.12"
  }
 },
 "nbformat": 4,
 "nbformat_minor": 5
}