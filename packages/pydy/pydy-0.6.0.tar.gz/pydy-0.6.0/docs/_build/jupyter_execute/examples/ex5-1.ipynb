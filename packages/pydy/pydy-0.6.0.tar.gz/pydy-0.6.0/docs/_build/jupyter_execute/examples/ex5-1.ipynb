{
 "cells": [
  {
   "cell_type": "code",
   "execution_count": 1,
   "id": "f60af005",
   "metadata": {
    "execution": {
     "iopub.execute_input": "2022-02-04T06:46:13.148478Z",
     "iopub.status.busy": "2022-02-04T06:46:13.147883Z",
     "iopub.status.idle": "2022-02-04T06:46:13.680251Z",
     "shell.execute_reply": "2022-02-04T06:46:13.679872Z"
    }
   },
   "outputs": [],
   "source": [
    "from sympy import symbols, integrate\n",
    "from sympy import pi, acos\n",
    "from sympy import Matrix, S, simplify\n",
    "from sympy.physics.mechanics import dot, ReferenceFrame\n",
    "import scipy.integrate\n",
    "\n",
    "\n",
    "def eval_v(v, N):\n",
    "   return sum(dot(v, n).evalf() * n for n in N)\n",
    "\n",
    "\n",
    "def integrate_v(integrand, rf, bounds):\n",
    "   \"\"\"Return the integral for a Vector integrand.\"\"\"\n",
    "   # integration problems if option meijerg=True is not used\n",
    "   return sum(simplify(integrate(dot(integrand, n),\n",
    "                                 bounds,\n",
    "                                 meijerg=True)) * n for n in rf)\n",
    "\n",
    "m, R = symbols('m R', real=True, nonnegative=True)\n",
    "theta, r, x, y, z = symbols('theta r x y z', real=True)"
   ]
  },
  {
   "cell_type": "code",
   "execution_count": 2,
   "id": "34b12973",
   "metadata": {
    "execution": {
     "iopub.execute_input": "2022-02-04T06:46:13.689059Z",
     "iopub.status.busy": "2022-02-04T06:46:13.688720Z",
     "iopub.status.idle": "2022-02-04T06:46:28.289058Z",
     "shell.execute_reply": "2022-02-04T06:46:28.289535Z"
    }
   },
   "outputs": [
    {
     "name": "stdout",
     "output_type": "stream",
     "text": [
      "a) mass center of surface area\n",
      "dJ = r\n"
     ]
    },
    {
     "name": "stdout",
     "output_type": "stream",
     "text": [
      "cm = ((-Integral(x*acos(1 - x), (x, 0, 2)) + 2*pi)/pi + 1)*A.x - R/2*A.y\n"
     ]
    }
   ],
   "source": [
    "A = ReferenceFrame('A')\n",
    "\n",
    "# part a\n",
    "print(\"a) mass center of surface area\")\n",
    "SA = (2 * pi * R) * 2\n",
    "rho_a = m / SA\n",
    "\n",
    "B = A.orientnew('B', 'Axis', [theta, A.x])\n",
    "p = x * A.x  + r * B.y\n",
    "y_ = dot(p, A.y)\n",
    "z_ = dot(p, A.z)\n",
    "J = Matrix([x, y_, z_]).jacobian([x, r, theta])\n",
    "dJ = simplify(J.det())\n",
    "print(\"dJ = {0}\".format(dJ))\n",
    "\n",
    "# calculate center of mass for the cut cylinder\n",
    "# ranges from x = [1, 3], y = [-1, 1], z = [-1, 1] in Fig. P5.1\n",
    "mass_cc_a = rho_a * 2*pi*R\n",
    "cm_cc_a = (integrate_v(integrate_v((rho_a * p * dJ).subs(r, R),\n",
    "                                   A, (theta, acos(1-x),\n",
    "                                   2*pi - acos(1-x))),\n",
    "                                   A, (x, 0, 2)) / mass_cc_a + A.x)\n",
    "print(\"cm = {0}\".format(cm_cc_a))"
   ]
  },
  {
   "cell_type": "code",
   "execution_count": 3,
   "id": "eb2c1d6d",
   "metadata": {
    "execution": {
     "iopub.execute_input": "2022-02-04T06:46:28.343888Z",
     "iopub.status.busy": "2022-02-04T06:46:28.307634Z",
     "iopub.status.idle": "2022-02-04T06:46:38.093422Z",
     "shell.execute_reply": "2022-02-04T06:46:38.092813Z"
    }
   },
   "outputs": [
    {
     "name": "stdout",
     "output_type": "stream",
     "text": [
      "center of mass = (m/4 + m*((-Integral(x*acos(1 - x), (x, 0, 2)) + 2*pi)/pi + 1)/2)/m*A.x - 1/4*A.y\n",
      "b) mass center of volume\n"
     ]
    },
    {
     "name": "stdout",
     "output_type": "stream",
     "text": [
      "cm = (1.96349540850478/pi + 1)*A.x - 0.785398163387119/pi*A.y\n",
      "center of mass = 1.06250000000178*A.x - 0.124999999998356*A.y\n"
     ]
    }
   ],
   "source": [
    "mass_cyl_a = rho_a * 2*pi*R\n",
    "cm_cyl_a = A.x/S(2)\n",
    "\n",
    "cm_a = (mass_cyl_a*cm_cyl_a + mass_cc_a*cm_cc_a) / m\n",
    "print(\"center of mass = {0}\".format(cm_a.subs(R, 1)))\n",
    "# part b\n",
    "print(\"b) mass center of volume\")\n",
    "V = (pi*R**2) * 2\n",
    "rho_b = m / V\n",
    "mass_cc_b = rho_b * pi*R**2\n",
    "\n",
    "# calculate center of mass for the cut cylinder\n",
    "# ranges from x = [1, 3], y = [-1, 1], z = [-1, 1] in Fig. P5.1\n",
    "# compute the value using scipy due to issues with sympy\n",
    "R_ = 1\n",
    "def pos(z, y, x, coord):\n",
    "   if coord == 0:\n",
    "      return x\n",
    "   elif coord == 1:\n",
    "      return y\n",
    "   elif coord == 2:\n",
    "      return z\n",
    "   else:\n",
    "      raise ValueError\n",
    "# y bounds\n",
    "def ybu(x):\n",
    "   return R_*(1 - x)\n",
    "def ybl(x):\n",
    "   return -R_\n",
    "# z bounds\n",
    "def zbu(x, y):\n",
    "   return (R_**2 - y**2)**0.5\n",
    "def zbl(x, y):\n",
    "   return -1 * zbu(x, y)\n",
    "\n",
    "cm_cc_b = 0\n",
    "for i, b in enumerate(A):\n",
    "   p_i = lambda z, y, x: pos(z, y, x, i)\n",
    "   cm_cc_b += scipy.integrate.tplquad(p_i, 0, 2, ybl, ybu, zbl, zbu)[0] * b\n",
    "cm_cc_b *= (rho_b / mass_cc_b).subs(R, R_)\n",
    "cm_cc_b += A.x\n",
    "\n",
    "#integrand = rho_b * (x*A.x + y*A.y + z*A.z)\n",
    "#cm_cc_b = (integrate_v(integrate_v(integrate_v(integrand,\n",
    "#                                               A, (z,\n",
    "#                                                   -sqrt(R**2 - y**2),\n",
    "#                                                   sqrt(R**2 - y**2))),\n",
    "#                                   A, (y, -R, R*(1 - x))),\n",
    "#                       A, (x, 0, 2)) / mass_cc_b +\n",
    "#           A.x)\n",
    "print(\"cm = {0}\".format(cm_cc_b))\n",
    "\n",
    "mass_cyl_b = rho_b * pi*R**2\n",
    "cm_cyl_b = A.x/S(2)\n",
    "\n",
    "cm_b = (mass_cyl_b*cm_cyl_b + mass_cc_b*cm_cc_b) / m\n",
    "print(\"center of mass = {0}\".format(eval_v(cm_b.subs(R, 1), A)))"
   ]
  }
 ],
 "metadata": {
  "kernelspec": {
   "display_name": "Python 3 (ipykernel)",
   "language": "python",
   "name": "python3"
  },
  "language_info": {
   "codemirror_mode": {
    "name": "ipython",
    "version": 3
   },
   "file_extension": ".py",
   "mimetype": "text/x-python",
   "name": "python",
   "nbconvert_exporter": "python",
   "pygments_lexer": "ipython3",
   "version": "3.7.12"
  }
 },
 "nbformat": 4,
 "nbformat_minor": 5
}