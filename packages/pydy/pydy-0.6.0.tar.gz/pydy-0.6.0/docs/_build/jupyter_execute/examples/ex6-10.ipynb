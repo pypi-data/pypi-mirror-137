{
 "cells": [
  {
   "cell_type": "code",
   "execution_count": 1,
   "id": "b78a2771",
   "metadata": {
    "execution": {
     "iopub.execute_input": "2022-02-04T06:46:56.720582Z",
     "iopub.status.busy": "2022-02-04T06:46:56.719975Z",
     "iopub.status.idle": "2022-02-04T06:46:57.541722Z",
     "shell.execute_reply": "2022-02-04T06:46:57.542201Z"
    }
   },
   "outputs": [
    {
     "name": "stdout",
     "output_type": "stream",
     "text": [
      "\n",
      "I_C_rel_A = (-pi*r**4*rho/4 + 32*r**4*rho + 4*r**2*(-pi*r**2*rho + 24*r**2*rho))*(N.x|N.x) + (-pi*r**4*rho/4 + 72*r**4*rho + 9*r**2*(-pi*r**2*rho + 24*r**2*rho))*(N.y|N.y) + (-pi*r**4*rho/2 + 104*r**4*rho + 13*r**2*(-pi*r**2*rho + 24*r**2*rho))*(N.z|N.z) + 6*r**2*(-pi*r**2*rho + 24*r**2*rho)*(N.x|N.y) + 6*r**2*(-pi*r**2*rho + 24*r**2*rho)*(N.y|N.x)\n"
     ]
    },
    {
     "name": "stdout",
     "output_type": "stream",
     "text": [
      "\n",
      "Vectors parallel to the principal axis for point A of Body C and the\n",
      "corresponding angle between the principal axis and line AB (degrees):\n",
      "N.z\t90.0000000000000\n",
      "- 1.73073714765796*N.x + N.y\t30.0188275011498\n",
      "0.57778848819025*N.x + N.y\t59.9811724988502\n"
     ]
    }
   ],
   "source": [
    "from sympy import Matrix\n",
    "from sympy import pi, acos\n",
    "from sympy import simplify, symbols\n",
    "from sympy.physics.mechanics import ReferenceFrame, Point\n",
    "from sympy.physics.mechanics import inertia, inertia_of_point_mass\n",
    "from sympy.physics.mechanics import dot\n",
    "\n",
    "\n",
    "def inertia_matrix(dyadic, rf):\n",
    "   \"\"\"Return the inertia matrix of a given dyadic for a specified\n",
    "   reference frame.\n",
    "   \"\"\"\n",
    "   return Matrix([[dot(dot(dyadic, i), j) for j in rf] for i in rf])\n",
    "\n",
    "\n",
    "def angle_between_vectors(a, b):\n",
    "   \"\"\"Return the minimum angle between two vectors. The angle returned for\n",
    "   vectors a and -a is 0.\n",
    "   \"\"\"\n",
    "   angle = (acos(dot(a, b)/(a.magnitude() * b.magnitude())) *\n",
    "            180 / pi).evalf()\n",
    "   return min(angle, 180 - angle)\n",
    "\n",
    "\n",
    "m, m_R, m_C, rho, r = symbols('m m_R m_C rho r', real=True, nonnegative=True)\n",
    "\n",
    "N = ReferenceFrame('N')\n",
    "pA = Point('A')\n",
    "pPs = pA.locatenew('P*', 3*r*N.x - 2*r*N.y)\n",
    "\n",
    "m_R = rho * 24 * r**2\n",
    "m_C = rho * pi * r**2\n",
    "m = m_R - m_C\n",
    "\n",
    "I_Cs_A = inertia_of_point_mass(m, pPs.pos_from(pA), N)\n",
    "I_C_Cs = inertia(N, m_R*(4*r)**2/12 - m_C*r**2/4,\n",
    "                  m_R*(6*r)**2/12 - m_C*r**2/4,\n",
    "                  m_R*((4*r)**2+(6*r)**2)/12 - m_C*r**2/2)\n",
    "\n",
    "I_C_A = I_C_Cs + I_Cs_A\n",
    "print(\"\\nI_C_rel_A = {0}\".format(I_C_A))\n",
    "\n",
    "# Eigenvectors of I_C_A are the parallel to the principal axis for point A\n",
    "# of Body C.\n",
    "evecs_m = [triple[2]\n",
    "          for triple in inertia_matrix(I_C_A, N).eigenvects()]\n",
    "\n",
    "# Convert eigenvectors from Matrix type to Vector type.\n",
    "evecs = [sum(simplify(v[0][i]).evalf() * n for i, n in enumerate(N))\n",
    "         for v in evecs_m]\n",
    "\n",
    "# N.x is parallel to line AB\n",
    "print(\"\\nVectors parallel to the principal axis for point A of Body C and the\" +\n",
    "      \"\\ncorresponding angle between the principal axis and line AB (degrees):\")\n",
    "for v in evecs:\n",
    "    print(\"{0}\\t{1}\".format(v, angle_between_vectors(N.x, v)))"
   ]
  }
 ],
 "metadata": {
  "kernelspec": {
   "display_name": "Python 3 (ipykernel)",
   "language": "python",
   "name": "python3"
  },
  "language_info": {
   "codemirror_mode": {
    "name": "ipython",
    "version": 3
   },
   "file_extension": ".py",
   "mimetype": "text/x-python",
   "name": "python",
   "nbconvert_exporter": "python",
   "pygments_lexer": "ipython3",
   "version": "3.7.12"
  }
 },
 "nbformat": 4,
 "nbformat_minor": 5
}