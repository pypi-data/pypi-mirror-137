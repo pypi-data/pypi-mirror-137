{
 "cells": [
  {
   "cell_type": "code",
   "execution_count": 1,
   "id": "09222503",
   "metadata": {
    "execution": {
     "iopub.execute_input": "2022-02-04T06:46:58.442558Z",
     "iopub.status.busy": "2022-02-04T06:46:58.438967Z",
     "iopub.status.idle": "2022-02-04T06:46:59.102258Z",
     "shell.execute_reply": "2022-02-04T06:46:59.101906Z"
    }
   },
   "outputs": [
    {
     "name": "stdout",
     "output_type": "stream",
     "text": [
      "1/2*N.x - 3/4*N.y - N.z\n",
      "I_C_Cs = 75*m/4*(N.x|N.x) + 15*m*(N.y|N.y) + 39*m/4*(N.z|N.z) - 3*m/2*(N.x|N.y) - 2*m*(N.x|N.z) - 3*m/2*(N.y|N.x) + 3*m*(N.y|N.z) - 2*m*(N.z|N.x) + 3*m*(N.z|N.y)\n",
      "\n",
      "radius of gyration, k = 1.43554075942754 m\n"
     ]
    },
    {
     "name": "stdout",
     "output_type": "stream",
     "text": [
      "\n",
      "angle between associated principal axis and line OP = 67.6396101383384°\n"
     ]
    }
   ],
   "source": [
    "from sympy import S, Matrix\n",
    "from sympy import pi, acos\n",
    "from sympy import simplify, sqrt, symbols\n",
    "from sympy.physics.mechanics import ReferenceFrame, Point\n",
    "from sympy.physics.mechanics import inertia_of_point_mass\n",
    "from sympy.physics.mechanics import dot\n",
    "import numpy as np\n",
    "\n",
    "\n",
    "def inertia_matrix(dyadic, rf):\n",
    "   \"\"\"Return the inertia matrix of a given dyadic for a specified\n",
    "   reference frame.\n",
    "   \"\"\"\n",
    "   return Matrix([[dot(dot(dyadic, i), j) for j in rf] for i in rf])\n",
    "\n",
    "\n",
    "def convert_eigenvectors_matrix_vector(eigenvectors, rf):\n",
    "   \"\"\"Return a list of Vectors converted from a list of Matrices.\n",
    "   rf is the implicit ReferenceFrame for the Matrix representation of the\n",
    "   eigenvectors.\n",
    "   \"\"\"\n",
    "   return [sum(simplify(v[0][i]).evalf() * n for i, n in enumerate(N))\n",
    "            for v in eigenvectors]\n",
    "\n",
    "\n",
    "def angle_between_vectors(a, b):\n",
    "   \"\"\"Return the minimum angle between two vectors. The angle returned for\n",
    "   vectors a and -a is 0.\n",
    "   \"\"\"\n",
    "   angle = (acos(dot(a, b) / (a.magnitude() * b.magnitude())) *\n",
    "            180 / pi).evalf()\n",
    "   return min(angle, 180 - angle)\n",
    "\n",
    "\n",
    "m = symbols('m', real=True, nonnegative=True)\n",
    "m_val = 1\n",
    "N = ReferenceFrame('N')\n",
    "pO = Point('O')\n",
    "pP = pO.locatenew('P', -3 * N.y)\n",
    "pQ = pO.locatenew('Q', -4 * N.z)\n",
    "pR = pO.locatenew('R', 2 * N.x)\n",
    "points = [pO, pP, pQ, pR]\n",
    "\n",
    "# center of mass of assembly\n",
    "pCs = pO.locatenew('C*', sum(p.pos_from(pO) for p in points) / S(len(points)))\n",
    "print(pCs.pos_from(pO))\n",
    "\n",
    "I_C_Cs = (inertia_of_point_mass(m, points[0].pos_from(pCs), N) +\n",
    "         inertia_of_point_mass(m, points[1].pos_from(pCs), N) +\n",
    "         inertia_of_point_mass(m, points[2].pos_from(pCs), N) +\n",
    "         inertia_of_point_mass(m, points[3].pos_from(pCs), N))\n",
    "print(\"I_C_Cs = {0}\".format(I_C_Cs))\n",
    "\n",
    "# calculate the principal moments of inertia and the principal axes\n",
    "M = inertia_matrix(I_C_Cs, N)\n",
    "\n",
    "# use numpy to find eigenvalues/eigenvectors since sympy failed\n",
    "# note that the eigenvlaues/eigenvectors are the\n",
    "# prinicpal moments of inertia/principal axes\n",
    "eigvals, eigvecs_np = np.linalg.eigh(np.matrix(M.subs(m, m_val).n().tolist(), dtype=float))\n",
    "eigvecs = [sum(eigvecs_np[i, j] * n for i, n in enumerate(N))\n",
    "         for j in range(3)]\n",
    "\n",
    "# get the minimum moment of inertia and its associated principal axis\n",
    "e, v = min(zip(eigvals, eigvecs))\n",
    "\n",
    "# I = m * k**2, where I is the moment of inertia,\n",
    "# m is the mass of the body, k is the radius of gyration\n",
    "k = sqrt(e / (4 * m_val))\n",
    "print(\"\\nradius of gyration, k = {0} m\".format(k))\n",
    "\n",
    "# calculate the angle between the associated principal axis and the line OP\n",
    "# line OP is parallel to N.y\n",
    "theta = angle_between_vectors(N.y, v)\n",
    "print(\"\\nangle between associated principal axis and line OP = {0}°\".format(theta))"
   ]
  }
 ],
 "metadata": {
  "kernelspec": {
   "display_name": "Python 3 (ipykernel)",
   "language": "python",
   "name": "python3"
  },
  "language_info": {
   "codemirror_mode": {
    "name": "ipython",
    "version": 3
   },
   "file_extension": ".py",
   "mimetype": "text/x-python",
   "name": "python",
   "nbconvert_exporter": "python",
   "pygments_lexer": "ipython3",
   "version": "3.7.12"
  }
 },
 "nbformat": 4,
 "nbformat_minor": 5
}