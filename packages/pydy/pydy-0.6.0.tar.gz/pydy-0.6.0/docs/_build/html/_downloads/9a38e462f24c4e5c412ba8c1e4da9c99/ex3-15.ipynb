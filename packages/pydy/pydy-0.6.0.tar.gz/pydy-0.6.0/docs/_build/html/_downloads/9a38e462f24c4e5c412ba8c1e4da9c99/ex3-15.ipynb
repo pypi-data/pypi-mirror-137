{
 "cells": [
  {
   "cell_type": "code",
   "execution_count": 1,
   "id": "de8abedc",
   "metadata": {
    "execution": {
     "iopub.execute_input": "2022-02-04T06:46:05.859034Z",
     "iopub.status.busy": "2022-02-04T06:46:05.856097Z",
     "iopub.status.idle": "2022-02-04T06:46:06.337299Z",
     "shell.execute_reply": "2022-02-04T06:46:06.336654Z"
    }
   },
   "outputs": [
    {
     "name": "stdout",
     "output_type": "stream",
     "text": [
      "kinematic equations:\n",
      "q0' = u1\n",
      "q1' = u2\n",
      "q2' = u3\n"
     ]
    }
   ],
   "source": [
    "from sympy.physics.mechanics import dynamicsymbols, msprint\n",
    "from sympy.physics.mechanics import ReferenceFrame, Point\n",
    "from sympy import solve, symbols\n",
    "\n",
    "# Define generalized coordinates, speeds, and constants:\n",
    "q0, q1, q2 = dynamicsymbols('q0 q1 q2')\n",
    "q0d, q1d, q2d = dynamicsymbols('q0 q1 q2', level=1)\n",
    "u1, u2, u3 = dynamicsymbols('u1 u2 u3')\n",
    "LA, LB, LP = symbols('LA LB LP')\n",
    "p1, p2, p3 = symbols('p1 p2 p3')\n",
    "\n",
    "E = ReferenceFrame('E')\n",
    "# A.x of Rigid Body A is fixed in Reference Frame E and is rotated by q0.\n",
    "A = E.orientnew('A', 'Axis', [q0, E.x])\n",
    "# B.y of Rigid Body B is fixed in Reference Frame A and is rotated by q1.\n",
    "B = A.orientnew('B', 'Axis', [q1, A.y])\n",
    "# Reference Frame C has no rotation relative to Reference Frame B.\n",
    "C = B.orientnew('C', 'Axis', [0, B.x])\n",
    "# Reference Frame D has no rotation relative to Reference Frame C.\n",
    "D = C.orientnew('D', 'Axis', [0, C.x])\n",
    "\n",
    "pO = Point('O')\n",
    "# The vector from Point O to Point A*, the center of mass of A, is LA * A.z.\n",
    "pAs = pO.locatenew('A*', LA * A.z)\n",
    "# The vector from Point O to Point P, which lies on the axis where\n",
    "# B rotates about A, is LP * A.z.\n",
    "pP = pO.locatenew('P', LP * A.z)\n",
    "# The vector from Point P to Point B*, the center of mass of B, is LB * B.z.\n",
    "pBs = pP.locatenew('B*', LB * B.z)\n",
    "# The vector from Point B* to Point C*, the center of mass of C, is q2 * B.z.\n",
    "pCs = pBs.locatenew('C*', q2 * B.z)\n",
    "# The vector from Point C* to Point D*, the center of mass of D,\n",
    "# is p1 * B.x + p2 * B.y + p3 * B.z.\n",
    "pDs = pCs.locatenew('D*', p1 * B.x + p2 * B.y + p3 * B.z)\n",
    "\n",
    "# Define generalized speeds as:\n",
    "# u1 = q0d\n",
    "# u2 = q1d\n",
    "# u3 = q2d\n",
    "A.set_ang_vel(E, u1 * A.x) # A.x = E.x\n",
    "B.set_ang_vel(A, u2 * B.y) # B.y = A.y\n",
    "pCs.set_vel(B, u3 * B.z)\n",
    "\n",
    "pO.set_vel(E, 0) # Point O is fixed in Reference Frame E\n",
    "pAs.v2pt_theory(pO, E, A) # Point A* is fixed in Reference Frame A\n",
    "pP.v2pt_theory(pO, E, A) # Point P is fixed in Reference Frame A\n",
    "pBs.v2pt_theory(pP, E, B) # Point B* is fixed in Reference Frame B\n",
    "pCs.v1pt_theory(pBs, E, B) # Point C* is moving in Reference Frame B\n",
    "pDs.set_vel(B, pCs.vel(B)) # Point D* is fixed relative to Point C* in B\n",
    "pDs.v1pt_theory(pBs, E, B) # Point D* is moving in Reference Frame B\n",
    "\n",
    "# Write generalized speeds as kinematic equations:\n",
    "kinematic_eqs = []\n",
    "kinematic_eqs.append(u1 - q0d)\n",
    "kinematic_eqs.append(u2 - q1d)\n",
    "kinematic_eqs.append(u3 - q2d)\n",
    "soln = solve(kinematic_eqs, [q0d, q1d, q2d])\n",
    "print(\"kinematic equations:\")\n",
    "for qd in [q0d, q1d, q2d]:\n",
    "   print(\"{0} = {1}\".format(msprint(qd), msprint(soln[qd])))"
   ]
  },
  {
   "cell_type": "code",
   "execution_count": 2,
   "id": "e43ddb77",
   "metadata": {
    "execution": {
     "iopub.execute_input": "2022-02-04T06:46:06.344992Z",
     "iopub.status.busy": "2022-02-04T06:46:06.344407Z",
     "iopub.status.idle": "2022-02-04T06:46:06.498860Z",
     "shell.execute_reply": "2022-02-04T06:46:06.498275Z"
    }
   },
   "outputs": [
    {
     "name": "stdout",
     "output_type": "stream",
     "text": [
      "\n",
      "angular velocities:\n",
      "ang vel A wrt E = u1(t)*A.x\n",
      "ang vel B wrt E = u1(t)*cos(q1(t))*B.x + u2(t)*B.y + u1(t)*sin(q1(t))*B.z\n",
      "ang vel C wrt E = u1(t)*cos(q1(t))*B.x + u2(t)*B.y + u1(t)*sin(q1(t))*B.z\n",
      "ang vel D wrt E = u1(t)*cos(q1(t))*B.x + u2(t)*B.y + u1(t)*sin(q1(t))*B.z\n",
      "\n",
      "angular accelerations:\n",
      "ang acc A wrt E = Derivative(u1(t), t)*A.x\n",
      "ang acc B wrt E = (-u1(t)*u2(t)*sin(q1(t)) + cos(q1(t))*Derivative(u1(t), t))*B.x + Derivative(u2(t), t)*B.y + (u1(t)*u2(t)*cos(q1(t)) + sin(q1(t))*Derivative(u1(t), t))*B.z\n",
      "ang acc C wrt E = (-u1(t)*u2(t)*sin(q1(t)) + cos(q1(t))*Derivative(u1(t), t))*B.x + Derivative(u2(t), t)*B.y + (u1(t)*u2(t)*cos(q1(t)) + sin(q1(t))*Derivative(u1(t), t))*B.z\n",
      "ang acc D wrt E = (-u1(t)*u2(t)*sin(q1(t)) + cos(q1(t))*Derivative(u1(t), t))*B.x + Derivative(u2(t), t)*B.y + (u1(t)*u2(t)*cos(q1(t)) + sin(q1(t))*Derivative(u1(t), t))*B.z\n",
      "\n",
      "velocities:\n",
      "vel A* wrt E = - LA*u1(t)*A.y\n",
      "vel B* wrt E = LB*u2(t)*B.x + (-LB*u1(t)*cos(q1(t)) - LP*u1(t))*B.y\n",
      "vel C* wrt E = (LB*u2(t) + q2(t)*u2(t))*B.x + (-LB*u1(t)*cos(q1(t)) - LP*u1(t) - q2(t)*u1(t)*cos(q1(t)))*B.y + u3(t)*B.z\n",
      "vel D* wrt E = (LB*u2(t) - p2*u1(t)*sin(q1(t)) + (p3 + q2(t))*u2(t))*B.x + (-LB*u1(t)*cos(q1(t)) - LP*u1(t) + p1*u1(t)*sin(q1(t)) - (p3 + q2(t))*u1(t)*cos(q1(t)))*B.y + (-p1*u2(t) + p2*u1(t)*cos(q1(t)) + u3(t))*B.z\n",
      "\n",
      "accelerations:\n",
      "acc A* wrt E = - LA*Derivative(u1(t), t)*A.y - LA*u1(t)**2*A.z\n",
      "acc B* wrt E = (LB*u1(t)**2*sin(q1(t))*cos(q1(t)) + LB*Derivative(u2(t), t) + LP*u1(t)**2*sin(q1(t)))*B.x + (LB*u1(t)*u2(t)*sin(q1(t)) + LB*u1(t)*sin(q1(t))*Derivative(q1(t), t) - LB*cos(q1(t))*Derivative(u1(t), t) - LP*Derivative(u1(t), t))*B.y + (-LB*u1(t)**2*cos(q1(t))**2 - LB*u2(t)**2 - LP*u1(t)**2*cos(q1(t)))*B.z\n",
      "acc C* wrt E = (LB*Derivative(u2(t), t) + LP*u1(t)**2*sin(q1(t)) - (-LB*u1(t)*cos(q1(t)) - q2(t)*u1(t)*cos(q1(t)))*u1(t)*sin(q1(t)) + q2(t)*Derivative(u2(t), t) + u2(t)*u3(t) + u2(t)*Derivative(q2(t), t))*B.x + (LB*u1(t)*sin(q1(t))*Derivative(q1(t), t) - LB*cos(q1(t))*Derivative(u1(t), t) - LP*Derivative(u1(t), t) + (LB*u2(t) + q2(t)*u2(t))*u1(t)*sin(q1(t)) + q2(t)*u1(t)*sin(q1(t))*Derivative(q1(t), t) - q2(t)*cos(q1(t))*Derivative(u1(t), t) - u1(t)*u3(t)*cos(q1(t)) - u1(t)*cos(q1(t))*Derivative(q2(t), t))*B.y + (-LP*u1(t)**2*cos(q1(t)) - (LB*u2(t) + q2(t)*u2(t))*u2(t) + (-LB*u1(t)*cos(q1(t)) - q2(t)*u1(t)*cos(q1(t)))*u1(t)*cos(q1(t)) + Derivative(u3(t), t))*B.z\n",
      "acc D* wrt E = (LB*Derivative(u2(t), t) + LP*u1(t)**2*sin(q1(t)) - p2*u1(t)*cos(q1(t))*Derivative(q1(t), t) - p2*sin(q1(t))*Derivative(u1(t), t) + (p3 + q2(t))*Derivative(u2(t), t) + (-p1*u2(t) + p2*u1(t)*cos(q1(t)) + u3(t))*u2(t) - (-LB*u1(t)*cos(q1(t)) + p1*u1(t)*sin(q1(t)) - (p3 + q2(t))*u1(t)*cos(q1(t)))*u1(t)*sin(q1(t)) + u2(t)*Derivative(q2(t), t))*B.x + (LB*u1(t)*sin(q1(t))*Derivative(q1(t), t) - LB*cos(q1(t))*Derivative(u1(t), t) - LP*Derivative(u1(t), t) + p1*u1(t)*cos(q1(t))*Derivative(q1(t), t) + p1*sin(q1(t))*Derivative(u1(t), t) - (-p3 - q2(t))*u1(t)*sin(q1(t))*Derivative(q1(t), t) + (-p3 - q2(t))*cos(q1(t))*Derivative(u1(t), t) + (LB*u2(t) - p2*u1(t)*sin(q1(t)) + (p3 + q2(t))*u2(t))*u1(t)*sin(q1(t)) - (-p1*u2(t) + p2*u1(t)*cos(q1(t)) + u3(t))*u1(t)*cos(q1(t)) - u1(t)*cos(q1(t))*Derivative(q2(t), t))*B.y + (-LP*u1(t)**2*cos(q1(t)) - p1*Derivative(u2(t), t) - p2*u1(t)*sin(q1(t))*Derivative(q1(t), t) + p2*cos(q1(t))*Derivative(u1(t), t) - (LB*u2(t) - p2*u1(t)*sin(q1(t)) + (p3 + q2(t))*u2(t))*u2(t) + (-LB*u1(t)*cos(q1(t)) + p1*u1(t)*sin(q1(t)) - (p3 + q2(t))*u1(t)*cos(q1(t)))*u1(t)*cos(q1(t)) + Derivative(u3(t), t))*B.z\n"
     ]
    }
   ],
   "source": [
    "ang_vels = [\"\\nangular velocities:\"]\n",
    "ang_accs = [\"\\nangular accelerations:\"]\n",
    "for rf in [A, B, C, D]:\n",
    "   ang_v = getattr(rf, 'ang_vel_in')(E)\n",
    "   ang_a = getattr(rf, 'ang_acc_in')(E)\n",
    "   express_rf = B\n",
    "   if rf == A:\n",
    "      express_rf = A\n",
    "   ang_vels.append(\"ang vel {0} wrt {1} = {2}\".format(\n",
    "            rf, E, ang_v.express(express_rf)))\n",
    "   ang_accs.append(\"ang acc {0} wrt {1} = {2}\".format(\n",
    "            rf, E, ang_a.express(express_rf)))\n",
    "\n",
    "vels = [\"\\nvelocities:\"]\n",
    "accs = [\"\\naccelerations:\"]\n",
    "for point in [pAs, pBs, pCs, pDs]:\n",
    "   v = getattr(point, 'vel')(E)\n",
    "   a = getattr(point, 'acc')(E)\n",
    "   express_rf = B\n",
    "   if point == pAs:\n",
    "      express_rf = A\n",
    "   vels.append(\"vel {0} wrt {1} = {2}\".format(\n",
    "            point, E, v.express(express_rf)))\n",
    "   accs.append(\"acc {0} wrt {1} = {2}\".format(\n",
    "            point, E, a.express(express_rf)))\n",
    "\n",
    "for results in ang_vels + ang_accs + vels + accs:\n",
    "   print(results)"
   ]
  }
 ],
 "metadata": {
  "kernelspec": {
   "display_name": "Python 3 (ipykernel)",
   "language": "python",
   "name": "python3"
  },
  "language_info": {
   "codemirror_mode": {
    "name": "ipython",
    "version": 3
   },
   "file_extension": ".py",
   "mimetype": "text/x-python",
   "name": "python",
   "nbconvert_exporter": "python",
   "pygments_lexer": "ipython3",
   "version": "3.7.12"
  }
 },
 "nbformat": 4,
 "nbformat_minor": 5
}