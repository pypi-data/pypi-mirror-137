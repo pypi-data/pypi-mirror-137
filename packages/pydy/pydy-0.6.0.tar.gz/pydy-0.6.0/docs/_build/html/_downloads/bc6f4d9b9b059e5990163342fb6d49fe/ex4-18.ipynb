{
 "cells": [
  {
   "cell_type": "code",
   "execution_count": 1,
   "id": "bfb6f332",
   "metadata": {
    "execution": {
     "iopub.execute_input": "2022-02-04T06:46:11.524653Z",
     "iopub.status.busy": "2022-02-04T06:46:11.524072Z",
     "iopub.status.idle": "2022-02-04T06:46:12.044211Z",
     "shell.execute_reply": "2022-02-04T06:46:12.043838Z"
    }
   },
   "outputs": [
    {
     "name": "stdout",
     "output_type": "stream",
     "text": [
      "kinematic equations:\n",
      "q0' = u0\n",
      "q1' = u1\n",
      "q2' = u2\n",
      "q3' = u3\n",
      "q4' = u4\n",
      "q5' = u5\n",
      "\n",
      "position of C* from O = q4*A.x + q5*A.y + R*B.y\n",
      "\n",
      "velocity of C* wrt A = (-R*sin(q2)*q1' + q4*sin(q1)*q1' - q5*cos(q1)*q1')*B.x + ((q4*sin(q1)*q2' - q5*cos(q1)*q2')*cos(q2) + q4*sin(q2)*cos(q1)*q1' + q5*sin(q1)*sin(q2)*q1')*B.y + (-R*q2' + (q4*sin(q1)*q2' - q5*cos(q1)*q2')*sin(q2) - q4*cos(q1)*cos(q2)*q1' - q5*sin(q1)*cos(q2)*q1')*B.z\n"
     ]
    }
   ],
   "source": [
    "from sympy.physics.mechanics import dynamicsymbols, msprint\n",
    "from sympy.physics.mechanics import ReferenceFrame, Point\n",
    "from sympy import solve, symbols, pi\n",
    "\n",
    "# Define generalized coordinates, speeds, and constants:\n",
    "qi = dynamicsymbols('q0 q1 q2 q3 q4 q5')\n",
    "qid = dynamicsymbols('q0 q1 q2 q3 q4 q5', level=1)\n",
    "ui = dynamicsymbols('u0 u1 u2 u3 u4 u5')\n",
    "R = symbols('R')\n",
    "\n",
    "A = ReferenceFrame('A')\n",
    "A_1 = A.orientnew(\"A'\", 'Axis', [qi[1], A.z])\n",
    "B = A_1.orientnew('B', 'Axis', [pi/2 - qi[2], A_1.x])\n",
    "C = B.orientnew('C', 'Axis', [qi[3], B.z])\n",
    "\n",
    "pO = Point('O')\n",
    "pCs = pO.locatenew('C*', qi[4] * A.x + qi[5] * A.y + R * B.y)\n",
    "\n",
    "pO.set_vel(A, 0) # Point O is fixed in Reference Frame A\n",
    "pCs.v2pt_theory(pO, A, B) # Point C* is fixed in Reference Frame B\n",
    "\n",
    "# Set ui = qid\n",
    "kinematic_eqs = []\n",
    "for u, qd in zip(ui, qid):\n",
    "   kinematic_eqs.append(u - qd)\n",
    "soln = solve(kinematic_eqs, qid)\n",
    "print(\"kinematic equations:\")\n",
    "for qd in qid:\n",
    "   print(\"{0} = {1}\".format(msprint(qd), msprint(soln[qd])))\n",
    "\n",
    "print(\"\\nposition of C* from O = {0}\".format(msprint(pCs.pos_from(pO))))\n",
    "print(\"\\nvelocity of C* wrt A = {0}\".format(msprint(pCs.vel(A).express(B))))"
   ]
  }
 ],
 "metadata": {
  "kernelspec": {
   "display_name": "Python 3 (ipykernel)",
   "language": "python",
   "name": "python3"
  },
  "language_info": {
   "codemirror_mode": {
    "name": "ipython",
    "version": 3
   },
   "file_extension": ".py",
   "mimetype": "text/x-python",
   "name": "python",
   "nbconvert_exporter": "python",
   "pygments_lexer": "ipython3",
   "version": "3.7.12"
  }
 },
 "nbformat": 4,
 "nbformat_minor": 5
}