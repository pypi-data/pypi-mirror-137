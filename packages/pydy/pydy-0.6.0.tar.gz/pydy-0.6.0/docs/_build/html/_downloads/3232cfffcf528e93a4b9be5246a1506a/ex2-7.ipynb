{
 "cells": [
  {
   "cell_type": "code",
   "execution_count": 1,
   "id": "24de6efc",
   "metadata": {
    "execution": {
     "iopub.execute_input": "2022-02-04T06:46:01.026377Z",
     "iopub.status.busy": "2022-02-04T06:46:01.025773Z",
     "iopub.status.idle": "2022-02-04T06:46:01.457395Z",
     "shell.execute_reply": "2022-02-04T06:46:01.457735Z"
    }
   },
   "outputs": [
    {
     "name": "stdout",
     "output_type": "stream",
     "text": [
      "Using w_C_A as\n",
      "ux(t)*A.x + uy(t)*A.y + uz(t)*A.z\n"
     ]
    }
   ],
   "source": [
    "from sympy.physics.mechanics import ReferenceFrame, dynamicsymbols, mprint\n",
    "from sympy import solve, pi, Eq\n",
    "\n",
    "q1, q2, q3, q4, q5 = dynamicsymbols('q1 q2 q3 q4 q5')\n",
    "q1d, q2d, q3d, q4d, q5d = dynamicsymbols('q1 q2 q3 q4 q5', level=1)\n",
    "\n",
    "ux, uy, uz = dynamicsymbols('ux uy uz')\n",
    "u1, u2, u3 = dynamicsymbols('u1 u2 u3')\n",
    "\n",
    "A = ReferenceFrame('A')\n",
    "B_prime = A.orientnew('B_prime', 'Axis', [q1, A.z])\n",
    "B = B_prime.orientnew('B', 'Axis', [pi/2 - q2, B_prime.x])\n",
    "C = B.orientnew('C', 'Axis', [q3, B.z])\n",
    "\n",
    "# Angular velocity based on coordinate time derivatives\n",
    "w_C_in_A_qd = C.ang_vel_in(A)\n",
    "\n",
    "# First definition of Angular velocity\n",
    "w_C_in_A_uxuyuz = ux * A.x + uy * A.y + uz * A.z\n",
    "print(\"Using w_C_A as\")\n",
    "print(w_C_in_A_uxuyuz)"
   ]
  },
  {
   "cell_type": "code",
   "execution_count": 2,
   "id": "23e87cfc",
   "metadata": {
    "execution": {
     "iopub.execute_input": "2022-02-04T06:46:01.533249Z",
     "iopub.status.busy": "2022-02-04T06:46:01.497259Z",
     "iopub.status.idle": "2022-02-04T06:46:01.628726Z",
     "shell.execute_reply": "2022-02-04T06:46:01.628202Z"
    }
   },
   "outputs": [
    {
     "name": "stdout",
     "output_type": "stream",
     "text": [
      "The kinematic equations are:\n",
      "Eq(q1', -ux*sin(q1)*sin(q2)/(sin(q1)**2*cos(q2) + cos(q1)**2*cos(q2)) + uy*sin(q2)*cos(q1)/(sin(q1)**2*cos(q2) + cos(q1)**2*cos(q2)) + uz*sin(q1)**2*cos(q2)/(sin(q1)**2*cos(q2) + cos(q1)**2*cos(q2)) + uz*cos(q1)**2*cos(q2)/(sin(q1)**2*cos(q2) + cos(q1)**2*cos(q2)))\n",
      "Eq(q2', -ux*cos(q1)/(sin(q1)**2 + cos(q1)**2) - uy*sin(q1)/(sin(q1)**2 + cos(q1)**2))\n",
      "Eq(q3', ux*sin(q1)/(sin(q1)**2*cos(q2) + cos(q1)**2*cos(q2)) - uy*cos(q1)/(sin(q1)**2*cos(q2) + cos(q1)**2*cos(q2)))\n"
     ]
    }
   ],
   "source": [
    "kinematic_eqs = [(w_C_in_A_qd - w_C_in_A_uxuyuz) & uv for uv in A]\n",
    "print(\"The kinematic equations are:\")\n",
    "soln = solve(kinematic_eqs, [q1d, q2d, q3d])\n",
    "for qd in [q1d, q2d, q3d]:\n",
    "    mprint(Eq(qd, soln[qd]))"
   ]
  },
  {
   "cell_type": "code",
   "execution_count": 3,
   "id": "f7e8687e",
   "metadata": {
    "execution": {
     "iopub.execute_input": "2022-02-04T06:46:01.634134Z",
     "iopub.status.busy": "2022-02-04T06:46:01.630656Z",
     "iopub.status.idle": "2022-02-04T06:46:01.636094Z",
     "shell.execute_reply": "2022-02-04T06:46:01.636543Z"
    }
   },
   "outputs": [
    {
     "name": "stdout",
     "output_type": "stream",
     "text": [
      "Using w_C_A as\n",
      "u1(t)*B.x + u2(t)*B.y + u3(t)*B.z\n"
     ]
    }
   ],
   "source": [
    "# Second definition of Angular velocity\n",
    "w_C_in_A_u1u2u3 = u1 * B.x + u2 * B.y + u3 * B.z\n",
    "print(\"Using w_C_A as\")\n",
    "print(w_C_in_A_u1u2u3)"
   ]
  },
  {
   "cell_type": "code",
   "execution_count": 4,
   "id": "55d70291",
   "metadata": {
    "execution": {
     "iopub.execute_input": "2022-02-04T06:46:01.684804Z",
     "iopub.status.busy": "2022-02-04T06:46:01.638222Z",
     "iopub.status.idle": "2022-02-04T06:46:01.775858Z",
     "shell.execute_reply": "2022-02-04T06:46:01.775337Z"
    }
   },
   "outputs": [
    {
     "name": "stdout",
     "output_type": "stream",
     "text": [
      "The kinematic equations are:\n"
     ]
    },
    {
     "name": "stdout",
     "output_type": "stream",
     "text": [
      "Eq(q1', u2*sin(q2)**2/cos(q2) + u2*cos(q2))\n",
      "Eq(q2', -u1)\n",
      "Eq(q3', -u2*sin(q2)/cos(q2) + u3)\n"
     ]
    }
   ],
   "source": [
    "kinematic_eqs = [(w_C_in_A_qd - w_C_in_A_u1u2u3) & uv for uv in A]\n",
    "print(\"The kinematic equations are:\")\n",
    "soln = solve(kinematic_eqs, [q1d, q2d, q3d])\n",
    "for qd in [q1d, q2d, q3d]:\n",
    "    mprint(Eq(qd, soln[qd]))"
   ]
  }
 ],
 "metadata": {
  "kernelspec": {
   "display_name": "Python 3 (ipykernel)",
   "language": "python",
   "name": "python3"
  },
  "language_info": {
   "codemirror_mode": {
    "name": "ipython",
    "version": 3
   },
   "file_extension": ".py",
   "mimetype": "text/x-python",
   "name": "python",
   "nbconvert_exporter": "python",
   "pygments_lexer": "ipython3",
   "version": "3.7.12"
  }
 },
 "nbformat": 4,
 "nbformat_minor": 5
}