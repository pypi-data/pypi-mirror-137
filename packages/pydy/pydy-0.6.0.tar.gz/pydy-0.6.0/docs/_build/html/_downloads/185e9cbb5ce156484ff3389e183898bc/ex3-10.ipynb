{
 "cells": [
  {
   "cell_type": "code",
   "execution_count": 1,
   "id": "ec086c43",
   "metadata": {
    "execution": {
     "iopub.execute_input": "2022-02-04T06:46:02.800458Z",
     "iopub.status.busy": "2022-02-04T06:46:02.797135Z",
     "iopub.status.idle": "2022-02-04T06:46:04.710054Z",
     "shell.execute_reply": "2022-02-04T06:46:04.710512Z"
    }
   },
   "outputs": [
    {
     "name": "stdout",
     "output_type": "stream",
     "text": [
      "b = r*(sin(θ) + 1)/(-sin(θ) + cos(θ))\n"
     ]
    }
   ],
   "source": [
    "from sympy import cancel, collect, expand_trig, solve, symbols, trigsimp\n",
    "from sympy import sin, cos\n",
    "from sympy.physics.mechanics import ReferenceFrame, Point\n",
    "from sympy.physics.mechanics import dot, dynamicsymbols, msprint\n",
    "\n",
    "q1, q2, q3, q4, q5, q6, q7 = q = dynamicsymbols('q1:8')\n",
    "u1, u2, u3, u4, u5, u6, u7 = u = dynamicsymbols('q1:8', level=1)\n",
    "\n",
    "r, theta, b = symbols('r θ b', real=True, positive=True)\n",
    "\n",
    "# define reference frames\n",
    "R = ReferenceFrame('R') # fixed race rf, let R.z point upwards\n",
    "A = R.orientnew('A', 'axis', [q7, R.z]) # rf that rotates with S* about R.z\n",
    "# B.x, B.z are parallel with face of cone, B.y is perpendicular\n",
    "B = A.orientnew('B', 'axis', [-theta, A.x])\n",
    "S = ReferenceFrame('S')\n",
    "S.set_ang_vel(A, u1*A.x + u2*A.y + u3*A.z)\n",
    "C = ReferenceFrame('C')\n",
    "C.set_ang_vel(A, u4*B.x + u5*B.y + u6*B.z)\n",
    "\n",
    "# define points\n",
    "pO = Point('O')\n",
    "pS_star = pO.locatenew('S*', b*A.y)\n",
    "pS_hat = pS_star.locatenew('S^', -r*B.y) # S^ touches the cone\n",
    "pS1 = pS_star.locatenew('S1', -r*A.z) # S1 touches horizontal wall of the race\n",
    "pS2 = pS_star.locatenew('S2', r*A.y) # S2 touches vertical wall of the race\n",
    "\n",
    "pO.set_vel(R, 0)\n",
    "pS_star.v2pt_theory(pO, R, A)\n",
    "pS1.v2pt_theory(pS_star, R, S)\n",
    "pS2.v2pt_theory(pS_star, R, S)\n",
    "\n",
    "# Since S is rolling against R, v_S1_R = 0, v_S2_R = 0.\n",
    "vc = [dot(p.vel(R), basis) for p in [pS1, pS2] for basis in R]\n",
    "\n",
    "pO.set_vel(C, 0)\n",
    "pS_star.v2pt_theory(pO, C, A)\n",
    "pS_hat.v2pt_theory(pS_star, C, S)\n",
    "\n",
    "# Since S is rolling against C, v_S^_C = 0.\n",
    "# Cone has only angular velocity in R.z direction.\n",
    "vc += [dot(pS_hat.vel(C), basis) for basis in A]\n",
    "vc += [dot(C.ang_vel_in(R), basis) for basis in [R.x, R.y]]\n",
    "vc_map = solve(vc, u)\n",
    "\n",
    "# Pure rolling between S and C, dot(ω_C_S, B.y) = 0.\n",
    "b_val = solve([dot(C.ang_vel_in(S), B.y).subs(vc_map).simplify()], b)[0][0]\n",
    "print('b = {0}'.format(msprint(collect(cancel(expand_trig(b_val)), r))))"
   ]
  },
  {
   "cell_type": "code",
   "execution_count": 2,
   "id": "24eaada2",
   "metadata": {
    "execution": {
     "iopub.execute_input": "2022-02-04T06:46:04.728744Z",
     "iopub.status.busy": "2022-02-04T06:46:04.728173Z",
     "iopub.status.idle": "2022-02-04T06:46:04.783302Z",
     "shell.execute_reply": "2022-02-04T06:46:04.782793Z"
    }
   },
   "outputs": [],
   "source": [
    "b_expected = r*(1 + sin(theta))/(cos(theta) - sin(theta))\n",
    "assert trigsimp(b_val - b_expected) == 0"
   ]
  }
 ],
 "metadata": {
  "kernelspec": {
   "display_name": "Python 3 (ipykernel)",
   "language": "python",
   "name": "python3"
  },
  "language_info": {
   "codemirror_mode": {
    "name": "ipython",
    "version": 3
   },
   "file_extension": ".py",
   "mimetype": "text/x-python",
   "name": "python",
   "nbconvert_exporter": "python",
   "pygments_lexer": "ipython3",
   "version": "3.7.12"
  }
 },
 "nbformat": 4,
 "nbformat_minor": 5
}