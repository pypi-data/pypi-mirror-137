{
 "cells": [
  {
   "cell_type": "code",
   "execution_count": 1,
   "id": "43e73271",
   "metadata": {
    "execution": {
     "iopub.execute_input": "2022-02-04T06:46:07.505301Z",
     "iopub.status.busy": "2022-02-04T06:46:07.504706Z",
     "iopub.status.idle": "2022-02-04T06:46:08.715530Z",
     "shell.execute_reply": "2022-02-04T06:46:08.714819Z"
    }
   },
   "outputs": [],
   "source": [
    "from sympy.physics.mechanics import dot, msprint\n",
    "from sympy.physics.mechanics import ReferenceFrame, Point\n",
    "from sympy import symbols, sin, cos\n",
    "from sympy.simplify.simplify import trigsimp\n",
    "\n",
    "theta = symbols('theta:3')\n",
    "x = symbols('x:3')\n",
    "q = symbols('q')\n",
    "\n",
    "A = ReferenceFrame('A')\n",
    "B = A.orientnew('B', 'SPACE', theta, 'xyz')\n",
    "\n",
    "O = Point('O')\n",
    "P = O.locatenew('P', x[0] * A.x + x[1] * A.y + x[2] * A.z)\n",
    "p = P.pos_from(O)\n",
    "\n",
    "# From problem, point P is on L (span(B.x)) when:\n",
    "constraint_eqs = {x[0] : q*cos(theta[1])*cos(theta[2]),\n",
    "                  x[1] : q*cos(theta[1])*sin(theta[2]),\n",
    "                  x[2] : -q*sin(theta[1])}\n",
    "\n",
    "# If point P is on line L then r^{P/O} will have no components in the B.y or\n",
    "# B.z directions since point O is also on line L and B.x is parallel to L.\n",
    "assert(trigsimp(dot(P.pos_from(O), B.y).subs(constraint_eqs)) == 0)\n",
    "assert(trigsimp(dot(P.pos_from(O), B.z).subs(constraint_eqs)) == 0)"
   ]
  }
 ],
 "metadata": {
  "kernelspec": {
   "display_name": "Python 3 (ipykernel)",
   "language": "python",
   "name": "python3"
  },
  "language_info": {
   "codemirror_mode": {
    "name": "ipython",
    "version": 3
   },
   "file_extension": ".py",
   "mimetype": "text/x-python",
   "name": "python",
   "nbconvert_exporter": "python",
   "pygments_lexer": "ipython3",
   "version": "3.7.12"
  }
 },
 "nbformat": 4,
 "nbformat_minor": 5
}