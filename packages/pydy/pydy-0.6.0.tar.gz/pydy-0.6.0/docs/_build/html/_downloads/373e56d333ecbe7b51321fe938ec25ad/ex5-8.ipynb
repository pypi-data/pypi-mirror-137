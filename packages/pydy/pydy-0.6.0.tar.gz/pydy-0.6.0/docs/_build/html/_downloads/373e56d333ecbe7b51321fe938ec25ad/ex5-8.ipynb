{
 "cells": [
  {
   "cell_type": "code",
   "execution_count": 1,
   "id": "c4df9957",
   "metadata": {
    "execution": {
     "iopub.execute_input": "2022-02-04T06:46:43.192177Z",
     "iopub.status.busy": "2022-02-04T06:46:43.191567Z",
     "iopub.status.idle": "2022-02-04T06:46:44.010396Z",
     "shell.execute_reply": "2022-02-04T06:46:44.009837Z"
    }
   },
   "outputs": [
    {
     "name": "stdout",
     "output_type": "stream",
     "text": [
      "I_1 = a**2*m*N.x + a*b*m/(2*pi)*N.z\n",
      "I_2 = m*(3*a**2 + 2*b**2)/6*N.y\n"
     ]
    }
   ],
   "source": [
    "from sympy.physics.mechanics import ReferenceFrame, Point\n",
    "from sympy.physics.mechanics import cross, dot\n",
    "from sympy import integrate, simplify, symbols, integrate\n",
    "from sympy import sin, cos, pi\n",
    "\n",
    "\n",
    "def calc_inertia_vec(rho, p, n_a, N, iv):\n",
    "    integrand = rho * cross(p, cross(n_a, p))\n",
    "    return sum(simplify(integrate(dot(integrand, n), iv)) * n\n",
    "               for n in N)\n",
    "\n",
    "\n",
    "a, b, L, l, m, h = symbols('a b L l m h', real=True, nonnegative=True)\n",
    "theta = symbols('theta', real=True)\n",
    "h_theta_val = {h:b*l/L, theta:2*pi*l/L}\n",
    "\n",
    "density = m/L\n",
    "N = ReferenceFrame('N')\n",
    "pO = Point('O')\n",
    "pP = pO.locatenew('P', h*N.x + a*cos(theta)*N.y + a*sin(theta)*N.z)\n",
    "\n",
    "I_1 = calc_inertia_vec(density, pP.pos_from(pO).subs(h_theta_val),\n",
    "                       N.x, N, (l, 0, L))\n",
    "I_2 = calc_inertia_vec(density, pP.pos_from(pO).subs(h_theta_val),\n",
    "                       N.y, N, (l, 0, L))\n",
    "print('I_1 = {0}'.format(I_1))\n",
    "print('I_2 = {0}'.format(I_2))"
   ]
  }
 ],
 "metadata": {
  "kernelspec": {
   "display_name": "Python 3 (ipykernel)",
   "language": "python",
   "name": "python3"
  },
  "language_info": {
   "codemirror_mode": {
    "name": "ipython",
    "version": 3
   },
   "file_extension": ".py",
   "mimetype": "text/x-python",
   "name": "python",
   "nbconvert_exporter": "python",
   "pygments_lexer": "ipython3",
   "version": "3.7.12"
  }
 },
 "nbformat": 4,
 "nbformat_minor": 5
}