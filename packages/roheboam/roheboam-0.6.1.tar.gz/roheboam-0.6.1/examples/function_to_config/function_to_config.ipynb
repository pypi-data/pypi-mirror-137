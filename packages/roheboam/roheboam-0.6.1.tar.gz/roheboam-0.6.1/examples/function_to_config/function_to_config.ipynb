{
 "cells": [
  {
   "cell_type": "code",
   "execution_count": 14,
   "metadata": {},
   "outputs": [
    {
     "name": "stdout",
     "output_type": "stream",
     "text": [
      "The autoreload extension is already loaded. To reload it, use:\n",
      "  %reload_ext autoreload\n",
      "The lab_black extension is already loaded. To reload it, use:\n",
      "  %reload_ext lab_black\n"
     ]
    }
   ],
   "source": [
    "%load_ext autoreload\n",
    "%autoreload 2\n",
    "%load_ext lab_black\n",
    "%matplotlib inline"
   ]
  },
  {
   "cell_type": "code",
   "execution_count": 15,
   "metadata": {},
   "outputs": [],
   "source": [
    "# default_exp test_function_to_config"
   ]
  },
  {
   "cell_type": "code",
   "execution_count": 16,
   "metadata": {},
   "outputs": [],
   "source": [
    "# export\n",
    "import inspect\n",
    "from roheboam.engine.pipeline import Pipeline, ConfigurationNodeRecorder\n",
    "from roheboam.engine.pipeline.config_loader import replace_config_variables\n",
    "from roheboam.engine.pipeline.yaml_loader import (\n",
    "    RoheboamYamlDumper,\n",
    "    RoheboamYamlLoader,\n",
    "    Variable,\n",
    ")"
   ]
  },
  {
   "cell_type": "code",
   "execution_count": 17,
   "metadata": {},
   "outputs": [],
   "source": [
    "# export\n",
    "def add_one(x):\n",
    "    return x + 1\n",
    "\n",
    "\n",
    "cfg_node_recorder = ConfigurationNodeRecorder()\n",
    "add_one = cfg_node_recorder.record(add_one)\n",
    "add_one_output = add_one(2)\n",
    "assert add_one_output == 3\n",
    "\n",
    "config = cfg_node_recorder.config\n",
    "lookup = cfg_node_recorder.lookup\n",
    "\n",
    "pipeline = Pipeline.create_from_config(config, lookup)\n",
    "pipeline.run()\n",
    "assert pipeline.get_node_output(\"add_one_0\") == 3"
   ]
  },
  {
   "cell_type": "code",
   "execution_count": 18,
   "metadata": {},
   "outputs": [
    {
     "name": "stdout",
     "output_type": "stream",
     "text": [
      "Converted function_to_config.ipynb.\n"
     ]
    }
   ],
   "source": [
    "from nbdev.export import notebook2script\n",
    "\n",
    "notebook2script()"
   ]
  }
 ],
 "metadata": {
  "kernelspec": {
   "display_name": "Python 3",
   "language": "python",
   "name": "python3"
  },
  "language_info": {
   "codemirror_mode": {
    "name": "ipython",
    "version": 3
   },
   "file_extension": ".py",
   "mimetype": "text/x-python",
   "name": "python",
   "nbconvert_exporter": "python",
   "pygments_lexer": "ipython3",
   "version": "3.7.9"
  }
 },
 "nbformat": 4,
 "nbformat_minor": 4
}
