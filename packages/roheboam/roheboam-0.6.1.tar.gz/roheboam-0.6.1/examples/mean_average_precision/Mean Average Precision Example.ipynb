{
 "cells": [
  {
   "cell_type": "code",
   "execution_count": 1,
   "id": "proud-brass",
   "metadata": {},
   "outputs": [
    {
     "name": "stderr",
     "output_type": "stream",
     "text": [
      "/home/kevin/miniconda3/envs/roheboam-cuda/lib/python3.7/site-packages/contracts/library/miscellaneous_aliases.py:19: DeprecationWarning: Using or importing the ABCs from 'collections' instead of from 'collections.abc' is deprecated since Python 3.3,and in 3.9 it will stop working\n",
      "  m_new_contract('Container', ist(collections.Container))\n"
     ]
    }
   ],
   "source": [
    "from roheboam.engine.core.metrics.mean_average_precision import MeanAveragePrecision"
   ]
  },
  {
   "cell_type": "code",
   "execution_count": 2,
   "id": "refined-structure",
   "metadata": {},
   "outputs": [
    {
     "name": "stderr",
     "output_type": "stream",
     "text": [
      "/home/kevin/miniconda3/envs/roheboam-cuda/lib/python3.7/site-packages/ipykernel/ipkernel.py:283: DeprecationWarning: `should_run_async` will not call `transform_cell` automatically in the future. Please pass the result to `transformed_cell` argument and any exception that happen during thetransform in `preprocessing_exc_tuple` in IPython 7.17 and above.\n",
      "  and should_run_async(code)\n"
     ]
    }
   ],
   "source": [
    "def get_real_annotations(table):\n",
    "    res = dict()\n",
    "    ids = table['ImageID'].values.astype(np.str)\n",
    "    labels = table['LabelName'].values.astype(np.str)\n",
    "    xmin = table['XMin'].values.astype(np.float32)\n",
    "    xmax = table['XMax'].values.astype(np.float32)\n",
    "    ymin = table['YMin'].values.astype(np.float32)\n",
    "    ymax = table['YMax'].values.astype(np.float32)\n",
    "\n",
    "    for i in range(len(ids)):\n",
    "        id = ids[i]\n",
    "        label = labels[i]\n",
    "        if id not in res:\n",
    "            res[id] = dict()\n",
    "        if label not in res[id]:\n",
    "            res[id][label] = []\n",
    "        box = [xmin[i], ymin[i], xmax[i], ymax[i]]\n",
    "        res[id][label].append(box)\n",
    "\n",
    "    return res\n",
    "\n",
    "\n",
    "def get_detections(table):\n",
    "    res = dict()\n",
    "    ids = table['ImageID'].values.astype(np.str)\n",
    "    labels = table['LabelName'].values.astype(np.str)\n",
    "    scores = table['Conf'].values.astype(np.float32)\n",
    "    xmin = table['XMin'].values.astype(np.float32)\n",
    "    xmax = table['XMax'].values.astype(np.float32)\n",
    "    ymin = table['YMin'].values.astype(np.float32)\n",
    "    ymax = table['YMax'].values.astype(np.float32)\n",
    "\n",
    "    for i in range(len(ids)):\n",
    "        id = ids[i]\n",
    "        label = labels[i]\n",
    "        if id not in res:\n",
    "            res[id] = dict()\n",
    "        if label not in res[id]:\n",
    "            res[id][label] = []\n",
    "        box = [xmin[i], ymin[i], xmax[i], ymax[i], scores[i]]\n",
    "        res[id][label].append(box)\n",
    "\n",
    "    return res\n"
   ]
  },
  {
   "cell_type": "code",
   "execution_count": 3,
   "id": "filled-gibson",
   "metadata": {},
   "outputs": [],
   "source": [
    "def get_detections_and_annotations_from_image_file_name(image_file_name):\n",
    "    predicted_boxes = np.vstack(image_file_name_to_prediction_map[image_file_name].values())[:,:4]\n",
    "    predicted_scores = np.vstack(image_file_name_to_prediction_map[image_file_name].values())[:,4]\n",
    "    predicted_labels = []\n",
    "    for label, boxes in image_file_name_to_prediction_map[image_file_name].items():\n",
    "        predicted_labels.extend([label] * len(boxes))\n",
    "\n",
    "    target_boxes = np.vstack(image_file_name_to_annotations_map[image_file_name].values())\n",
    "    target_labels = []\n",
    "\n",
    "    for label, boxes in image_file_name_to_annotations_map[image_file_name].items():\n",
    "        target_labels.extend([label] * len(boxes))\n",
    "\n",
    "    return np.array(predicted_boxes), np.array(predicted_labels), np.array(predicted_scores), np.array(target_boxes), np.array(target_labels)"
   ]
  },
  {
   "cell_type": "code",
   "execution_count": 4,
   "id": "alert-default",
   "metadata": {},
   "outputs": [],
   "source": [
    "import numpy as np\n",
    "import pandas as pd\n",
    "annotations = pd.read_csv(\"./annotations.csv\")\n",
    "predictions = pd.read_csv(\"./detections.csv\")\n",
    "unique_classes = annotations['LabelName'].unique().astype(np.str)\n",
    "annotation_image_file_names = annotations['ImageID'].unique()\n",
    "prediction_image_file_names = predictions['ImageID'].unique()\n",
    "image_file_name_to_prediction_map = get_detections(predictions)\n",
    "image_file_name_to_annotations_map = get_real_annotations(annotations)"
   ]
  },
  {
   "cell_type": "code",
   "execution_count": 5,
   "id": "certain-offense",
   "metadata": {},
   "outputs": [
    {
     "name": "stderr",
     "output_type": "stream",
     "text": [
      "/home/kevin/miniconda3/envs/roheboam-cuda/lib/python3.7/site-packages/ipykernel_launcher.py:2: FutureWarning: arrays to stack must be passed as a \"sequence\" type such as list or tuple. Support for non-sequence iterables such as generators is deprecated as of NumPy 1.16 and will raise an error in the future.\n",
      "  \n",
      "/home/kevin/miniconda3/envs/roheboam-cuda/lib/python3.7/site-packages/ipykernel_launcher.py:3: FutureWarning: arrays to stack must be passed as a \"sequence\" type such as list or tuple. Support for non-sequence iterables such as generators is deprecated as of NumPy 1.16 and will raise an error in the future.\n",
      "  This is separate from the ipykernel package so we can avoid doing imports until\n",
      "/home/kevin/miniconda3/envs/roheboam-cuda/lib/python3.7/site-packages/ipykernel_launcher.py:8: FutureWarning: arrays to stack must be passed as a \"sequence\" type such as list or tuple. Support for non-sequence iterables such as generators is deprecated as of NumPy 1.16 and will raise an error in the future.\n",
      "  \n"
     ]
    },
    {
     "name": "stdout",
     "output_type": "stream",
     "text": [
      "0.4924558245868219\n"
     ]
    }
   ],
   "source": [
    "mAP_no_nms = MeanAveragePrecision(iou_threshold=0.5, labels=unique_classes)\n",
    "for image_file_name in annotation_image_file_names:\n",
    "    predicted_boxes, predicted_labels, predicted_scores, target_boxes, target_labels = get_detections_and_annotations_from_image_file_name(image_file_name)\n",
    "    mAP_no_nms([predicted_boxes], [predicted_labels], [predicted_scores], [target_boxes], [target_labels])\n",
    "print(mAP_no_nms.mean_average_precision)"
   ]
  },
  {
   "cell_type": "code",
   "execution_count": null,
   "id": "textile-isolation",
   "metadata": {},
   "outputs": [],
   "source": []
  }
 ],
 "metadata": {
  "kernelspec": {
   "display_name": "Python 3",
   "language": "python",
   "name": "python3"
  },
  "language_info": {
   "codemirror_mode": {
    "name": "ipython",
    "version": 3
   },
   "file_extension": ".py",
   "mimetype": "text/x-python",
   "name": "python",
   "nbconvert_exporter": "python",
   "pygments_lexer": "ipython3",
   "version": "3.7.9"
  }
 },
 "nbformat": 4,
 "nbformat_minor": 5
}
