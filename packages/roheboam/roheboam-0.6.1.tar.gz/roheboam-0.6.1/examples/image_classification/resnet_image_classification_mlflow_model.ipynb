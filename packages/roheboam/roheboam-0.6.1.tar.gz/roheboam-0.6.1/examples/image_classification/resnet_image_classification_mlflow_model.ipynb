{
 "cells": [
  {
   "cell_type": "code",
   "execution_count": 14,
   "id": "spatial-region",
   "metadata": {},
   "outputs": [],
   "source": [
    "# default_exp mlflow_resnet_model_prediction"
   ]
  },
  {
   "cell_type": "code",
   "execution_count": 15,
   "id": "informed-scottish",
   "metadata": {},
   "outputs": [],
   "source": [
    "#export \n",
    "import json\n",
    "from pathlib import Path\n",
    "import random\n",
    "\n",
    "import cloudpickle\n",
    "import mlflow\n",
    "import pandas as pd\n",
    "import numpy as np\n",
    "from pytorch_lightning.utilities.cloud_io import load as pl_load\n",
    "from roheboam.engine import get_toolbox_lookup\n",
    "from roheboam.engine.integrations.mlflow.saving import save_mlflow_pyfunc_model\n",
    "from roheboam.engine.integrations.mlflow.loading import load_mlflow_pyfunc_model\n",
    "from roheboam.engine.pipeline import Pipeline\n",
    "from roheboam.engine.pipeline.config_loader import load_config_from_paths\n",
    "from roheboam.engine.pipeline.constants import VARIABLE_KEY\n",
    "from roheboam.engine.utils.convenience import is_notebook\n",
    "from roheboam.engine.utils.saving import save_to_temporary_file\n",
    "from roheboam.engine.utils.testing import (\n",
    "    all_methods_in_callback_handler_are_called,\n",
    "    arrays_are_same,\n",
    "    copy_and_flatten_model_weights,\n",
    ")\n",
    "from roheboam.engine.vision.tasks.image_classification.deployment import (\n",
    "    MLFlowPyfuncImageClassificationModel,\n",
    ")\n",
    "from roheboam.engine.vision.tasks.image_classification.data import (\n",
    "    create_image_classification_sample,\n",
    ")\n",
    "from roheboam.engine.vision.tasks.image_classification.loaders import (\n",
    "    create_image_classification_samples_data_for_label_per_folder,\n",
    ")\n",
    "from roheboam.engine.logger import no_engine_logs"
   ]
  },
  {
   "cell_type": "code",
   "execution_count": 16,
   "id": "light-history",
   "metadata": {},
   "outputs": [],
   "source": [
    "# export\n",
    "ROOT_PATH = Path(globals()[\"_dh\"][0]) if is_notebook() else Path(__file__).parent.parent"
   ]
  },
  {
   "cell_type": "code",
   "execution_count": 17,
   "id": "massive-breath",
   "metadata": {},
   "outputs": [],
   "source": [
    "# export\n",
    "mlflow_save_path = ROOT_PATH / \"models\" / \"model_for_test\" / \"mlflow\"\n",
    "with no_engine_logs():\n",
    "    mlflow_model = mlflow.pyfunc.load_model(str(mlflow_save_path))\n",
    "   "
   ]
  },
  {
   "cell_type": "code",
   "execution_count": null,
   "id": "criminal-regression",
   "metadata": {},
   "outputs": [],
   "source": [
    "# export \n",
    "test_data_path = ROOT_PATH / \"data\" / \"hotdog_not_hotdog_test\"/\"test\"\n",
    "test_samples = create_image_classification_samples_data_for_label_per_folder(test_data_path, label_map={ \"not_hot_dog\": 0, \"hot_dog\": 1 })\n",
    "test_samples = [create_image_classification_sample(**s) for s in test_samples]\n",
    "test_samples_json = {\n",
    "    \"columns\": [\"images\", \"shapes\"],\n",
    "    \"index\": [i for i in range(len(test_samples))],\n",
    "    \"data\": [\n",
    "        [s.image.data.tolist(), s.image.data.shape]\n",
    "        for s in test_samples\n",
    "    ],\n",
    "}\n",
    "images_df = pd.read_json(json.dumps(test_samples_json), orient=\"split\")"
   ]
  },
  {
   "cell_type": "code",
   "execution_count": 19,
   "id": "loving-nomination",
   "metadata": {},
   "outputs": [
    {
     "name": "stderr",
     "output_type": "stream",
     "text": [
      "LOCAL_RANK: 0 - CUDA_VISIBLE_DEVICES: [0,1]\n"
     ]
    },
    {
     "data": {
      "application/vnd.jupyter.widget-view+json": {
       "model_id": "cb12f48cf22042109f1fb923db3cbe33",
       "version_major": 2,
       "version_minor": 0
      },
      "text/plain": [
       "HBox(children=(HTML(value='Testing'), FloatProgress(value=1.0, bar_style='info', layout=Layout(flex='2'), max=…"
      ]
     },
     "metadata": {},
     "output_type": "display_data"
    },
    {
     "name": "stdout",
     "output_type": "stream",
     "text": [
      "--------------------------------------------------------------------------------\n",
      "DATALOADER:0 TEST RESULTS\n",
      "{}\n",
      "--------------------------------------------------------------------------------\n",
      "\n",
      "Elapsed time: 0.39220714569091797\n"
     ]
    }
   ],
   "source": [
    "# export\n",
    "mlflow_predictions = mlflow_model.predict(images_df)"
   ]
  },
  {
   "cell_type": "code",
   "execution_count": 1,
   "id": "every-concert",
   "metadata": {},
   "outputs": [
    {
     "name": "stdout",
     "output_type": "stream",
     "text": [
      "Converted resnet_image_classification_mlflow_model.ipynb.\n",
      "Converted test_end_to_end_resnet_image_classification.ipynb.\n"
     ]
    }
   ],
   "source": [
    "from nbdev.export import notebook2script\n",
    "\n",
    "notebook2script()"
   ]
  },
  {
   "cell_type": "code",
   "execution_count": null,
   "id": "805bbca5",
   "metadata": {},
   "outputs": [],
   "source": []
  }
 ],
 "metadata": {
  "kernelspec": {
   "display_name": "Python 3",
   "language": "python",
   "name": "python3"
  },
  "language_info": {
   "codemirror_mode": {
    "name": "ipython",
    "version": 3
   },
   "file_extension": ".py",
   "mimetype": "text/x-python",
   "name": "python",
   "nbconvert_exporter": "python",
   "pygments_lexer": "ipython3",
   "version": "3.7.9"
  }
 },
 "nbformat": 4,
 "nbformat_minor": 5
}
