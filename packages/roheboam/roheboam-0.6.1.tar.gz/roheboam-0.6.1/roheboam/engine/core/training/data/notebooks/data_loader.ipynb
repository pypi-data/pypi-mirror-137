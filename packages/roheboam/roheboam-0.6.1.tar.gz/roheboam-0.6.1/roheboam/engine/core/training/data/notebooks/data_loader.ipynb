{
 "cells": [
  {
   "cell_type": "code",
   "execution_count": 1,
   "metadata": {},
   "outputs": [
    {
     "name": "stdout",
     "output_type": "stream",
     "text": [
      "env: CUDA_VISIBLE_DEVICES=0\n"
     ]
    }
   ],
   "source": [
    "%load_ext autoreload\n",
    "%autoreload 2\n",
    "%load_ext lab_black\n",
    "%matplotlib inline\n",
    "%env CUDA_VISIBLE_DEVICES=0"
   ]
  },
  {
   "cell_type": "code",
   "execution_count": 2,
   "metadata": {},
   "outputs": [],
   "source": [
    "# default_exp data_loader"
   ]
  },
  {
   "cell_type": "code",
   "execution_count": 25,
   "metadata": {},
   "outputs": [],
   "source": [
    "# export\n",
    "from collections import Counter\n",
    "\n",
    "from torch.utils.data import DataLoader as PytorchDataLoader, Dataset\n",
    "from torch.utils.data import WeightedRandomSampler\n",
    "from tqdm import tqdm\n",
    "\n",
    "\n",
    "class DataLoader(PytorchDataLoader):\n",
    "    pass\n",
    "\n",
    "\n",
    "def create_weighted_random_sampler(weights, n_samples=None, replacement=True):\n",
    "    if n_samples is None:\n",
    "        n_samples = len(weights)\n",
    "    return WeightedRandomSampler(\n",
    "        weights, num_samples=n_samples, replacement=replacement\n",
    "    )\n",
    "\n",
    "\n",
    "def create_sample_weights_from_multilabels(multilabels, no_label_sample_factor=1):\n",
    "    all_labels = []\n",
    "    labels_for_samples = []\n",
    "    sample_weights = []\n",
    "    n_samples = len(multilabels)\n",
    "\n",
    "    for labels in tqdm(multilabels):\n",
    "        labels_for_samples.append(labels)\n",
    "        all_labels.extend(labels)\n",
    "\n",
    "    label_counts = Counter(all_labels)\n",
    "\n",
    "    weight_lookup = {label: 1 / n_labels for label, n_labels in label_counts.items()}\n",
    "\n",
    "    for labels_for_sample in labels_for_samples:\n",
    "        if len(labels_for_sample) == 0:\n",
    "            sample_weights.append(1 / n_samples ** no_label_sample_factor)\n",
    "            continue\n",
    "        sample_weights.append(\n",
    "            sum([weight_lookup[l] for l in labels_for_sample]) / len(labels_for_sample)\n",
    "        )\n",
    "    return sample_weights\n",
    "\n",
    "\n",
    "lookup = {\n",
    "    \"DataLoader\": DataLoader,\n",
    "    \"create_weighted_random_sampler\": create_weighted_random_sampler,\n",
    "    \"create_sample_weights_from_multilabels\": create_sample_weights_from_multilabels,\n",
    "}"
   ]
  },
  {
   "cell_type": "markdown",
   "metadata": {},
   "source": [
    "##### Tests for create_sample_weights_from_multilabel"
   ]
  },
  {
   "cell_type": "code",
   "execution_count": 20,
   "metadata": {},
   "outputs": [
    {
     "name": "stderr",
     "output_type": "stream",
     "text": [
      "100%|██████████| 3/3 [00:00<00:00, 35848.75it/s]\n"
     ]
    }
   ],
   "source": [
    "multilabels = [[1], [1, 2], [1, 2, 3]]\n",
    "sample_weights_from_multilabels = create_sample_weights_from_multilabels(multilabels)\n",
    "assert sample_weights_from_multilabels == [\n",
    "    0.3333333333333333,\n",
    "    0.41666666666666663,\n",
    "    0.611111111111111,\n",
    "]"
   ]
  },
  {
   "cell_type": "code",
   "execution_count": 21,
   "metadata": {},
   "outputs": [
    {
     "name": "stderr",
     "output_type": "stream",
     "text": [
      "100%|██████████| 3/3 [00:00<00:00, 14597.35it/s]\n"
     ]
    }
   ],
   "source": [
    "multilabels = [[], [1, 2], [1, 2, 3]]\n",
    "sample_weights_from_multilabels_with_no_label_sample_factor_1 = (\n",
    "    create_sample_weights_from_multilabels(multilabels, no_label_sample_factor=1)\n",
    ")\n",
    "assert sample_weights_from_multilabels_with_no_label_sample_factor_1 == [\n",
    "    0.3333333333333333,\n",
    "    0.5,\n",
    "    0.6666666666666666,\n",
    "]"
   ]
  },
  {
   "cell_type": "markdown",
   "metadata": {},
   "source": [
    "##### Tests for create_weighted_random_sampler"
   ]
  },
  {
   "cell_type": "code",
   "execution_count": 87,
   "metadata": {},
   "outputs": [],
   "source": [
    "class TestDataset(Dataset):\n",
    "    def __init__(self, samples):\n",
    "        self.samples = samples\n",
    "\n",
    "    def __len__(self):\n",
    "        return len(samples)\n",
    "\n",
    "    def __getitem__(self, i):\n",
    "        return self.samples[i]\n",
    "\n",
    "\n",
    "weights = [0.05, 0.35, 0.6]\n",
    "weighted_random_sampler = create_weighted_random_sampler(weights=weights, n_samples=100)\n",
    "data_loader = PytorchDataLoader(\n",
    "    TestDataset(samples=[0, 1, 2]), sampler=weighted_random_sampler\n",
    ")\n",
    "sampled_results = [r.item() for r in data_loader]\n",
    "assert len(sampled_results) == 100\n",
    "Counter(sampled_results)"
   ]
  },
  {
   "cell_type": "code",
   "execution_count": 95,
   "metadata": {},
   "outputs": [
    {
     "name": "stdout",
     "output_type": "stream",
     "text": [
      "Converted data_loader.ipynb.\n"
     ]
    }
   ],
   "source": [
    "from nbdev.export import notebook2script\n",
    "\n",
    "notebook2script()"
   ]
  }
 ],
 "metadata": {
  "kernelspec": {
   "display_name": "Python 3",
   "language": "python",
   "name": "python3"
  },
  "language_info": {
   "codemirror_mode": {
    "name": "ipython",
    "version": 3
   },
   "file_extension": ".py",
   "mimetype": "text/x-python",
   "name": "python",
   "nbconvert_exporter": "python",
   "pygments_lexer": "ipython3",
   "version": "3.7.9"
  }
 },
 "nbformat": 4,
 "nbformat_minor": 4
}
