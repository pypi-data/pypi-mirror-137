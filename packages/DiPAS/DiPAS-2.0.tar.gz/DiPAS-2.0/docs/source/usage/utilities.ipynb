{
 "cells": [
  {
   "cell_type": "markdown",
   "metadata": {
    "pycharm": {
     "name": "#%% md\n"
    }
   },
   "source": [
    "# MADX utilities\n",
    "\n",
    "Several utilities for interfacing with the MADX program exist in the module `madx.utils`. The following functions can\n",
    "be used to run MADX scripts:\n",
    "\n",
    "* `run_file` - Runs a bunch of dependent MADX script files together with possibilities for further configuration (see the API docs for more details).\n",
    "* `run_script` - Runs a single script with the possibility for further configuration (see the API docs for more details).\n",
    "* `run_orm` - Compute the orbit response matrix for a given MADX sequence definition.\n",
    "\n",
    "The resulting files are returned as pandas data frames by default but the functions can be configured to return the raw file contents\n",
    "instead. The stdout and stderr is returned as well.\n",
    "\n",
    "These functions can also be imported from the `dipas.madx` subpackage directly.\n",
    "\n",
    "## Running MADX scripts\n",
    "\n",
    "For example we can run `TWISS` computations on one of the example scripts:"
   ]
  },
  {
   "cell_type": "code",
   "execution_count": 1,
   "metadata": {
    "execution": {
     "iopub.execute_input": "2021-02-05T21:08:21.778208Z",
     "iopub.status.busy": "2021-02-05T21:08:21.777612Z",
     "iopub.status.idle": "2021-02-05T21:08:22.441191Z",
     "shell.execute_reply": "2021-02-05T21:08:22.441686Z"
    },
    "pycharm": {
     "name": "#%%\n"
    }
   },
   "outputs": [
    {
     "name": "stdout",
     "output_type": "stream",
     "text": [
      "['stdout', 'stderr']\n",
      "\n"
     ]
    }
   ],
   "source": [
    "from importlib import resources\n",
    "import os.path\n",
    "from dipas.madx import run_file, run_script, run_orm\n",
    "import dipas.test.sequences\n",
    "\n",
    "with resources.path(dipas.test.sequences, 'cryring.seq') as path:\n",
    "    result = run_file(path, madx=os.path.expanduser('~/bin/madx'))\n",
    "\n",
    "print(list(result))\n",
    "print(result['stderr'])"
   ]
  },
  {
   "cell_type": "markdown",
   "metadata": {},
   "source": [
    "`result['stdout']` contains the whole echo from the script, which is pretty long, so we won't print it here.\n",
    "The empty list which was passed to `run_file` is a list of resulting files that should be retrieved, but since that example\n",
    "script just contained the sequence definition, no files were created anyway. Let's change that and also remove the echo:"
   ]
  },
  {
   "cell_type": "code",
   "execution_count": 2,
   "metadata": {
    "execution": {
     "iopub.execute_input": "2021-02-05T21:08:22.446482Z",
     "iopub.status.busy": "2021-02-05T21:08:22.445642Z",
     "iopub.status.idle": "2021-02-05T21:08:22.690317Z",
     "shell.execute_reply": "2021-02-05T21:08:22.690727Z"
    },
    "pycharm": {
     "name": "#%%\n"
    }
   },
   "outputs": [],
   "source": [
    "script = resources.read_text(dipas.test.sequences, 'cryring.seq')\n",
    "script = 'option, -echo;\\n' + script\n",
    "script += 'twiss, save, file = \"twiss\";'\n",
    "result = run_script(script, ['twiss'], madx=os.path.expanduser('~/bin/madx'))"
   ]
  },
  {
   "cell_type": "markdown",
   "metadata": {},
   "source": [
    "Here we added a `TWISS` command to the script, which generates the file \"twiss\" which we then specified as a result in\n",
    "the call to `run_script`. Let's check the `result` now:"
   ]
  },
  {
   "cell_type": "code",
   "execution_count": 3,
   "metadata": {
    "execution": {
     "iopub.execute_input": "2021-02-05T21:08:22.696333Z",
     "iopub.status.busy": "2021-02-05T21:08:22.695597Z",
     "iopub.status.idle": "2021-02-05T21:08:22.699241Z",
     "shell.execute_reply": "2021-02-05T21:08:22.698661Z"
    },
    "pycharm": {
     "name": "#%%\n"
    }
   },
   "outputs": [
    {
     "name": "stdout",
     "output_type": "stream",
     "text": [
      "['stdout', 'stderr', 'twiss']\n",
      "<class 'pandas.core.frame.DataFrame'>\n",
      "Index(['NAME', 'KEYWORD', 'S', 'BETX', 'ALFX', 'MUX', 'BETY', 'ALFY', 'MUY',\n",
      "       'X',\n",
      "       ...\n",
      "       'SIG54', 'SIG55', 'SIG56', 'SIG61', 'SIG62', 'SIG63', 'SIG64', 'SIG65',\n",
      "       'SIG66', 'N1'],\n",
      "      dtype='object', length=256)\n"
     ]
    }
   ],
   "source": [
    "print(list(result))\n",
    "print(type(result['twiss']))\n",
    "print(result['twiss'].columns)"
   ]
  },
  {
   "cell_type": "markdown",
   "metadata": {},
   "source": [
    "The `result['twiss']` is a pandas data frame, containing exactly the information from the generates \"twiss\" file.\n",
    "\n",
    "Instead of adding the `twiss` command manually we can also specify the keyword argument `twiss=True` for `run_script` which will take care of the necessary actions (+ add `'twiss'` as a requested result)."
   ]
  },
  {
   "cell_type": "code",
   "execution_count": 4,
   "metadata": {
    "execution": {
     "iopub.execute_input": "2021-02-05T21:08:22.704934Z",
     "iopub.status.busy": "2021-02-05T21:08:22.703943Z",
     "iopub.status.idle": "2021-02-05T21:08:22.942367Z",
     "shell.execute_reply": "2021-02-05T21:08:22.942835Z"
    }
   },
   "outputs": [
    {
     "name": "stdout",
     "output_type": "stream",
     "text": [
      "['stdout', 'stderr', 'twiss']\n",
      "<class 'tuple'>\n"
     ]
    }
   ],
   "source": [
    "with resources.path(dipas.test.sequences, 'cryring.seq') as path:\n",
    "    result = run_file(path, twiss=True, madx=os.path.expanduser('~/bin/madx'))\n",
    "\n",
    "print(list(result))\n",
    "print(type(result['twiss']))"
   ]
  },
  {
   "cell_type": "markdown",
   "metadata": {},
   "source": [
    "Alternatively we could also provide a `dict` for the `twiss` keyword argument in order to specify the various arguments for the `twiss` command."
   ]
  },
  {
   "cell_type": "markdown",
   "metadata": {},
   "source": [
    "## Retrieving meta data from output files\n",
    "\n",
    "If we wanted the meta information, at the beginning of the \"twiss\" file and prefixed by \"@\", as well we can specify the\n",
    "resulting files that we want to retrieve as a dict instead: keys are file names and values are bools, indicating whether\n",
    "we want the meta information for that particular file or not:"
   ]
  },
  {
   "cell_type": "code",
   "execution_count": 5,
   "metadata": {
    "execution": {
     "iopub.execute_input": "2021-02-05T21:08:22.953757Z",
     "iopub.status.busy": "2021-02-05T21:08:22.950945Z",
     "iopub.status.idle": "2021-02-05T21:08:23.193250Z",
     "shell.execute_reply": "2021-02-05T21:08:23.192634Z"
    },
    "pycharm": {
     "name": "#%%\n"
    }
   },
   "outputs": [
    {
     "name": "stdout",
     "output_type": "stream",
     "text": [
      "<class 'tuple'>\n",
      "<class 'pandas.core.frame.DataFrame'>\n",
      "<class 'dict'>\n"
     ]
    }
   ],
   "source": [
    "result = run_script(script, {'twiss': True}, madx=os.path.expanduser('~/bin/madx'))\n",
    "print(type(result['twiss']))\n",
    "print(type(result['twiss'][0]))\n",
    "print(type(result['twiss'][1]))"
   ]
  },
  {
   "cell_type": "markdown",
   "metadata": {},
   "source": [
    "There also exists a shorthand syntax for requesting meta data, namely specifying `'<filename>+meta'` in the results list:"
   ]
  },
  {
   "cell_type": "code",
   "execution_count": 6,
   "metadata": {
    "execution": {
     "iopub.execute_input": "2021-02-05T21:08:23.198535Z",
     "iopub.status.busy": "2021-02-05T21:08:23.197377Z",
     "iopub.status.idle": "2021-02-05T21:08:23.438288Z",
     "shell.execute_reply": "2021-02-05T21:08:23.439056Z"
    }
   },
   "outputs": [
    {
     "name": "stdout",
     "output_type": "stream",
     "text": [
      "<class 'tuple'>\n"
     ]
    }
   ],
   "source": [
    "result = run_script(script, ['twiss+meta'], madx=os.path.expanduser('~/bin/madx'))\n",
    "print(type(result['twiss']))"
   ]
  },
  {
   "cell_type": "code",
   "execution_count": 7,
   "metadata": {
    "execution": {
     "iopub.execute_input": "2021-02-05T21:08:23.445053Z",
     "iopub.status.busy": "2021-02-05T21:08:23.443610Z",
     "iopub.status.idle": "2021-02-05T21:08:23.454228Z",
     "shell.execute_reply": "2021-02-05T21:08:23.453629Z"
    },
    "pycharm": {
     "name": "#%%\n"
    }
   },
   "outputs": [
    {
     "name": "stdout",
     "output_type": "stream",
     "text": [
      "{'ALFA': 0.1884508489,\n",
      " 'BCURRENT': 0.0,\n",
      " 'BETXMAX': 7.14827132,\n",
      " 'BETYMAX': 7.958073519,\n",
      " 'BV_FLAG': 1.0,\n",
      " 'CHARGE': 1.0,\n",
      " 'DATE': '05/02/21',\n",
      " 'DELTAP': 0.0,\n",
      " 'DQ1': -4.394427712,\n",
      " 'DQ2': -10.92147539,\n",
      " 'DXMAX': 5.852905623,\n",
      " 'DXRMS': 4.993097628,\n",
      " 'DYMAX': 0.0,\n",
      " 'DYRMS': 0.0,\n",
      " 'ENERGY': 1.0,\n",
      " 'ET': 0.001,\n",
      " 'EX': 1.0,\n",
      " 'EY': 1.0,\n",
      " 'GAMMA': 1.065788933,\n",
      " 'GAMMATR': 2.303567544,\n",
      " 'KBUNCH': 1.0,\n",
      " 'LENGTH': 54.17782237,\n",
      " 'MASS': 0.9382720813,\n",
      " 'NAME': 'TWISS',\n",
      " 'NPART': 0.0,\n",
      " 'ORBIT5': -0.0,\n",
      " 'ORIGIN': '5.05.02 Linux 64',\n",
      " 'PARTICLE': 'PROTON',\n",
      " 'PC': 0.3458981085,\n",
      " 'Q1': 2.42,\n",
      " 'Q2': 2.419999999,\n",
      " 'SEQUENCE': 'CRYRING',\n",
      " 'SIGE': 0.001,\n",
      " 'SIGT': 1.0,\n",
      " 'SYNCH_1': 0.0,\n",
      " 'SYNCH_2': 0.0,\n",
      " 'SYNCH_3': 0.0,\n",
      " 'SYNCH_4': 0.0,\n",
      " 'SYNCH_5': 0.0,\n",
      " 'TIME': '22.08.23',\n",
      " 'TITLE': 'no-title',\n",
      " 'TYPE': 'TWISS',\n",
      " 'XCOMAX': 0.0,\n",
      " 'XCORMS': 0.0,\n",
      " 'YCOMAX': 0.0,\n",
      " 'YCORMS': 0.0}\n"
     ]
    }
   ],
   "source": [
    "from pprint import pprint\n",
    "\n",
    "pprint(result['twiss'][1])"
   ]
  },
  {
   "cell_type": "markdown",
   "metadata": {},
   "source": [
    "If meta information is requested, the result is a tuple containing the actual file content as a data frame and the meta data as a dict.\n",
    "\n",
    "Requested output files will be converted according to their suffix (if present) or if they have a special file name. File names ending in `\"one\"` are assumed to have emerged from `TRACKONE` and are parsed accordingly. File names ending in `.madx` or `.seq` are assumed to be MADX files and parsed versions are returned (see `madx.parser.parse_file`). Otherwise it is attempted to convert the file from TFS format to a `pandas.DataFrame`. If this fails, then the raw file content is returned as a string. We can also request explicitly that a file should be treated according to a given format via `<filename>;tfs`. Here the file format is specified after a semicolon. The following formats are available:\n",
    "\n",
    "* `madx`: Will be parsed according to `madx.parser.parse_file`.\n",
    "* `raw`: Returns the raw file content as a string.\n",
    "* `tfs`: Converts from TFS format to `pandas.DataFrame`.\n",
    "* `trackone`: Converts from special TRACKONE-TFS format to `pandas.DataFrame`.\n",
    "\n",
    "For more details see `madx.utils.convert`."
   ]
  },
  {
   "cell_type": "code",
   "execution_count": 8,
   "metadata": {
    "execution": {
     "iopub.execute_input": "2021-02-05T21:08:23.458853Z",
     "iopub.status.busy": "2021-02-05T21:08:23.458112Z",
     "iopub.status.idle": "2021-02-05T21:08:23.532912Z",
     "shell.execute_reply": "2021-02-05T21:08:23.533378Z"
    }
   },
   "outputs": [
    {
     "name": "stdout",
     "output_type": "stream",
     "text": [
      "<class 'str'>\n",
      "\n",
      "['@ NAME             %05s \"TWISS\"',\n",
      " '@ TYPE             %05s \"TWISS\"',\n",
      " '@ SEQUENCE         %07s \"CRYRING\"',\n",
      " '@ PARTICLE         %06s \"PROTON\"',\n",
      " '@ MASS             %le        0.9382720813']\n"
     ]
    }
   ],
   "source": [
    "result = run_script(script, ['twiss;raw'], madx=os.path.expanduser('~/bin/madx'))\n",
    "print(type(result['twiss']), end='\\n\\n')\n",
    "pprint(result['twiss'].splitlines()[:5])"
   ]
  },
  {
   "cell_type": "markdown",
   "metadata": {},
   "source": [
    "## Configure scripts before running\n",
    "\n",
    "Now let's inspect the resulting data frame, for example the orbit:"
   ]
  },
  {
   "cell_type": "code",
   "execution_count": 9,
   "metadata": {
    "execution": {
     "iopub.execute_input": "2021-02-05T21:08:23.538514Z",
     "iopub.status.busy": "2021-02-05T21:08:23.537510Z",
     "iopub.status.idle": "2021-02-05T21:08:23.790121Z",
     "shell.execute_reply": "2021-02-05T21:08:23.789507Z"
    },
    "pycharm": {
     "name": "#%%\n"
    }
   },
   "outputs": [
    {
     "name": "stdout",
     "output_type": "stream",
     "text": [
      "           X      Y\n",
      "count  184.0  184.0\n",
      "mean     0.0    0.0\n",
      "std      0.0    0.0\n",
      "min      0.0    0.0\n",
      "25%      0.0    0.0\n",
      "50%      0.0    0.0\n",
      "75%      0.0    0.0\n",
      "max      0.0    0.0\n"
     ]
    }
   ],
   "source": [
    "result = run_script(script, ['twiss'], madx=os.path.expanduser('~/bin/madx'))\n",
    "twiss = result['twiss']\n",
    "print(twiss[['X', 'Y']].describe())"
   ]
  },
  {
   "cell_type": "markdown",
   "metadata": {},
   "source": [
    "Since the lattice does not contain any zeroth order kicks the orbit is just zero. We can change that by modifying\n",
    "(configuring) the script while we run it. For that purpose we can use the `variables` parameter. This parameter\n",
    "allows for replacing in variable definition of the form `name :?= value;` the `value` with a `new_value`."
   ]
  },
  {
   "cell_type": "code",
   "execution_count": 10,
   "metadata": {
    "execution": {
     "iopub.execute_input": "2021-02-05T21:08:23.797276Z",
     "iopub.status.busy": "2021-02-05T21:08:23.796252Z",
     "iopub.status.idle": "2021-02-05T21:08:24.051549Z",
     "shell.execute_reply": "2021-02-05T21:08:24.052017Z"
    },
    "pycharm": {
     "name": "#%%\n"
    }
   },
   "outputs": [
    {
     "name": "stdout",
     "output_type": "stream",
     "text": [
      "                X      Y\n",
      "count  184.000000  184.0\n",
      "mean     0.002166    0.0\n",
      "std      0.009515    0.0\n",
      "min     -0.016486    0.0\n",
      "25%     -0.008191    0.0\n",
      "50%      0.005374    0.0\n",
      "75%      0.008827    0.0\n",
      "max      0.016840    0.0\n"
     ]
    }
   ],
   "source": [
    "result = run_script(script, ['twiss'], variables={'k02kh': 0.005}, madx=os.path.expanduser('~/bin/madx'))\n",
    "print(result['twiss'][['X', 'Y']].describe())"
   ]
  },
  {
   "cell_type": "markdown",
   "metadata": {},
   "source": [
    "Since we configured one of the horizontal kickers to have a non-zero kick strength the horizontal orbit changed but\n",
    "the vertical orbit remained zero (no coupling in the lattice)."
   ]
  },
  {
   "cell_type": "markdown",
   "metadata": {},
   "source": [
    "## Compute the Orbit Response Matrix\n",
    "\n",
    "Using the `madx.utils.run_orm` function we can compute the orbit response matrix for the given lattice, by specifying\n",
    "a list of kicker and monitor labels. The ORM will be computed using these kickers and measured at these monitors:"
   ]
  },
  {
   "cell_type": "code",
   "execution_count": 11,
   "metadata": {
    "execution": {
     "iopub.execute_input": "2021-02-05T21:08:24.057294Z",
     "iopub.status.busy": "2021-02-05T21:08:24.056486Z",
     "iopub.status.idle": "2021-02-05T21:08:26.104737Z",
     "shell.execute_reply": "2021-02-05T21:08:26.105239Z"
    },
    "pycharm": {
     "name": "#%%\n"
    }
   },
   "outputs": [
    {
     "name": "stdout",
     "output_type": "stream",
     "text": [
      "             yr04kh    yr06kh    yr08kh    yr10kh\n",
      "X yr02dx1  1.092090 -2.951312  3.234832 -2.705921\n",
      "  yr03dx1  1.808234 -1.395442  0.589074  0.474549\n",
      "  yr03dx4  1.640022 -0.751784 -0.167347  1.159677\n",
      "Y yr02dx1  0.000000  0.000000  0.000000  0.000000\n",
      "  yr03dx1  0.000000  0.000000  0.000000  0.000000\n",
      "  yr03dx4  0.000000  0.000000  0.000000  0.000000\n",
      "\n",
      "           yr04kh    yr06kh    yr08kh    yr10kh\n",
      "yr02dx1  1.092090 -2.951312  3.234832 -2.705921\n",
      "yr03dx1  1.808234 -1.395442  0.589074  0.474549\n",
      "yr03dx4  1.640022 -0.751784 -0.167347  1.159677\n",
      "\n"
     ]
    }
   ],
   "source": [
    "kickers = ['yr04kh', 'yr06kh', 'yr08kh', 'yr10kh']\n",
    "monitors = ['yr02dx1', 'yr03dx1', 'yr03dx4']\n",
    "orm = run_orm(script, kickers=kickers, monitors=monitors, madx=os.path.expanduser('~/bin/madx'))\n",
    "print(orm, end='\\n\\n')\n",
    "print(orm.loc['X'], end='\\n\\n')"
   ]
  },
  {
   "cell_type": "markdown",
   "metadata": {},
   "source": [
    "Since we chose only horizontal kickers, the vertical ORM is zero (no coupling).\n"
   ]
  },
  {
   "cell_type": "markdown",
   "metadata": {
    "collapsed": false,
    "pycharm": {
     "name": "#%% md\n"
    }
   },
   "source": [
    "## Direct comparison with MADX\n",
    "\n",
    "The `dipas.aux` module provides the `compare_with_madx` function which can be used to compare Twiss\n",
    "and ORM results directly. It returns three dataframes, `df_global, df_twiss, df_orm` which hold the\n",
    "global lattice parameters, lattice functions and Orbit Response Matrix data for both DiPAS and MADX.\n",
    "Each dataframe has a multi-level row index where the first level contains the keys `['dipas', 'madx']`\n",
    "which can be used to access the different versions."
   ]
  },
  {
   "cell_type": "code",
   "execution_count": 12,
   "metadata": {
    "collapsed": false,
    "execution": {
     "iopub.execute_input": "2021-02-05T21:08:26.110839Z",
     "iopub.status.busy": "2021-02-05T21:08:26.110334Z",
     "iopub.status.idle": "2021-02-05T21:08:27.849163Z",
     "shell.execute_reply": "2021-02-05T21:08:27.848581Z"
    },
    "pycharm": {
     "name": "#%%\n"
    }
   },
   "outputs": [
    {
     "name": "stdout",
     "output_type": "stream",
     "text": [
      "Q1    4.532117e-10\n",
      "Q2    2.747775e-10\n",
      "dtype: float64\n",
      "\n",
      "x      0.000000e+00\n",
      "px     0.000000e+00\n",
      "y      0.000000e+00\n",
      "py     0.000000e+00\n",
      "bx     4.934237e-10\n",
      "ax     4.981462e-10\n",
      "mx     4.939862e-10\n",
      "by     4.991119e-10\n",
      "ay     4.896188e-10\n",
      "my     4.978684e-10\n",
      "dx     3.150174e-07\n",
      "dpx    8.382842e-08\n",
      "dy     0.000000e+00\n",
      "dpy    0.000000e+00\n",
      "dtype: float64\n",
      "\n"
     ]
    }
   ],
   "source": [
    "import numpy as np\n",
    "from dipas.aux import compare_with_madx\n",
    "from dipas.build import from_file\n",
    "\n",
    "with resources.path('dipas.test.sequences', 'cryring.seq') as f_path:\n",
    "    lattice = from_file(f_path)\n",
    "\n",
    "df_global, df_twiss = compare_with_madx(lattice, orm=False, madx=os.path.expanduser('~/bin/madx'))\n",
    "print(df_global.loc['dipas'] - df_global.loc['madx'], end=2*'\\n')\n",
    "print(np.abs(df_twiss.loc['dipas'] - df_twiss.loc['madx']).max(), end=2*'\\n')"
   ]
  },
  {
   "cell_type": "markdown",
   "metadata": {
    "collapsed": false,
    "pycharm": {
     "name": "#%% md\n"
    }
   },
   "source": [
    "There exists also a command line utility which can be used to check whether the results agree with MADX:\n",
    "`dipas verify /path/to/script.madx`."
   ]
  }
 ],
 "metadata": {
  "kernelspec": {
   "display_name": "Python 3",
   "language": "python",
   "name": "python3"
  },
  "language_info": {
   "codemirror_mode": {
    "name": "ipython",
    "version": 3
   },
   "file_extension": ".py",
   "mimetype": "text/x-python",
   "name": "python",
   "nbconvert_exporter": "python",
   "pygments_lexer": "ipython3",
   "version": "3.7.9"
  }
 },
 "nbformat": 4,
 "nbformat_minor": 2
}