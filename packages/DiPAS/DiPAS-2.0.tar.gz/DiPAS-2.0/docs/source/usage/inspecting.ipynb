{
 "cells": [
  {
   "cell_type": "markdown",
   "metadata": {
    "pycharm": {
     "name": "#%% md\n"
    }
   },
   "source": [
    "# Inspecting lattices\n",
    "\n",
    "Once we have a lattice in form of a `elements.Segment` instance, such as returned from `build.from_file`,\n",
    "we can inspect its elements in various ways:"
   ]
  },
  {
   "cell_type": "code",
   "execution_count": 1,
   "metadata": {
    "execution": {
     "iopub.execute_input": "2021-02-05T21:07:43.923109Z",
     "iopub.status.busy": "2021-02-05T21:07:43.922465Z",
     "iopub.status.idle": "2021-02-05T21:07:44.937556Z",
     "shell.execute_reply": "2021-02-05T21:07:44.936873Z"
    },
    "pycharm": {
     "name": "#%%\n"
    }
   },
   "outputs": [
    {
     "name": "stdout",
     "output_type": "stream",
     "text": [
      "21\n"
     ]
    }
   ],
   "source": [
    "from importlib import resources\n",
    "import warnings\n",
    "from dipas.build import from_file\n",
    "from dipas.elements import Quadrupole, HKicker, SBend\n",
    "import dipas.test.sequences\n",
    "\n",
    "warnings.simplefilter('ignore')\n",
    "\n",
    "with resources.path(dipas.test.sequences, 'hades.seq') as path:\n",
    "    lattice = from_file(path)\n",
    "\n",
    "print(len(lattice[Quadrupole]))"
   ]
  },
  {
   "cell_type": "markdown",
   "metadata": {
    "pycharm": {
     "name": "#%% md\n"
    }
   },
   "source": [
    "Here `lattice[Quadrupole]` returns a list containing all quadrupoles in the lattice.\n",
    "This can be done with any lattice element class:"
   ]
  },
  {
   "cell_type": "code",
   "execution_count": 2,
   "metadata": {
    "execution": {
     "iopub.execute_input": "2021-02-05T21:07:44.942243Z",
     "iopub.status.busy": "2021-02-05T21:07:44.941616Z",
     "iopub.status.idle": "2021-02-05T21:07:44.954991Z",
     "shell.execute_reply": "2021-02-05T21:07:44.954426Z"
    },
    "pycharm": {
     "name": "#%%\n"
    }
   },
   "outputs": [
    {
     "name": "stdout",
     "output_type": "stream",
     "text": [
      "HKicker\n",
      "\n",
      "HKicker(l=tensor(0.), hkick=tensor(0.), vkick=tensor(0.), kick=tensor(0.), dkh=tensor(0.), dkv=tensor(0.), label='gte2kx1')\n",
      "HKicker(l=tensor(0.), hkick=tensor(0.), vkick=tensor(0.), kick=tensor(0.), dkh=tensor(0.), dkv=tensor(0.), label='gth1kx1')\n",
      "HKicker(l=tensor(0.), hkick=tensor(0.), vkick=tensor(0.), kick=tensor(0.), dkh=tensor(0.), dkv=tensor(0.), label='gth2kx1')\n",
      "HKicker(l=tensor(0.), hkick=tensor(0.), vkick=tensor(0.), kick=tensor(0.), dkh=tensor(0.), dkv=tensor(0.), label='ghadkx1')\n",
      "\n",
      "SBend\n",
      "\n",
      "Tilt(psi=tensor(0.3795),\n",
      "     target=SBend(l=tensor(1.4726), angle=tensor(-0.1308), e1=tensor(0.), e2=tensor(0.), fint=tensor(0.), fintx=tensor(0.), hgap=tensor(0.), h1=tensor(0.), h2=tensor(0.), dk0=tensor(0.), label='ghadmu1')\n",
      "    > Dipedge(l=tensor(0.), h=tensor(-0.0888), e1=tensor(0.), fint=tensor(0.), hgap=tensor(0.), label=None)\n",
      "    > SBendBody(l=tensor(1.4726), angle=tensor(-0.1308), dk0=tensor(0.), label=None)\n",
      "    > Dipedge(l=tensor(0.), h=tensor(-0.0888), e1=tensor(0.), fint=tensor(0.), hgap=tensor(0.), label=None))\n",
      "Tilt(psi=tensor(-0.3795),\n",
      "     target=SBend(l=tensor(1.4726), angle=tensor(-0.1311), e1=tensor(0.), e2=tensor(0.), fint=tensor(0.), fintx=tensor(0.), hgap=tensor(0.), h1=tensor(0.), h2=tensor(0.), dk0=tensor(0.), label='ghadmu2')\n",
      "    > Dipedge(l=tensor(0.), h=tensor(-0.0891), e1=tensor(0.), fint=tensor(0.), hgap=tensor(0.), label=None)\n",
      "    > SBendBody(l=tensor(1.4726), angle=tensor(-0.1311), dk0=tensor(0.), label=None)\n",
      "    > Dipedge(l=tensor(0.), h=tensor(-0.0891), e1=tensor(0.), fint=tensor(0.), hgap=tensor(0.), label=None))\n"
     ]
    }
   ],
   "source": [
    "print('HKicker', end='\\n\\n')\n",
    "for kicker in lattice[HKicker]:\n",
    "    print(kicker)\n",
    "\n",
    "print('\\nSBend', end='\\n\\n')\n",
    "for sbend in lattice[SBend]:\n",
    "    print(sbend)"
   ]
  },
  {
   "cell_type": "markdown",
   "metadata": {
    "pycharm": {
     "name": "#%% md\n"
    }
   },
   "source": [
    "Note that the `SBend`s are tilted which is indicated by the wrapping `Tilt` object. Also the two dipole edge elements\n",
    "are reported in terms of `Dipedge` elements.\n",
    "\n",
    "We can select a specific element from a multi-element selection directly by providing a tuple:"
   ]
  },
  {
   "cell_type": "code",
   "execution_count": 3,
   "metadata": {
    "execution": {
     "iopub.execute_input": "2021-02-05T21:07:44.958831Z",
     "iopub.status.busy": "2021-02-05T21:07:44.958335Z",
     "iopub.status.idle": "2021-02-05T21:07:44.965170Z",
     "shell.execute_reply": "2021-02-05T21:07:44.964552Z"
    },
    "pycharm": {
     "name": "#%%\n"
    }
   },
   "outputs": [
    {
     "name": "stdout",
     "output_type": "stream",
     "text": [
      "Quadrupole(l=tensor(1.), k1=Parameter containing: tensor(0.0298, requires_grad=True), dk1=tensor(0.), label='gth1qd11')\n",
      "True\n"
     ]
    }
   ],
   "source": [
    "print(lattice[Quadrupole, 5])\n",
    "print(lattice[Quadrupole, 5] is lattice[Quadrupole][5])"
   ]
  },
  {
   "cell_type": "markdown",
   "metadata": {
    "pycharm": {
     "name": "#%% md\n"
    }
   },
   "source": [
    "As shown, the same result can of course be obtained by indexing the resulting list of multiple elements. One case where\n",
    "tuples are the only way however is if we want to set a specific element in the sequence. For example if we want to tilt the\n",
    "second `HKicker` then we can do:"
   ]
  },
  {
   "cell_type": "code",
   "execution_count": 4,
   "metadata": {
    "execution": {
     "iopub.execute_input": "2021-02-05T21:07:44.970967Z",
     "iopub.status.busy": "2021-02-05T21:07:44.970063Z",
     "iopub.status.idle": "2021-02-05T21:07:44.977606Z",
     "shell.execute_reply": "2021-02-05T21:07:44.977010Z"
    },
    "pycharm": {
     "name": "#%%\n"
    }
   },
   "outputs": [
    {
     "name": "stdout",
     "output_type": "stream",
     "text": [
      "HKicker(l=tensor(0.), hkick=tensor(0.), vkick=tensor(0.), kick=tensor(0.), dkh=tensor(0.), dkv=tensor(0.), label='gte2kx1')\n",
      "Tilt(psi=tensor(0.5000),\n",
      "     target=HKicker(l=tensor(0.), hkick=tensor(0.), vkick=tensor(0.), kick=tensor(0.), dkh=tensor(0.), dkv=tensor(0.), label='gth1kx1'))\n",
      "HKicker(l=tensor(0.), hkick=tensor(0.), vkick=tensor(0.), kick=tensor(0.), dkh=tensor(0.), dkv=tensor(0.), label='gth2kx1')\n",
      "HKicker(l=tensor(0.), hkick=tensor(0.), vkick=tensor(0.), kick=tensor(0.), dkh=tensor(0.), dkv=tensor(0.), label='ghadkx1')\n"
     ]
    }
   ],
   "source": [
    "from dipas.elements import Tilt\n",
    "\n",
    "lattice[HKicker, 1] = Tilt(lattice[HKicker][1], psi=0.5)\n",
    "for kicker in lattice[HKicker]:\n",
    "    print(kicker)"
   ]
  },
  {
   "cell_type": "markdown",
   "metadata": {
    "pycharm": {
     "name": "#%% md\n"
    }
   },
   "source": [
    "Note that we specified `(HKicker, 1)` because indices start at zero.\n",
    "Selections also work with modifiers such as `Tilt` or alignment errors such as `Offset`:"
   ]
  },
  {
   "cell_type": "code",
   "execution_count": 5,
   "metadata": {
    "execution": {
     "iopub.execute_input": "2021-02-05T21:07:44.982582Z",
     "iopub.status.busy": "2021-02-05T21:07:44.981669Z",
     "iopub.status.idle": "2021-02-05T21:07:44.992421Z",
     "shell.execute_reply": "2021-02-05T21:07:44.991854Z"
    },
    "pycharm": {
     "name": "#%%\n"
    }
   },
   "outputs": [
    {
     "name": "stdout",
     "output_type": "stream",
     "text": [
      "Elements with offset:  []\n",
      "Tilt(psi=tensor(0.5000),\n",
      "     target=HKicker(l=tensor(0.), hkick=tensor(0.), vkick=tensor(0.), kick=tensor(0.), dkh=tensor(0.), dkv=tensor(0.), label='gth1kx1'))\n",
      "Tilt(psi=tensor(0.3795),\n",
      "     target=SBend(l=tensor(1.4726), angle=tensor(-0.1308), e1=tensor(0.), e2=tensor(0.), fint=tensor(0.), fintx=tensor(0.), hgap=tensor(0.), h1=tensor(0.), h2=tensor(0.), dk0=tensor(0.), label='ghadmu1')\n",
      "    > Dipedge(l=tensor(0.), h=tensor(-0.0888), e1=tensor(0.), fint=tensor(0.), hgap=tensor(0.), label=None)\n",
      "    > SBendBody(l=tensor(1.4726), angle=tensor(-0.1308), dk0=tensor(0.), label=None)\n",
      "    > Dipedge(l=tensor(0.), h=tensor(-0.0888), e1=tensor(0.), fint=tensor(0.), hgap=tensor(0.), label=None))\n",
      "Tilt(psi=tensor(-0.3795),\n",
      "     target=SBend(l=tensor(1.4726), angle=tensor(-0.1311), e1=tensor(0.), e2=tensor(0.), fint=tensor(0.), fintx=tensor(0.), hgap=tensor(0.), h1=tensor(0.), h2=tensor(0.), dk0=tensor(0.), label='ghadmu2')\n",
      "    > Dipedge(l=tensor(0.), h=tensor(-0.0891), e1=tensor(0.), fint=tensor(0.), hgap=tensor(0.), label=None)\n",
      "    > SBendBody(l=tensor(1.4726), angle=tensor(-0.1311), dk0=tensor(0.), label=None)\n",
      "    > Dipedge(l=tensor(0.), h=tensor(-0.0891), e1=tensor(0.), fint=tensor(0.), hgap=tensor(0.), label=None))\n"
     ]
    }
   ],
   "source": [
    "from dipas.elements import Offset\n",
    "\n",
    "print('Elements with offset: ', lattice[Offset])\n",
    "\n",
    "for element in lattice[Tilt]:\n",
    "    print(element)"
   ]
  },
  {
   "cell_type": "markdown",
   "metadata": {
    "pycharm": {
     "name": "#%% md\n"
    }
   },
   "source": [
    "There are no offset elements in the lattice but as we see there are three tilted elements: the two `SBend`s from before\n",
    "and the `HKicker` that we tilted manually.\n",
    "\n",
    "We can also select elements by their label:"
   ]
  },
  {
   "cell_type": "code",
   "execution_count": 6,
   "metadata": {
    "execution": {
     "iopub.execute_input": "2021-02-05T21:07:44.996912Z",
     "iopub.status.busy": "2021-02-05T21:07:44.995992Z",
     "iopub.status.idle": "2021-02-05T21:07:45.000476Z",
     "shell.execute_reply": "2021-02-05T21:07:45.000956Z"
    },
    "pycharm": {
     "name": "#%%\n"
    }
   },
   "outputs": [
    {
     "name": "stdout",
     "output_type": "stream",
     "text": [
      "Tilt(psi=tensor(0.5000),\n",
      "     target=HKicker(l=tensor(0.), hkick=tensor(0.), vkick=tensor(0.), kick=tensor(0.), dkh=tensor(0.), dkv=tensor(0.), label='gth1kx1'))\n",
      "True\n"
     ]
    }
   ],
   "source": [
    "print(lattice['gth1kx1'])\n",
    "print(lattice['gth1kx1'] is lattice[HKicker, 1])"
   ]
  },
  {
   "cell_type": "markdown",
   "metadata": {
    "pycharm": {
     "name": "#%% md\n"
    }
   },
   "source": [
    "If there are multiple elements that share a label, a list will be returned instead. Again we can use a tuple index to select\n",
    "a specific element:"
   ]
  },
  {
   "cell_type": "code",
   "execution_count": 7,
   "metadata": {
    "execution": {
     "iopub.execute_input": "2021-02-05T21:07:45.005698Z",
     "iopub.status.busy": "2021-02-05T21:07:45.005186Z",
     "iopub.status.idle": "2021-02-05T21:07:45.009419Z",
     "shell.execute_reply": "2021-02-05T21:07:45.009887Z"
    },
    "pycharm": {
     "name": "#%%\n"
    }
   },
   "outputs": [
    {
     "name": "stdout",
     "output_type": "stream",
     "text": [
      "pad_drift_0\n",
      "[Drift(l=tensor(3.9057), label='pad_drift_0'), Drift(l=tensor(0.8420), label='pad_drift_0')]\n",
      "Drift(l=tensor(0.8420), label='pad_drift_0')\n"
     ]
    }
   ],
   "source": [
    "from dipas.elements import Drift\n",
    "\n",
    "print(lattice[Drift, 0].label)\n",
    "lattice[Drift, 1].label = 'pad_drift_0'\n",
    "print(lattice['pad_drift_0'])\n",
    "print(lattice['pad_drift_0', 1])"
   ]
  },
  {
   "cell_type": "markdown",
   "metadata": {
    "pycharm": {
     "name": "#%% md\n"
    }
   },
   "source": [
    "By using regular expression patterns we can select all elements whose labels match the specified pattern:"
   ]
  },
  {
   "cell_type": "code",
   "execution_count": 8,
   "metadata": {
    "execution": {
     "iopub.execute_input": "2021-02-05T21:07:45.015318Z",
     "iopub.status.busy": "2021-02-05T21:07:45.013631Z",
     "iopub.status.idle": "2021-02-05T21:07:45.023001Z",
     "shell.execute_reply": "2021-02-05T21:07:45.022454Z"
    },
    "pycharm": {
     "name": "#%%\n"
    }
   },
   "outputs": [
    {
     "name": "stdout",
     "output_type": "stream",
     "text": [
      "HKicker(l=tensor(0.), hkick=tensor(0.), vkick=tensor(0.), kick=tensor(0.), dkh=tensor(0.), dkv=tensor(0.), label='gte2kx1')\n",
      "Tilt(psi=tensor(0.5000),\n",
      "     target=HKicker(l=tensor(0.), hkick=tensor(0.), vkick=tensor(0.), kick=tensor(0.), dkh=tensor(0.), dkv=tensor(0.), label='gth1kx1'))\n",
      "HKicker(l=tensor(0.), hkick=tensor(0.), vkick=tensor(0.), kick=tensor(0.), dkh=tensor(0.), dkv=tensor(0.), label='gth2kx1')\n",
      "HKicker(l=tensor(0.), hkick=tensor(0.), vkick=tensor(0.), kick=tensor(0.), dkh=tensor(0.), dkv=tensor(0.), label='ghadkx1')\n"
     ]
    }
   ],
   "source": [
    "import re\n",
    "\n",
    "pattern = re.compile(r'[a-z0-9]+kx1')\n",
    "for element in lattice[pattern]:\n",
    "    print(element)"
   ]
  },
  {
   "cell_type": "markdown",
   "metadata": {
    "pycharm": {
     "name": "#%% md\n"
    }
   },
   "source": [
    "Here we need to use a compiled `re` object because strings will be interpreted as element labels, not patterns.\n",
    "An exception is if the string contains an asterisk `*` which will be interpreted as a shell-style wildcard pattern\n",
    "(internally it is converted to a regex while replacing `*` with `.*?`). Thus using `lattice['*kx1']` selects all\n",
    "`HKicker` elements as before.\n",
    "\n",
    "Last but not least we can select elements by their index position along the lattice:"
   ]
  },
  {
   "cell_type": "code",
   "execution_count": 9,
   "metadata": {
    "execution": {
     "iopub.execute_input": "2021-02-05T21:07:45.027485Z",
     "iopub.status.busy": "2021-02-05T21:07:45.026466Z",
     "iopub.status.idle": "2021-02-05T21:07:45.031044Z",
     "shell.execute_reply": "2021-02-05T21:07:45.030484Z"
    },
    "pycharm": {
     "name": "#%%\n"
    }
   },
   "outputs": [
    {
     "name": "stdout",
     "output_type": "stream",
     "text": [
      "Drift(l=tensor(0.3370), label='pad_drift_2')\n",
      "Drift(l=tensor(0.5609), label='pad_drift_10')\n"
     ]
    }
   ],
   "source": [
    "print(lattice[4])  # Selecting the 5-th element.\n",
    "print(lattice[19])  # Selecting the 20-th element."
   ]
  },
  {
   "cell_type": "markdown",
   "metadata": {
    "pycharm": {
     "name": "#%% md\n"
    }
   },
   "source": [
    "Sub-segments can be selected by using slice syntax. Here the start and stop parameters must be unambiguous element\n",
    "identifiers, as described above (e.g. unique labels, or a multi-selector such as `Quadrupole` with an occurrence count,\n",
    "i.e. `(Quadrupole, 5)`)."
   ]
  },
  {
   "cell_type": "code",
   "execution_count": 10,
   "metadata": {
    "execution": {
     "iopub.execute_input": "2021-02-05T21:07:45.037262Z",
     "iopub.status.busy": "2021-02-05T21:07:45.036326Z",
     "iopub.status.idle": "2021-02-05T21:07:45.046672Z",
     "shell.execute_reply": "2021-02-05T21:07:45.046036Z"
    },
    "pycharm": {
     "name": "#%%\n"
    }
   },
   "outputs": [
    {
     "name": "stdout",
     "output_type": "stream",
     "text": [
      "Segment(elements=[Drift(l=tensor(3.9057), label='pad_drift_0'),\n",
      " VKicker(l=tensor(0.), hkick=tensor(0.), vkick=tensor(0.), kick=tensor(0.), dkh=tensor(0.), dkv=tensor(0.), label='gte1ky1'),\n",
      " Drift(l=tensor(0.8420), label='pad_drift_0'),\n",
      " Quadrupole(l=tensor(0.6660), k1=Parameter containing: tensor(0.5668, requires_grad=True), dk1=tensor(0.), label='gte1qd11'),\n",
      " Drift(l=tensor(0.3370), label='pad_drift_2'),\n",
      " Monitor(l=tensor(0.), label='gte1dg1')])\n",
      "\n",
      "Segment(elements=[Drift(l=tensor(0.8420), label='pad_drift_0'),\n",
      " Quadrupole(l=tensor(0.6660), k1=Parameter containing: tensor(0.5668, requires_grad=True), dk1=tensor(0.), label='gte1qd11'),\n",
      " Drift(l=tensor(0.3370), label='pad_drift_2'),\n",
      " Monitor(l=tensor(0.), label='gte1dg1')])\n"
     ]
    }
   ],
   "source": [
    "print(lattice[:6], end='\\n\\n')\n",
    "print(lattice[(Drift, 1):'gte1dg1'])"
   ]
  }
 ],
 "metadata": {
  "kernelspec": {
   "display_name": "Python 3",
   "language": "python",
   "name": "python3"
  },
  "language_info": {
   "codemirror_mode": {
    "name": "ipython",
    "version": 3
   },
   "file_extension": ".py",
   "mimetype": "text/x-python",
   "name": "python",
   "nbconvert_exporter": "python",
   "pygments_lexer": "ipython3",
   "version": "3.7.9"
  },
  "pycharm": {
   "stem_cell": {
    "cell_type": "raw",
    "metadata": {
     "collapsed": false
    },
    "source": []
   }
  }
 },
 "nbformat": 4,
 "nbformat_minor": 2
}
