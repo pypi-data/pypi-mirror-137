{
 "cells": [
  {
   "cell_type": "markdown",
   "metadata": {
    "pycharm": {
     "name": "#%% md\n"
    }
   },
   "source": [
    "# Optics calculations\n",
    "\n",
    "Optics calculations can be performed via the `compute` module.\n",
    "\n",
    "## Closed orbit search\n",
    "\n",
    "Using `compute.closed_orbit` we can perform closed orbit search for a given lattice:"
   ]
  },
  {
   "cell_type": "code",
   "execution_count": 1,
   "metadata": {
    "execution": {
     "iopub.execute_input": "2021-02-05T21:07:54.271879Z",
     "iopub.status.busy": "2021-02-05T21:07:54.271070Z",
     "iopub.status.idle": "2021-02-05T21:07:55.773895Z",
     "shell.execute_reply": "2021-02-05T21:07:55.774330Z"
    },
    "pycharm": {
     "name": "#%%\n"
    }
   },
   "outputs": [
    {
     "name": "stdout",
     "output_type": "stream",
     "text": [
      "tensor([[0.],\n",
      "        [0.],\n",
      "        [0.],\n",
      "        [0.],\n",
      "        [0.],\n",
      "        [0.]])\n"
     ]
    }
   ],
   "source": [
    "from importlib import resources\n",
    "from dipas.build import from_file\n",
    "from dipas.compute import closed_orbit, linear_closed_orbit\n",
    "from dipas.elements import Kicker, HKicker, VKicker\n",
    "import dipas.test.sequences\n",
    "\n",
    "with resources.path(dipas.test.sequences, 'cryring.seq') as path:\n",
    "    lattice = from_file(path)\n",
    "\n",
    "thin = lattice.makethin({Kicker: 1})\n",
    "print(closed_orbit(thin))"
   ]
  },
  {
   "cell_type": "markdown",
   "metadata": {
    "pycharm": {
     "name": "#%% md\n"
    }
   },
   "source": [
    "As can be seen from the above example we first need to convert all elements that don't support thick tracking (the kicker\n",
    "magnets) to thin elements because the closed orbit search is performed by tracking the closed orbit through the lattice. Since all kickers\n",
    "are turned off (`kick == 0`) the closed orbit is just zero. Let's add some kicks:"
   ]
  },
  {
   "cell_type": "code",
   "execution_count": 2,
   "metadata": {
    "execution": {
     "iopub.execute_input": "2021-02-05T21:07:55.791878Z",
     "iopub.status.busy": "2021-02-05T21:07:55.791161Z",
     "iopub.status.idle": "2021-02-05T21:07:55.932725Z",
     "shell.execute_reply": "2021-02-05T21:07:55.932151Z"
    },
    "pycharm": {
     "name": "#%%\n"
    }
   },
   "outputs": [
    {
     "name": "stdout",
     "output_type": "stream",
     "text": [
      "tensor([0.0012, 0.0005, 0.0055, 0.0002, 0.0000, 0.0000])\n",
      "tensor([0.0012, 0.0005, 0.0055, 0.0002, 0.0000, 0.0000])\n"
     ]
    }
   ],
   "source": [
    "import random\n",
    "random.seed(1)\n",
    "\n",
    "for kicker in lattice[HKicker] + lattice[VKicker]:\n",
    "    kicker.kick = random.uniform(-0.001, 0.001)\n",
    "\n",
    "thin_with_kicks = lattice.makethin({Kicker: 1})  # Use 'makethin' again to make the added kicks effective.\n",
    "print(closed_orbit(thin_with_kicks, order=1).flatten())\n",
    "print(linear_closed_orbit(thin_with_kicks).flatten())"
   ]
  },
  {
   "cell_type": "markdown",
   "metadata": {
    "pycharm": {
     "name": "#%% md\n"
    }
   },
   "source": [
    "One important thing to note is that we need to assign the kicks to the original lattice, since the `thin` version doesn't\n",
    "contain the original kickers anymore. Then for the new kicker values we need to `makethin` the `lattice` again before\n",
    "performing the closed orbit search. This seems somewhat repetitive but it is important in order to maintain the relation between\n",
    "thick and thin elements. Especially if optimization parameters are involved, it is important to always `makethin` the original\n",
    "lattice (which stores the optimization parameters) in order to always get the up-to-date values of the optimization parameters.\n",
    "`linear_closed_orbit` computes the closed orbit directly from first order transfer maps (using a slightly different algorithm)."
   ]
  },
  {
   "cell_type": "markdown",
   "metadata": {},
   "source": [
    "## Twiss computation\n",
    "\n",
    "We can use `compute.twiss` in order to compute lattice functions as well as phase advance and tunes:"
   ]
  },
  {
   "cell_type": "code",
   "execution_count": 3,
   "metadata": {
    "execution": {
     "iopub.execute_input": "2021-02-05T21:07:55.940044Z",
     "iopub.status.busy": "2021-02-05T21:07:55.939209Z",
     "iopub.status.idle": "2021-02-05T21:07:56.339897Z",
     "shell.execute_reply": "2021-02-05T21:07:56.340438Z"
    }
   },
   "outputs": [
    {
     "name": "stdout",
     "output_type": "stream",
     "text": [
      "['lattice', 'coupling_matrix', 'Q1', 'Q2', 'one_turn_matrix']\n",
      "\n",
      "Q1: tensor(2.4200) , Q2: tensor(2.4200)\n",
      "\n",
      "Coupling Matrix:\n",
      "tensor([[0., 0.],\n",
      "        [0., 0.]])\n",
      "\n",
      "One-Turn Matrix:\n",
      "tensor([[-8.7631e-01,  9.2467e-01,  0.0000e+00,  0.0000e+00,  2.7810e-17,\n",
      "         -8.3255e+00],\n",
      "        [-2.5099e-01, -8.7631e-01,  0.0000e+00,  0.0000e+00, -3.4146e-17,\n",
      "         -1.1137e+00],\n",
      "        [ 0.0000e+00,  0.0000e+00, -8.7631e-01,  1.0994e+00,  0.0000e+00,\n",
      "          0.0000e+00],\n",
      "        [ 0.0000e+00,  0.0000e+00, -2.1111e-01, -8.7631e-01,  0.0000e+00,\n",
      "          0.0000e+00],\n",
      "        [ 1.1137e+00,  8.3255e+00,  0.0000e+00,  0.0000e+00,  1.0000e+00,\n",
      "          3.1825e+02],\n",
      "        [ 1.7416e-17,  1.2832e-17,  0.0000e+00,  0.0000e+00,  1.7203e-33,\n",
      "          1.0000e+00]])\n",
      "\n",
      "Lattice:\n",
      "Index(['x', 'px', 'y', 'py', 'bx', 'ax', 'mx', 'by', 'ay', 'my', 'dx', 'dpx',\n",
      "       'dy', 'dpy'],\n",
      "      dtype='object')\n"
     ]
    }
   ],
   "source": [
    "import dipas.compute as compute\n",
    "\n",
    "twiss = compute.twiss(thin)  # Returns a dict.\n",
    "print(list(twiss), end='\\n\\n')\n",
    "print('Q1:', twiss['Q1'], ', Q2:', twiss['Q2'], end='\\n\\n')\n",
    "print('Coupling Matrix:', twiss['coupling_matrix'], sep='\\n', end='\\n\\n')\n",
    "print('One-Turn Matrix:', twiss['one_turn_matrix'], sep='\\n', end='\\n\\n')\n",
    "print('Lattice:', twiss['lattice'].columns, sep='\\n')"
   ]
  },
  {
   "cell_type": "markdown",
   "metadata": {},
   "source": [
    "Here `twiss['lattice']` is a `pandas.DataFrame` with element labels as index and lattice functions as columns."
   ]
  },
  {
   "cell_type": "markdown",
   "metadata": {
    "pycharm": {
     "name": "#%% md\n"
    }
   },
   "source": [
    "## Transfer maps\n",
    "\n",
    "By using `compute.transfer_maps` we can compute the transfer maps along the lattice. The parameter `method` let's us specify\n",
    "how the transfer maps are computed. The following options are available:\n",
    "\n",
    "* `method='local'`: Compute the local maps of elements, including closed orbit contribution.\n",
    "* `method='accumulate'`: Compute the cumulative transfer maps w.r.t. to the start of the lattice.\n",
    "* `method='reduce'`: Compute the combined transfer map for the whole segment."
   ]
  },
  {
   "cell_type": "code",
   "execution_count": 4,
   "metadata": {
    "execution": {
     "iopub.execute_input": "2021-02-05T21:07:56.345855Z",
     "iopub.status.busy": "2021-02-05T21:07:56.345083Z",
     "iopub.status.idle": "2021-02-05T21:07:56.562042Z",
     "shell.execute_reply": "2021-02-05T21:07:56.561232Z"
    },
    "pycharm": {
     "name": "#%%\n"
    }
   },
   "outputs": [
    {
     "name": "stdout",
     "output_type": "stream",
     "text": [
      "tensor([[0.],\n",
      "        [0.],\n",
      "        [0.],\n",
      "        [0.],\n",
      "        [0.],\n",
      "        [0.]])\n",
      "tensor([[1.0000, 0.8328, 0.0000, 0.0000, 0.0000, 0.0000],\n",
      "        [0.0000, 1.0000, 0.0000, 0.0000, 0.0000, 0.0000],\n",
      "        [0.0000, 0.0000, 1.0000, 0.8328, 0.0000, 0.0000],\n",
      "        [0.0000, 0.0000, 0.0000, 1.0000, 0.0000, 0.0000],\n",
      "        [0.0000, 0.0000, 0.0000, 0.0000, 1.0000, 6.1278],\n",
      "        [0.0000, 0.0000, 0.0000, 0.0000, 0.0000, 1.0000]])\n",
      "tensor([[[  0.0000,   0.0000,   0.0000,   0.0000,   0.0000,   0.0000],\n",
      "         [  0.0000,   0.0000,   0.0000,   0.0000,   0.0000,  -1.2038],\n",
      "         [  0.0000,   0.0000,   0.0000,   0.0000,   0.0000,   0.0000],\n",
      "         [  0.0000,   0.0000,   0.0000,   0.0000,   0.0000,   0.0000],\n",
      "         [  0.0000,   0.0000,   0.0000,   0.0000,   0.0000,   0.0000],\n",
      "         [  0.0000,  -1.2038,   0.0000,   0.0000,   0.0000,   0.0000]],\n",
      "\n",
      "        [[  0.0000,   0.0000,   0.0000,   0.0000,   0.0000,   0.0000],\n",
      "         [  0.0000,   0.0000,   0.0000,   0.0000,   0.0000,   0.0000],\n",
      "         [  0.0000,   0.0000,   0.0000,   0.0000,   0.0000,   0.0000],\n",
      "         [  0.0000,   0.0000,   0.0000,   0.0000,   0.0000,   0.0000],\n",
      "         [  0.0000,   0.0000,   0.0000,   0.0000,   0.0000,   0.0000],\n",
      "         [  0.0000,   0.0000,   0.0000,   0.0000,   0.0000,   0.0000]],\n",
      "\n",
      "        [[  0.0000,   0.0000,   0.0000,   0.0000,   0.0000,   0.0000],\n",
      "         [  0.0000,   0.0000,   0.0000,   0.0000,   0.0000,   0.0000],\n",
      "         [  0.0000,   0.0000,   0.0000,   0.0000,   0.0000,   0.0000],\n",
      "         [  0.0000,   0.0000,   0.0000,   0.0000,   0.0000,  -1.2038],\n",
      "         [  0.0000,   0.0000,   0.0000,   0.0000,   0.0000,   0.0000],\n",
      "         [  0.0000,   0.0000,   0.0000,  -1.2038,   0.0000,   0.0000]],\n",
      "\n",
      "        [[  0.0000,   0.0000,   0.0000,   0.0000,   0.0000,   0.0000],\n",
      "         [  0.0000,   0.0000,   0.0000,   0.0000,   0.0000,   0.0000],\n",
      "         [  0.0000,   0.0000,   0.0000,   0.0000,   0.0000,   0.0000],\n",
      "         [  0.0000,   0.0000,   0.0000,   0.0000,   0.0000,   0.0000],\n",
      "         [  0.0000,   0.0000,   0.0000,   0.0000,   0.0000,   0.0000],\n",
      "         [  0.0000,   0.0000,   0.0000,   0.0000,   0.0000,   0.0000]],\n",
      "\n",
      "        [[  0.0000,   0.0000,   0.0000,   0.0000,   0.0000,   0.0000],\n",
      "         [  0.0000,  -1.2038,   0.0000,   0.0000,   0.0000,   0.0000],\n",
      "         [  0.0000,   0.0000,   0.0000,   0.0000,   0.0000,   0.0000],\n",
      "         [  0.0000,   0.0000,   0.0000,  -1.2038,   0.0000,   0.0000],\n",
      "         [  0.0000,   0.0000,   0.0000,   0.0000,   0.0000,   0.0000],\n",
      "         [  0.0000,   0.0000,   0.0000,   0.0000,   0.0000, -26.5733]],\n",
      "\n",
      "        [[  0.0000,   0.0000,   0.0000,   0.0000,   0.0000,   0.0000],\n",
      "         [  0.0000,   0.0000,   0.0000,   0.0000,   0.0000,   0.0000],\n",
      "         [  0.0000,   0.0000,   0.0000,   0.0000,   0.0000,   0.0000],\n",
      "         [  0.0000,   0.0000,   0.0000,   0.0000,   0.0000,   0.0000],\n",
      "         [  0.0000,   0.0000,   0.0000,   0.0000,   0.0000,   0.0000],\n",
      "         [  0.0000,   0.0000,   0.0000,   0.0000,   0.0000,   0.0000]]])\n"
     ]
    }
   ],
   "source": [
    "from dipas.compute import transfer_maps\n",
    "\n",
    "maps = dict(transfer_maps(thin, method='accumulate', labels=True))\n",
    "print(*maps[lattice[HKicker, 0].label], sep='\\n')"
   ]
  },
  {
   "cell_type": "markdown",
   "metadata": {
    "pycharm": {
     "name": "#%% md\n"
    }
   },
   "source": [
    "Since the kicker represents the full element as a sequence of drift spaces and thin slices, its first order map (i.e. the transfer matrix) is not the identity matrix.\n",
    "\n",
    "If we want the element local maps instead we can use `method='local'` (here `0.3755` is the length of the kicker):"
   ]
  },
  {
   "cell_type": "code",
   "execution_count": 5,
   "metadata": {
    "execution": {
     "iopub.execute_input": "2021-02-05T21:07:56.566268Z",
     "iopub.status.busy": "2021-02-05T21:07:56.565732Z",
     "iopub.status.idle": "2021-02-05T21:07:56.755558Z",
     "shell.execute_reply": "2021-02-05T21:07:56.756341Z"
    },
    "pycharm": {
     "name": "#%%\n"
    }
   },
   "outputs": [
    {
     "name": "stdout",
     "output_type": "stream",
     "text": [
      "Length of Kicker: tensor(0.3755)\n",
      "Transfer Map:\n",
      "tensor([[0.],\n",
      "        [0.],\n",
      "        [0.],\n",
      "        [0.],\n",
      "        [0.],\n",
      "        [0.]])\n",
      "tensor([[1.0000, 0.3755, 0.0000, 0.0000, 0.0000, 0.0000],\n",
      "        [0.0000, 1.0000, 0.0000, 0.0000, 0.0000, 0.0000],\n",
      "        [0.0000, 0.0000, 1.0000, 0.3755, 0.0000, 0.0000],\n",
      "        [0.0000, 0.0000, 0.0000, 1.0000, 0.0000, 0.0000],\n",
      "        [0.0000, 0.0000, 0.0000, 0.0000, 1.0000, 2.7629],\n",
      "        [0.0000, 0.0000, 0.0000, 0.0000, 0.0000, 1.0000]])\n",
      "tensor([[[  0.0000,   0.0000,   0.0000,   0.0000,   0.0000,   0.0000],\n",
      "         [  0.0000,   0.0000,   0.0000,   0.0000,   0.0000,  -0.5428],\n",
      "         [  0.0000,   0.0000,   0.0000,   0.0000,   0.0000,   0.0000],\n",
      "         [  0.0000,   0.0000,   0.0000,   0.0000,   0.0000,   0.0000],\n",
      "         [  0.0000,   0.0000,   0.0000,   0.0000,   0.0000,   0.0000],\n",
      "         [  0.0000,  -0.5428,   0.0000,   0.0000,   0.0000,   0.0000]],\n",
      "\n",
      "        [[  0.0000,   0.0000,   0.0000,   0.0000,   0.0000,   0.0000],\n",
      "         [  0.0000,   0.0000,   0.0000,   0.0000,   0.0000,   0.0000],\n",
      "         [  0.0000,   0.0000,   0.0000,   0.0000,   0.0000,   0.0000],\n",
      "         [  0.0000,   0.0000,   0.0000,   0.0000,   0.0000,   0.0000],\n",
      "         [  0.0000,   0.0000,   0.0000,   0.0000,   0.0000,   0.0000],\n",
      "         [  0.0000,   0.0000,   0.0000,   0.0000,   0.0000,   0.0000]],\n",
      "\n",
      "        [[  0.0000,   0.0000,   0.0000,   0.0000,   0.0000,   0.0000],\n",
      "         [  0.0000,   0.0000,   0.0000,   0.0000,   0.0000,   0.0000],\n",
      "         [  0.0000,   0.0000,   0.0000,   0.0000,   0.0000,   0.0000],\n",
      "         [  0.0000,   0.0000,   0.0000,   0.0000,   0.0000,  -0.5428],\n",
      "         [  0.0000,   0.0000,   0.0000,   0.0000,   0.0000,   0.0000],\n",
      "         [  0.0000,   0.0000,   0.0000,  -0.5428,   0.0000,   0.0000]],\n",
      "\n",
      "        [[  0.0000,   0.0000,   0.0000,   0.0000,   0.0000,   0.0000],\n",
      "         [  0.0000,   0.0000,   0.0000,   0.0000,   0.0000,   0.0000],\n",
      "         [  0.0000,   0.0000,   0.0000,   0.0000,   0.0000,   0.0000],\n",
      "         [  0.0000,   0.0000,   0.0000,   0.0000,   0.0000,   0.0000],\n",
      "         [  0.0000,   0.0000,   0.0000,   0.0000,   0.0000,   0.0000],\n",
      "         [  0.0000,   0.0000,   0.0000,   0.0000,   0.0000,   0.0000]],\n",
      "\n",
      "        [[  0.0000,   0.0000,   0.0000,   0.0000,   0.0000,   0.0000],\n",
      "         [  0.0000,  -0.5428,   0.0000,   0.0000,   0.0000,   0.0000],\n",
      "         [  0.0000,   0.0000,   0.0000,   0.0000,   0.0000,   0.0000],\n",
      "         [  0.0000,   0.0000,   0.0000,  -0.5428,   0.0000,   0.0000],\n",
      "         [  0.0000,   0.0000,   0.0000,   0.0000,   0.0000,   0.0000],\n",
      "         [  0.0000,   0.0000,   0.0000,   0.0000,   0.0000, -11.9816]],\n",
      "\n",
      "        [[  0.0000,   0.0000,   0.0000,   0.0000,   0.0000,   0.0000],\n",
      "         [  0.0000,   0.0000,   0.0000,   0.0000,   0.0000,   0.0000],\n",
      "         [  0.0000,   0.0000,   0.0000,   0.0000,   0.0000,   0.0000],\n",
      "         [  0.0000,   0.0000,   0.0000,   0.0000,   0.0000,   0.0000],\n",
      "         [  0.0000,   0.0000,   0.0000,   0.0000,   0.0000,   0.0000],\n",
      "         [  0.0000,   0.0000,   0.0000,   0.0000,   0.0000,   0.0000]]])\n"
     ]
    }
   ],
   "source": [
    "maps = dict(transfer_maps(thin, method='local', labels=True))\n",
    "print('Length of Kicker:', lattice[HKicker, 0].l)\n",
    "print('Transfer Map:', *maps[lattice[HKicker, 0].label], sep='\\n')"
   ]
  },
  {
   "cell_type": "markdown",
   "metadata": {
    "pycharm": {
     "name": "#%% md\n"
    }
   },
   "source": [
    "## Orbit Response Matrix\n",
    "\n",
    "Using `compute.orm` we can compute the orbit response matrix for a given lattice. We need to specify the kickers and\n",
    "monitors to be used, which can be done in a similar way as for selecting lattice elements in general: either we can\n",
    "specify an identifier that selects multiple elements directly, such as a lattice element type or a regex, or we can\n",
    "specify a list of single element identifiers, such as unambiguous labels for example. Let's compute the horizontal\n",
    "ORM for one of the example lattices:"
   ]
  },
  {
   "cell_type": "code",
   "execution_count": 6,
   "metadata": {
    "execution": {
     "iopub.execute_input": "2021-02-05T21:07:56.761764Z",
     "iopub.status.busy": "2021-02-05T21:07:56.760843Z",
     "iopub.status.idle": "2021-02-05T21:08:06.885561Z",
     "shell.execute_reply": "2021-02-05T21:08:06.886003Z"
    },
    "pycharm": {
     "name": "#%%\n"
    }
   },
   "outputs": [],
   "source": [
    "from importlib import resources\n",
    "from dipas.build import from_file\n",
    "from dipas.compute import orm\n",
    "from dipas.elements import HKicker, HMonitor\n",
    "import dipas.test.sequences\n",
    "\n",
    "with resources.path(dipas.test.sequences, 'cryring.seq') as path:\n",
    "    lattice = from_file(path)\n",
    "\n",
    "orm_x, orm_y = orm(lattice, kickers=HKicker, monitors=HMonitor)"
   ]
  },
  {
   "cell_type": "markdown",
   "metadata": {
    "pycharm": {
     "name": "#%% md\n"
    }
   },
   "source": [
    "Here we don't need to call `makethin` beforehand because this will be done inside the `orm` function. This is necessary\n",
    "because the `orm` function will temporarily vary the kicker strengths and, as explained above, for each change to the\n",
    "original lattice we need to create a new thin version (i.e. changes to the original lattice are *not* automatically\n",
    "mapped to any thin versions that have been created before)."
   ]
  },
  {
   "cell_type": "code",
   "execution_count": 7,
   "metadata": {
    "execution": {
     "iopub.execute_input": "2021-02-05T21:08:06.892400Z",
     "iopub.status.busy": "2021-02-05T21:08:06.891487Z",
     "iopub.status.idle": "2021-02-05T21:08:06.898630Z",
     "shell.execute_reply": "2021-02-05T21:08:06.898082Z"
    },
    "pycharm": {
     "name": "#%%\n"
    }
   },
   "outputs": [
    {
     "name": "stdout",
     "output_type": "stream",
     "text": [
      "ORM.shape:  torch.Size([9, 12])\n",
      "Number of HKickers and HMonitors:  (12, 9)\n",
      "\n",
      "ORM-X\n",
      "\n",
      " tensor([[ 1.6402,  1.5428,  0.8887,  2.0276,  1.6111,  1.0921, -2.9513,  3.2348,\n",
      "         -2.7059,  1.2091,  2.1282,  2.0422],\n",
      "        [ 0.8140,  1.0098,  1.7728,  0.9366,  1.2233,  1.8082, -1.3954,  0.5891,\n",
      "          0.4745, -1.3684, -0.1676,  0.0053],\n",
      "        [ 0.4583,  0.6885,  1.6933,  1.2629,  0.8969,  1.6400, -0.7518, -0.1673,\n",
      "          1.1597, -1.7372, -0.6953, -0.4921],\n",
      "        [-0.3921, -0.8058, -2.7059, -2.4109, -0.0308,  1.2010,  1.1115,  1.0460,\n",
      "         -2.6066,  3.2348,  1.6820,  1.3166],\n",
      "        [ 1.1925,  1.3288,  1.7242,  0.4483, -1.3899, -2.0740,  1.5688,  1.4899,\n",
      "         -0.4258, -0.7906,  0.5093,  0.6296],\n",
      "        [ 1.4039,  1.7722,  3.2348,  1.8029, -1.3615, -2.7341,  0.9301,  0.8887,\n",
      "          1.0460, -2.6066, -0.4424, -0.1171],\n",
      "        [-1.9135, -2.1046, -2.6066, -0.5499,  2.2668,  3.2892, -2.6391,  1.2091,\n",
      "          0.8887,  1.0460, -0.9556, -1.1243],\n",
      "        [-0.4376, -0.6838, -1.7705, -1.3686,  0.2506,  1.0372,  0.2900, -1.1510,\n",
      "          1.8197,  1.8726,  0.7970,  0.5795],\n",
      "        [ 1.7387,  1.6842,  1.0460, -0.8998, -2.3613, -2.6678,  3.4040, -2.7059,\n",
      "          1.2091,  0.8887,  2.0117,  1.9636]])\n",
      "\n",
      "ORM-Y\n",
      "\n",
      " tensor([[0., 0., 0., 0., 0., 0., 0., 0., 0., 0., 0., 0.],\n",
      "        [0., 0., 0., 0., 0., 0., 0., 0., 0., 0., 0., 0.],\n",
      "        [0., 0., 0., 0., 0., 0., 0., 0., 0., 0., 0., 0.],\n",
      "        [0., 0., 0., 0., 0., 0., 0., 0., 0., 0., 0., 0.],\n",
      "        [0., 0., 0., 0., 0., 0., 0., 0., 0., 0., 0., 0.],\n",
      "        [0., 0., 0., 0., 0., 0., 0., 0., 0., 0., 0., 0.],\n",
      "        [0., 0., 0., 0., 0., 0., 0., 0., 0., 0., 0., 0.],\n",
      "        [0., 0., 0., 0., 0., 0., 0., 0., 0., 0., 0., 0.],\n",
      "        [0., 0., 0., 0., 0., 0., 0., 0., 0., 0., 0., 0.]])\n"
     ]
    }
   ],
   "source": [
    "print('ORM.shape: ', orm_x.shape)\n",
    "print('Number of HKickers and HMonitors: ', (len(lattice[HKicker]), len(lattice[HMonitor])), end='\\n\\n')\n",
    "print('ORM-X\\n\\n', orm_x, end='\\n\\n')\n",
    "print('ORM-Y\\n\\n', orm_y)"
   ]
  }
 ],
 "metadata": {
  "kernelspec": {
   "display_name": "Python 3",
   "language": "python",
   "name": "python3"
  },
  "language_info": {
   "codemirror_mode": {
    "name": "ipython",
    "version": 3
   },
   "file_extension": ".py",
   "mimetype": "text/x-python",
   "name": "python",
   "nbconvert_exporter": "python",
   "pygments_lexer": "ipython3",
   "version": "3.7.9"
  },
  "pycharm": {
   "stem_cell": {
    "cell_type": "raw",
    "metadata": {
     "collapsed": false
    },
    "source": []
   }
  }
 },
 "nbformat": 4,
 "nbformat_minor": 2
}