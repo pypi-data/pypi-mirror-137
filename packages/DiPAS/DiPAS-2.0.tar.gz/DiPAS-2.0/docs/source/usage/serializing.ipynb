{
 "cells": [
  {
   "cell_type": "markdown",
   "metadata": {
    "pycharm": {
     "name": "#%% md\n"
    }
   },
   "source": [
    "# Serializing lattices\n",
    "\n",
    "We can serialize lattices into MADX scripts using the following functions from the `build` module:\n",
    "\n",
    "* `create_script` - Creates a full MADX script including beam command and optionally error definitions as well as particle tracking.\n",
    "* `sequence_script` - Serializes a lattice into a corresponding `SEQUENCE; ENDSEQUENCE;` block.\n",
    "* `track_script` - Serializes particle coordinates, plus some additional configuration, into a corrsponding `TRACK; ENDTRACK;` block.\n",
    "* `error_script` - Parses error definitions from a given lattice and serializes them into a list of `SELECT` and `EALIGN` statements.\n",
    "\n",
    "For example:"
   ]
  },
  {
   "cell_type": "code",
   "execution_count": 1,
   "metadata": {
    "execution": {
     "iopub.execute_input": "2021-02-05T21:08:12.685013Z",
     "iopub.status.busy": "2021-02-05T21:08:12.684281Z",
     "iopub.status.idle": "2021-02-05T21:08:13.476056Z",
     "shell.execute_reply": "2021-02-05T21:08:13.476605Z"
    },
    "pycharm": {
     "name": "#%%\n"
    }
   },
   "outputs": [
    {
     "name": "stdout",
     "output_type": "stream",
     "text": [
      "seq: sequence, l = 14.0, refer = entry;\n",
      "    qf: quadrupole, k1 = 0.125, l = 1.0, at = 0.0;\n",
      "    s1: sbend, angle = 0.05, e1 = 0.0, e2 = 0.0, fint = 0.0, fintx = 0.0, h1 = 0.0, h2 = 0.0, hgap = 0.0, l = 6.0, at = 1.0;\n",
      "    qd: quadrupole, k1 = -0.125, l = 1.0, at = 7.0;\n",
      "    s2: sbend, angle = 0.05, e1 = 0.0, e2 = 0.0, fint = 0.0, fintx = 0.0, h1 = 0.0, h2 = 0.0, hgap = 0.0, l = 6.0, at = 8.0;\n",
      "endsequence;\n"
     ]
    }
   ],
   "source": [
    "from dipas.build import Lattice, create_script, sequence_script, track_script, error_script\n",
    "from dipas.elements import Segment\n",
    "\n",
    "with Lattice(dict(particle='proton', gamma=1.25)) as lattice:\n",
    "    lattice.Quadrupole(k1=0.125, l=1, label='qf')\n",
    "    lattice.SBend(angle=0.05, l=6, label='s1')\n",
    "    lattice.Quadrupole(k1=-0.125, l=1, label='qd')\n",
    "    lattice.SBend(angle=0.05, l=6, label='s2')\n",
    "\n",
    "lattice = Segment(lattice)\n",
    "print(sequence_script(lattice))"
   ]
  },
  {
   "cell_type": "markdown",
   "metadata": {
    "pycharm": {
     "name": "#%% md\n"
    }
   },
   "source": [
    "Now let's create the `TRACK` block:"
   ]
  },
  {
   "cell_type": "code",
   "execution_count": 2,
   "metadata": {
    "execution": {
     "iopub.execute_input": "2021-02-05T21:08:13.481143Z",
     "iopub.status.busy": "2021-02-05T21:08:13.480653Z",
     "iopub.status.idle": "2021-02-05T21:08:13.488650Z",
     "shell.execute_reply": "2021-02-05T21:08:13.489166Z"
    },
    "pycharm": {
     "name": "#%%\n"
    }
   },
   "outputs": [
    {
     "name": "stdout",
     "output_type": "stream",
     "text": [
      "track, aperture = true, recloss = true, onepass = true, dump = true, onetable = true;\n",
      "    start, x = 0.3472782673609508, px = 0.6969169804549304, y = 0.047597093803355306, py = 0.7636730731766399, t = 0.7553138272020423, pt = 0.8292573038388925;\n",
      "    start, x = 0.35734378633461317, px = 0.7038379295922748, y = 0.9048928395787847, py = 0.884623692685433, t = 0.03190009813030836, pt = 0.6780554587078552;\n",
      "    start, x = 0.15759613078987877, px = 0.934656174120593, y = 0.5877146274790013, py = 0.895694200531163, t = 0.3798002928904325, pt = 0.1803614009758726;\n",
      "    start, x = 0.8171910517444194, px = 0.9851717352842541, y = 0.4261080724617963, py = 0.4933171851800561, t = 0.012104312022913621, pt = 0.5870032534603374;\n",
      "    start, x = 0.5539860551096644, px = 0.5089974712996393, y = 0.6301731604881488, py = 0.19108488973184956, t = 0.23377752803035956, pt = 0.31846326786532864;\n",
      "    start, x = 0.36179964797332687, px = 0.5076859640326715, y = 0.4824478465564892, py = 0.9692364491374091, t = 0.15533727982745593, pt = 0.4828686941587923;\n",
      "    start, x = 0.6067387851099051, px = 0.0910621153943203, y = 0.9994699802078556, py = 0.2099062668126963, t = 0.6797281102128861, pt = 0.5548304883673539;\n",
      "    start, x = 0.3983796080731473, px = 0.12606531000584154, y = 0.23775429407823812, py = 0.4758817963926789, t = 0.45936994274910237, pt = 0.6189462806323894;\n",
      "    start, x = 0.05188027995604649, px = 0.2941378367033436, y = 0.5573698841786207, py = 0.6880206238703079, t = 0.40916906417827514, pt = 0.7004280895717023;\n",
      "    start, x = 0.6946386409209419, px = 0.18997138606539743, y = 0.30030084935382517, py = 0.13625790356429723, t = 0.5756169908605857, pt = 0.3727691782757476;\n",
      "\n",
      "    observe, place = qf;\n",
      "    observe, place = qd;\n",
      "\n",
      "    run, turns = 1, maxaper = {1, 1, 1, 1, 1, 1};\n",
      "\n",
      "    write, table = trackloss, file;\n",
      "endtrack;\n"
     ]
    }
   ],
   "source": [
    "import torch\n",
    "\n",
    "particles = torch.rand(6, 10)\n",
    "print(track_script(particles, observe=['qf', 'qd'], aperture=True, recloss=True, turns=1, maxaper=[1]*6))"
   ]
  },
  {
   "cell_type": "markdown",
   "metadata": {
    "pycharm": {
     "name": "#%% md\n"
    }
   },
   "source": [
    "Let's introduce some alignment errors to the defocusing quadrupole:"
   ]
  },
  {
   "cell_type": "code",
   "execution_count": 3,
   "metadata": {
    "execution": {
     "iopub.execute_input": "2021-02-05T21:08:13.493893Z",
     "iopub.status.busy": "2021-02-05T21:08:13.493378Z",
     "iopub.status.idle": "2021-02-05T21:08:13.499683Z",
     "shell.execute_reply": "2021-02-05T21:08:13.500198Z"
    },
    "pycharm": {
     "name": "#%%\n"
    }
   },
   "outputs": [
    {
     "name": "stdout",
     "output_type": "stream",
     "text": [
      "seq: sequence, l = 14.0, refer = entry;\n",
      "    qf: quadrupole, k1 = 0.125, l = 1.0, at = 0.0;\n",
      "    s1: sbend, angle = 0.05, e1 = 0.0, e2 = 0.0, fint = 0.0, fintx = 0.0, h1 = 0.0, h2 = 0.0, hgap = 0.0, l = 6.0, at = 1.0;\n",
      "    qd: quadrupole, k1 = -0.125, l = 1.0, tilt = 0.78, at = 7.0;\n",
      "    s2: sbend, angle = 0.05, e1 = 0.0, e2 = 0.0, fint = 0.0, fintx = 0.0, h1 = 0.0, h2 = 0.0, hgap = 0.0, l = 6.0, at = 8.0;\n",
      "endsequence;\n"
     ]
    }
   ],
   "source": [
    "from dipas.elements import LongitudinalRoll, Offset, Tilt\n",
    "\n",
    "lattice['qd'] = Tilt(lattice['qd'], psi=0.78)  # Technically this is not an alignment error, but it does modify the element.\n",
    "lattice['qd'] = LongitudinalRoll(lattice['qd'], psi=0.35)\n",
    "lattice['qd'] = Offset(lattice['qd'], dx=0.01, dy=0.02)\n",
    "\n",
    "print(sequence_script(lattice))"
   ]
  },
  {
   "cell_type": "markdown",
   "metadata": {
    "pycharm": {
     "name": "#%% md\n"
    }
   },
   "source": [
    "Here we can see that the output from `sequence_script` now contains the `tilt` for the `\"qd\"` quadrupole and the\n",
    "alignment errors are summarized and assigned in the part coming from `error_script`.\n",
    "\n",
    "Now let's build the complete MADX script:"
   ]
  },
  {
   "cell_type": "code",
   "execution_count": 4,
   "metadata": {
    "execution": {
     "iopub.execute_input": "2021-02-05T21:08:13.504642Z",
     "iopub.status.busy": "2021-02-05T21:08:13.503888Z",
     "iopub.status.idle": "2021-02-05T21:08:13.513992Z",
     "shell.execute_reply": "2021-02-05T21:08:13.514467Z"
    },
    "pycharm": {
     "name": "#%%\n"
    }
   },
   "outputs": [
    {
     "name": "stdout",
     "output_type": "stream",
     "text": [
      "beam, particle = proton, gamma = 1.25;\n",
      "\n",
      "seq: sequence, l = 14.0, refer = entry;\n",
      "    qf: quadrupole, k1 = 0.125, l = 1.0, at = 0.0;\n",
      "    s1: sbend, angle = 0.05, e1 = 0.0, e2 = 0.0, fint = 0.0, fintx = 0.0, h1 = 0.0, h2 = 0.0, hgap = 0.0, l = 6.0, at = 1.0;\n",
      "    qd: quadrupole, k1 = -0.125, l = 1.0, tilt = 0.78, at = 7.0;\n",
      "    s2: sbend, angle = 0.05, e1 = 0.0, e2 = 0.0, fint = 0.0, fintx = 0.0, h1 = 0.0, h2 = 0.0, hgap = 0.0, l = 6.0, at = 8.0;\n",
      "endsequence;\n",
      "\n",
      "use, sequence = seq;\n",
      "\n",
      "eoption, add = true;\n",
      "select, flag = error, clear = true;\n",
      "select, flag = error, range = \"qd\";\n",
      "ealign, dx = 0.01, dy = 0.02;\n",
      "ealign, dpsi = 0.35;\n",
      "\n",
      "track, aperture = true, recloss = true, onepass = true, dump = true, onetable = true;\n",
      "    start, x = 0.3472782673609508, px = 0.6969169804549304, y = 0.047597093803355306, py = 0.7636730731766399, t = 0.7553138272020423, pt = 0.8292573038388925;\n",
      "    start, x = 0.35734378633461317, px = 0.7038379295922748, y = 0.9048928395787847, py = 0.884623692685433, t = 0.03190009813030836, pt = 0.6780554587078552;\n",
      "    start, x = 0.15759613078987877, px = 0.934656174120593, y = 0.5877146274790013, py = 0.895694200531163, t = 0.3798002928904325, pt = 0.1803614009758726;\n",
      "    start, x = 0.8171910517444194, px = 0.9851717352842541, y = 0.4261080724617963, py = 0.4933171851800561, t = 0.012104312022913621, pt = 0.5870032534603374;\n",
      "    start, x = 0.5539860551096644, px = 0.5089974712996393, y = 0.6301731604881488, py = 0.19108488973184956, t = 0.23377752803035956, pt = 0.31846326786532864;\n",
      "    start, x = 0.36179964797332687, px = 0.5076859640326715, y = 0.4824478465564892, py = 0.9692364491374091, t = 0.15533727982745593, pt = 0.4828686941587923;\n",
      "    start, x = 0.6067387851099051, px = 0.0910621153943203, y = 0.9994699802078556, py = 0.2099062668126963, t = 0.6797281102128861, pt = 0.5548304883673539;\n",
      "    start, x = 0.3983796080731473, px = 0.12606531000584154, y = 0.23775429407823812, py = 0.4758817963926789, t = 0.45936994274910237, pt = 0.6189462806323894;\n",
      "    start, x = 0.05188027995604649, px = 0.2941378367033436, y = 0.5573698841786207, py = 0.6880206238703079, t = 0.40916906417827514, pt = 0.7004280895717023;\n",
      "    start, x = 0.6946386409209419, px = 0.18997138606539743, y = 0.30030084935382517, py = 0.13625790356429723, t = 0.5756169908605857, pt = 0.3727691782757476;\n",
      "\n",
      "    observe, place = qf;\n",
      "    observe, place = qd;\n",
      "\n",
      "    run, turns = 1, maxaper = {0.1, 0.01, 0.1, 0.01, 1.0, 0.1};\n",
      "\n",
      "    write, table = trackloss, file;\n",
      "endtrack;\n"
     ]
    }
   ],
   "source": [
    "print(create_script(\n",
    "    dict(particle='proton', gamma=1.25),\n",
    "    sequence=lattice,\n",
    "    errors=True,  # Extracts the errors from the provided `sequence`.\n",
    "    track=track_script(particles, ['qf', 'qd'])\n",
    "))"
   ]
  },
  {
   "cell_type": "markdown",
   "metadata": {
    "pycharm": {
     "name": "#%% md\n"
    }
   },
   "source": [
    "In case we wanted to add optics calculations via `TWISS` we can just append the relevant command manually:"
   ]
  },
  {
   "cell_type": "code",
   "execution_count": 5,
   "metadata": {
    "execution": {
     "iopub.execute_input": "2021-02-05T21:08:13.518724Z",
     "iopub.status.busy": "2021-02-05T21:08:13.518161Z",
     "iopub.status.idle": "2021-02-05T21:08:13.522365Z",
     "shell.execute_reply": "2021-02-05T21:08:13.522859Z"
    },
    "pycharm": {
     "name": "#%%\n"
    }
   },
   "outputs": [
    {
     "name": "stdout",
     "output_type": "stream",
     "text": [
      "beam, particle = proton, gamma = 1.25;\n",
      "\n",
      "seq: sequence, l = 14.0, refer = entry;\n",
      "    qf: quadrupole, k1 = 0.125, l = 1.0, at = 0.0;\n",
      "    s1: sbend, angle = 0.05, e1 = 0.0, e2 = 0.0, fint = 0.0, fintx = 0.0, h1 = 0.0, h2 = 0.0, hgap = 0.0, l = 6.0, at = 1.0;\n",
      "    qd: quadrupole, k1 = -0.125, l = 1.0, tilt = 0.78, at = 7.0;\n",
      "    s2: sbend, angle = 0.05, e1 = 0.0, e2 = 0.0, fint = 0.0, fintx = 0.0, h1 = 0.0, h2 = 0.0, hgap = 0.0, l = 6.0, at = 8.0;\n",
      "endsequence;\n",
      "\n",
      "use, sequence = seq;\n",
      "select, flag = twiss, full;\n",
      "twiss, save, file = \"twiss\";\n"
     ]
    }
   ],
   "source": [
    "script = create_script(dict(particle='proton', gamma=1.25), sequence=sequence_script(lattice))\n",
    "script += '\\nselect, flag = twiss, full;\\ntwiss, save, file = \"twiss\";'\n",
    "print(script)"
   ]
  }
 ],
 "metadata": {
  "kernelspec": {
   "display_name": "Python 3",
   "language": "python",
   "name": "python3"
  },
  "language_info": {
   "codemirror_mode": {
    "name": "ipython",
    "version": 3
   },
   "file_extension": ".py",
   "mimetype": "text/x-python",
   "name": "python",
   "nbconvert_exporter": "python",
   "pygments_lexer": "ipython3",
   "version": "3.7.9"
  },
  "pycharm": {
   "stem_cell": {
    "cell_type": "raw",
    "metadata": {
     "collapsed": false
    },
    "source": []
   }
  }
 },
 "nbformat": 4,
 "nbformat_minor": 2
}
