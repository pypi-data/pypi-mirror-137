{
 "cells": [
  {
   "cell_type": "markdown",
   "metadata": {},
   "source": [
    "### Comparison between the two optimization methods proposed  in the article: The descent-ascent procedure and the minmax swapping procedure."
   ]
  },
  {
   "cell_type": "markdown",
   "metadata": {},
   "source": [
    "##### Import modules and functions"
   ]
  },
  {
   "cell_type": "code",
   "execution_count": 1,
   "metadata": {},
   "outputs": [],
   "source": [
    "import pandas as pd\n",
    "import numpy as np\n",
    "import time\n",
    "\n",
    "import CytOpT.CytOpt as cytopt\n",
    "import CytOpT.plots as cplt"
   ]
  },
  {
   "cell_type": "markdown",
   "metadata": {},
   "source": [
    "##### Import data"
   ]
  },
  {
   "cell_type": "code",
   "execution_count": 2,
   "metadata": {},
   "outputs": [],
   "source": [
    "Stanford1A_values = pd.read_csv('../../data/W2_1_values.csv',\n",
    "                                usecols = np.arange(1,8))\n",
    "Stanford1A_clust = pd.read_csv('../../data/W2_1_clust.csv',\n",
    "                               usecols = [1])\n",
    "Stanford3A_values = pd.read_csv('../../data/W2_7_values.csv', \n",
    "                           usecols = np.arange(1,8))\n",
    "Stanford3A_clust = pd.read_csv('../../data/W2_7_clust.csv',\n",
    "                          usecols = [1])"
   ]
  },
  {
   "cell_type": "markdown",
   "metadata": {},
   "source": [
    "We are in the frame work where our cytometry data are divided into 10 classes and the 7 markers available are used to estimate the class proportions in the target data set."
   ]
  },
  {
   "cell_type": "markdown",
   "metadata": {},
   "source": [
    "##### Preprocessing of the data sets"
   ]
  },
  {
   "cell_type": "code",
   "execution_count": 3,
   "metadata": {},
   "outputs": [],
   "source": [
    "X_source = np.asarray(Stanford1A_values)\n",
    "X_target = np.asarray(Stanford3A_values)\n",
    "\n",
    "Lab_source = np.asarray(Stanford1A_clust['x'])\n",
    "Lab_target = np.asarray(Stanford3A_clust['x'])"
   ]
  },
  {
   "cell_type": "markdown",
   "metadata": {},
   "source": [
    "#####  Computation of the benchmark proportions $p$ in the target data set"
   ]
  },
  {
   "cell_type": "code",
   "execution_count": 4,
   "metadata": {},
   "outputs": [
    {
     "name": "stdout",
     "output_type": "stream",
     "text": [
      "[0.017004   0.12873617 0.048482   0.05748411 0.00909037 0.00232408\n",
      " 0.33146034 0.28171334 0.10208284 0.02162273]\n"
     ]
    }
   ],
   "source": [
    "h_target = np.zeros(10)\n",
    "for k in range(10):\n",
    "    h_target[k] = np.sum(Lab_target == k+1)/len(Lab_target)\n",
    "\n",
    "print(h_target)"
   ]
  },
  {
   "cell_type": "markdown",
   "metadata": {},
   "source": [
    "### ${\\tt CytOpt}$ to compute an estimate $\\hat{p}$ of the class proportions."
   ]
  },
  {
   "cell_type": "markdown",
   "metadata": {},
   "source": [
    "##### Estimation with the minmax swapping procedure"
   ]
  },
  {
   "cell_type": "markdown",
   "metadata": {},
   "source": [
    "Setting of the parameters"
   ]
  },
  {
   "cell_type": "code",
   "execution_count": 5,
   "metadata": {},
   "outputs": [],
   "source": [
    "lbd = 0.0001\n",
    "eps_one = 0.0001\n",
    "n_iter = 10000\n",
    "step_size = 5\n",
    "power = 0.99\n",
    "monitoring=True"
   ]
  },
  {
   "cell_type": "code",
   "execution_count": 6,
   "metadata": {},
   "outputs": [
    {
     "name": "stdout",
     "output_type": "stream",
     "text": [
      "Running MinMax optimization...\n",
      "Iteration  1000\n",
      "Current h_hat\n",
      "[5.39808962e-02 9.23328495e-02 4.28355293e-02 8.25511264e-02\n",
      " 8.39644273e-03 1.02754595e-10 3.68593184e-01 2.08659800e-01\n",
      " 1.42212222e-01 4.37949689e-04]\n",
      "Iteration  2000\n",
      "Current h_hat\n",
      "[5.45026746e-02 9.63839191e-02 4.75870452e-02 8.04189620e-02\n",
      " 8.70336685e-03 4.05759814e-08 3.50057882e-01 2.11242334e-01\n",
      " 1.50548680e-01 5.55095390e-04]\n",
      "Iteration  3000\n",
      "Current h_hat\n",
      "[5.36787438e-02 1.02736331e-01 4.69930054e-02 7.03609278e-02\n",
      " 8.45262321e-03 1.71710292e-07 3.33032849e-01 2.08855156e-01\n",
      " 1.75083195e-01 8.06996655e-04]\n",
      "Iteration  4000\n",
      "Current h_hat\n",
      "[5.19916899e-02 1.04291758e-01 4.22914814e-02 7.44270836e-02\n",
      " 8.20773358e-03 1.33192750e-06 3.40130943e-01 2.19773344e-01\n",
      " 1.57818760e-01 1.06587463e-03]\n",
      "Iteration  5000\n",
      "Current h_hat\n",
      "[5.13250929e-02 1.02698242e-01 4.34981813e-02 7.37143661e-02\n",
      " 7.77885581e-03 5.00829138e-06 3.32409819e-01 2.28218226e-01\n",
      " 1.59049959e-01 1.30224916e-03]\n",
      "Iteration  6000\n",
      "Current h_hat\n",
      "[5.10092588e-02 1.02732332e-01 4.22679693e-02 7.05327791e-02\n",
      " 8.62779316e-03 2.18031546e-05 3.45135606e-01 2.34303067e-01\n",
      " 1.43785294e-01 1.58409860e-03]\n",
      "Iteration  7000\n",
      "Current h_hat\n",
      "[5.00308293e-02 1.02417537e-01 3.93817989e-02 7.45665530e-02\n",
      " 8.93232255e-03 4.90288084e-05 3.44666397e-01 2.21147746e-01\n",
      " 1.56991441e-01 1.81634638e-03]\n",
      "Iteration  8000\n",
      "Current h_hat\n",
      "[4.88927495e-02 1.01729034e-01 4.03913182e-02 7.20705322e-02\n",
      " 8.70583271e-03 1.05563079e-04 3.47967537e-01 2.15357115e-01\n",
      " 1.62833348e-01 1.94697059e-03]\n",
      "Iteration  9000\n",
      "Current h_hat\n",
      "[4.89152465e-02 1.02763603e-01 4.02614339e-02 7.22025058e-02\n",
      " 8.74413941e-03 3.10857334e-04 3.52991152e-01 2.14059609e-01\n",
      " 1.57659816e-01 2.09163701e-03]\n",
      "Done ( 42.963 s)\n",
      "Done ( 42.966919898986816 s)\n",
      "\n",
      "Elapsed time :  0.7162602742513021 Mins\n"
     ]
    }
   ],
   "source": [
    "t0 = time.time()\n",
    "\n",
    "res_one = cytopt.CytOpT(X_source, X_target, Lab_source, thetaTrue=h_target,\n",
    "                             method=\"minmax\",lbd=lbd,eps=eps_one,nIter=n_iter,step=step_size,power=power,monitoring=monitoring)\n",
    "elapsed_time = time.time() - t0\n",
    "print('Elapsed time : ',elapsed_time/60, 'Mins')"
   ]
  },
  {
   "cell_type": "code",
   "execution_count": 7,
   "metadata": {},
   "outputs": [
    {
     "data": {
      "text/plain": [
       "{'proportions':    GoldStandard    minmax\n",
       " 0      0.017004  0.048480\n",
       " 1      0.128736  0.102251\n",
       " 2      0.048482  0.039125\n",
       " 3      0.057484  0.070212\n",
       " 4      0.009090  0.008487\n",
       " 5      0.002324  0.000336\n",
       " 6      0.331460  0.348693\n",
       " 7      0.281713  0.212208\n",
       " 8      0.102083  0.167938\n",
       " 9      0.021623  0.002270,\n",
       " 'monitoring':         minmax\n",
       " 0     0.000000\n",
       " 1     0.988320\n",
       " 2     3.012539\n",
       " 3     2.394595\n",
       " 4     0.653335\n",
       " ...        ...\n",
       " 9995  0.067823\n",
       " 9996  0.067798\n",
       " 9997  0.067774\n",
       " 9998  0.067750\n",
       " 9999  0.067696\n",
       " \n",
       " [10000 rows x 1 columns]}"
      ]
     },
     "execution_count": 7,
     "metadata": {},
     "output_type": "execute_result"
    }
   ],
   "source": [
    "res_one"
   ]
  },
  {
   "cell_type": "code",
   "execution_count": 8,
   "metadata": {},
   "outputs": [],
   "source": [
    "Kull_Monitoring  = res_one['monitoring']"
   ]
  },
  {
   "cell_type": "markdown",
   "metadata": {},
   "source": [
    "##### Estimation with the descent-ascent procedure"
   ]
  },
  {
   "cell_type": "code",
   "execution_count": 9,
   "metadata": {},
   "outputs": [],
   "source": [
    "n_it_grad = 10000\n",
    "n_it_sto = 10\n",
    "pas_grad = 10\n",
    "eps=0.0005\n",
    "monitoring=True"
   ]
  },
  {
   "cell_type": "code",
   "execution_count": null,
   "metadata": {},
   "outputs": [
    {
     "name": "stdout",
     "output_type": "stream",
     "text": [
      "Running Desent-ascent optimization...\n",
      "Iteration  0\n",
      "Current h_hat\n",
      "[0.10012456 0.10003882 0.10027458 0.09959002 0.100291   0.09885351\n",
      " 0.10091859 0.09950152 0.09978767 0.10061971]\n",
      "Iteration  1000\n",
      "Current h_hat\n",
      "[0.06800085 0.07638431 0.04347108 0.05996842 0.02227996 0.00931198\n",
      " 0.37886531 0.18406466 0.13277448 0.02487895]\n",
      "Iteration  2000\n",
      "Current h_hat\n",
      "[0.06444719 0.08590116 0.0392005  0.07789158 0.01793338 0.0061767\n",
      " 0.34702406 0.18365377 0.15568557 0.02208609]\n",
      "Iteration  3000\n",
      "Current h_hat\n",
      "[0.06563216 0.09570691 0.03204    0.07344916 0.0155477  0.00513821\n",
      " 0.35272613 0.20167482 0.1410855  0.01699941]\n",
      "Iteration  4000\n",
      "Current h_hat\n",
      "[0.0588433  0.08284023 0.03270362 0.07089134 0.01216673 0.00439907\n",
      " 0.33857203 0.23030546 0.15358591 0.0156923 ]\n",
      "Iteration  5000\n",
      "Current h_hat\n",
      "[0.05948144 0.08329452 0.03638626 0.08000738 0.01097295 0.00388392\n",
      " 0.33696727 0.2310647  0.14152932 0.01641225]\n",
      "Iteration  6000\n",
      "Current h_hat\n",
      "[0.05925932 0.09235496 0.03644079 0.06963356 0.01084955 0.00376753\n",
      " 0.36489485 0.20194928 0.14433332 0.01651684]\n",
      "Iteration  7000\n",
      "Current h_hat\n",
      "[0.05568864 0.11376884 0.03437458 0.07307051 0.01034966 0.00363234\n",
      " 0.34471433 0.21566273 0.13190712 0.01683127]\n",
      "Iteration  8000\n",
      "Current h_hat\n",
      "[0.04767244 0.11238584 0.03247918 0.07362787 0.01041735 0.00333358\n",
      " 0.31202753 0.24206568 0.14907529 0.01691523]\n"
     ]
    }
   ],
   "source": [
    "t0 = time.time()\n",
    "\n",
    "res_two = cytopt.CytOpT(X_source, X_target, Lab_source, thetaTrue=h_target,\n",
    "                 method=\"desasc\",nItGrad=n_it_grad,nItSto=n_it_sto,stepGrad=pas_grad,\n",
    "                 eps=eps,monitoring=monitoring)\n",
    "elapsed_time = time.time() - t0\n",
    "print('Elapsed time : ',elapsed_time/60, 'Mins')"
   ]
  },
  {
   "cell_type": "code",
   "execution_count": null,
   "metadata": {},
   "outputs": [],
   "source": [
    "proportions = pd.concat([res_one['proportions'], res_two['proportions']], axis=1)\n",
    "proportions"
   ]
  },
  {
   "cell_type": "code",
   "execution_count": null,
   "metadata": {},
   "outputs": [],
   "source": [
    "monitoring = pd.concat([res_one['monitoring'], res_two['monitoring']], axis=1)\n",
    "monitoring"
   ]
  },
  {
   "cell_type": "markdown",
   "metadata": {},
   "source": [
    "### Results of the two optimization procedures"
   ]
  },
  {
   "cell_type": "markdown",
   "metadata": {},
   "source": [
    "We display the evolution of the Kullback-Leibler divergence between $\\hat{p}$ and $p$, along the iterations of the two minimization procedures."
   ]
  },
  {
   "cell_type": "code",
   "execution_count": null,
   "metadata": {},
   "outputs": [],
   "source": [
    "cplt.barPlot(proportions)\n",
    "cplt.KLPlot(monitoring, n0=10, nStop=8000)"
   ]
  },
  {
   "cell_type": "code",
   "execution_count": null,
   "metadata": {},
   "outputs": [],
   "source": []
  }
 ],
 "metadata": {
  "kernelspec": {
   "display_name": "Python 3 (ipykernel)",
   "language": "python",
   "name": "python3"
  },
  "language_info": {
   "codemirror_mode": {
    "name": "ipython",
    "version": 3
   },
   "file_extension": ".py",
   "mimetype": "text/x-python",
   "name": "python",
   "nbconvert_exporter": "python",
   "pygments_lexer": "ipython3",
   "version": "3.8.8"
  }
 },
 "nbformat": 4,
 "nbformat_minor": 2
}
