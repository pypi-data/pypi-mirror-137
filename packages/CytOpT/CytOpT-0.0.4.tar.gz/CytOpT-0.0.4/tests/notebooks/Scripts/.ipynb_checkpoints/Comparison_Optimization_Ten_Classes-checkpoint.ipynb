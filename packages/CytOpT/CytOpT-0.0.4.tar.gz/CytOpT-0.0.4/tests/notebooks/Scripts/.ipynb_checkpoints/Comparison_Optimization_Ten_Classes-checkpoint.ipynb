{
 "cells": [
  {
   "cell_type": "markdown",
   "metadata": {},
   "source": [
    "### Comparison between the two optimization methods proposed  in the article: The descent-ascent procedure and the minmax swapping procedure."
   ]
  },
  {
   "cell_type": "markdown",
   "metadata": {},
   "source": [
    "##### Import modules and functions"
   ]
  },
  {
   "cell_type": "code",
   "execution_count": 1,
   "metadata": {},
   "outputs": [],
   "source": [
    "import pandas as pd\n",
    "import numpy as np\n",
    "import time\n",
    "\n",
    "import CytOpT.CytOpt as cytopt\n",
    "import CytOpT.plots as cplt"
   ]
  },
  {
   "cell_type": "markdown",
   "metadata": {},
   "source": [
    "##### Import data"
   ]
  },
  {
   "cell_type": "code",
   "execution_count": 2,
   "metadata": {},
   "outputs": [],
   "source": [
    "Stanford1A_values = pd.read_csv('../../data/W2_1_values.csv',\n",
    "                                usecols = np.arange(1,8))\n",
    "Stanford1A_clust = pd.read_csv('../../data/W2_1_clust.csv',\n",
    "                               usecols = [1])\n",
    "Stanford3A_values = pd.read_csv('../../data/W2_7_values.csv', \n",
    "                           usecols = np.arange(1,8))\n",
    "Stanford3A_clust = pd.read_csv('../../data/W2_7_clust.csv',\n",
    "                          usecols = [1])"
   ]
  },
  {
   "cell_type": "markdown",
   "metadata": {},
   "source": [
    "We are in the frame work where our cytometry data are divided into 10 classes and the 7 markers available are used to estimate the class proportions in the target data set."
   ]
  },
  {
   "cell_type": "markdown",
   "metadata": {},
   "source": [
    "##### Preprocessing of the data sets"
   ]
  },
  {
   "cell_type": "code",
   "execution_count": 3,
   "metadata": {},
   "outputs": [],
   "source": [
    "X_source = np.asarray(Stanford1A_values)\n",
    "X_target = np.asarray(Stanford3A_values)\n",
    "\n",
    "Lab_source = np.asarray(Stanford1A_clust['x'])\n",
    "Lab_target = np.asarray(Stanford3A_clust['x'])"
   ]
  },
  {
   "cell_type": "markdown",
   "metadata": {},
   "source": [
    "#####  Computation of the benchmark proportions $p$ in the target data set"
   ]
  },
  {
   "cell_type": "code",
   "execution_count": 4,
   "metadata": {},
   "outputs": [
    {
     "name": "stdout",
     "output_type": "stream",
     "text": [
      "[0.017004   0.12873617 0.048482   0.05748411 0.00909037 0.00232408\n",
      " 0.33146034 0.28171334 0.10208284 0.02162273]\n"
     ]
    }
   ],
   "source": [
    "h_target = np.zeros(10)\n",
    "for k in range(10):\n",
    "    h_target[k] = np.sum(Lab_target == k+1)/len(Lab_target)\n",
    "\n",
    "print(h_target)"
   ]
  },
  {
   "cell_type": "markdown",
   "metadata": {},
   "source": [
    "### ${\\tt CytOpt}$ to compute an estimate $\\hat{p}$ of the class proportions."
   ]
  },
  {
   "cell_type": "markdown",
   "metadata": {},
   "source": [
    "##### Estimation with the minmax swapping procedure"
   ]
  },
  {
   "cell_type": "markdown",
   "metadata": {},
   "source": [
    "Setting of the parameters"
   ]
  },
  {
   "cell_type": "code",
   "execution_count": 5,
   "metadata": {},
   "outputs": [],
   "source": [
    "lbd = 0.0001\n",
    "eps_one = 0.0001\n",
    "n_iter = 10000\n",
    "step_size = 5\n",
    "power = 0.99\n",
    "monitoring=True"
   ]
  },
  {
   "cell_type": "code",
   "execution_count": 6,
   "metadata": {},
   "outputs": [
    {
     "name": "stdout",
     "output_type": "stream",
     "text": [
      "Done ( 34.55604553222656 s)\n",
      "\n",
      "Elapsed time :  0.5760985175768535 Mins\n"
     ]
    }
   ],
   "source": [
    "t0 = time.time()\n",
    "\n",
    "res_one = cytopt.CytOpT(X_source, X_target, Lab_source, thetaTrue=h_target,\n",
    "                             method=\"minmax\",lbd=lbd,eps=eps_one,nIter=n_iter,step=step_size,power=power,monitoring=monitoring)\n",
    "elapsed_time = time.time() - t0\n",
    "print('Elapsed time : ',elapsed_time/60, 'Mins')"
   ]
  },
  {
   "cell_type": "code",
   "execution_count": 7,
   "metadata": {},
   "outputs": [
    {
     "data": {
      "text/plain": [
       "{'proportions':    GoldStandard        minmax\n",
       " 0      0.017004  4.822655e-02\n",
       " 1      0.128736  1.013123e-01\n",
       " 2      0.048482  3.945316e-02\n",
       " 3      0.057484  7.052263e-02\n",
       " 4      0.009090  9.850264e-03\n",
       " 5      0.002324  3.243496e-07\n",
       " 6      0.331460  3.551809e-01\n",
       " 7      0.281713  2.058597e-01\n",
       " 8      0.102083  1.571522e-01\n",
       " 9      0.021623  1.244202e-02,\n",
       " 'monitoring':         minmax\n",
       " 0     0.000000\n",
       " 1     3.517515\n",
       " 2     0.863719\n",
       " 3     0.429785\n",
       " 4     0.550441\n",
       " ...        ...\n",
       " 9995  0.053840\n",
       " 9996  0.053832\n",
       " 9997  0.053857\n",
       " 9998  0.054014\n",
       " 9999  0.053975\n",
       " \n",
       " [10000 rows x 1 columns]}"
      ]
     },
     "execution_count": 7,
     "metadata": {},
     "output_type": "execute_result"
    }
   ],
   "source": [
    "res_one"
   ]
  },
  {
   "cell_type": "code",
   "execution_count": 8,
   "metadata": {},
   "outputs": [],
   "source": [
    "Kull_Monitoring  = res_one['monitoring']"
   ]
  },
  {
   "cell_type": "markdown",
   "metadata": {},
   "source": [
    "##### Estimation with the descent-ascent procedure"
   ]
  },
  {
   "cell_type": "code",
   "execution_count": 9,
   "metadata": {},
   "outputs": [],
   "source": [
    "n_it_grad = 10000\n",
    "n_it_sto = 10\n",
    "pas_grad = 10\n",
    "eps=0.0005\n",
    "monitoring=True"
   ]
  },
  {
   "cell_type": "code",
   "execution_count": 10,
   "metadata": {},
   "outputs": [
    {
     "name": "stdout",
     "output_type": "stream",
     "text": [
      "\n",
      " Epsilon:  0.0005\n",
      "Iteration  0\n",
      "Current h_hat\n",
      "[0.10107911 0.10159381 0.10172865 0.10013942 0.09977496 0.09172447\n",
      " 0.10094996 0.10194793 0.1021121  0.09894959]\n",
      "Iteration  1000\n",
      "Current h_hat\n",
      "[0.06297439 0.08940761 0.04332127 0.06510407 0.02143231 0.00913758\n",
      " 0.36714824 0.15125664 0.16981829 0.02039959]\n",
      "Iteration  2000\n",
      "Current h_hat\n",
      "[0.05205554 0.0955195  0.03586332 0.06415576 0.01928142 0.00722986\n",
      " 0.33314874 0.23170863 0.14397581 0.01706141]\n",
      "Iteration  3000\n",
      "Current h_hat\n",
      "[0.04430743 0.08495332 0.02976367 0.07265971 0.01525524 0.00691579\n",
      " 0.39223217 0.20354646 0.13605779 0.01430842]\n",
      "Iteration  4000\n",
      "Current h_hat\n",
      "[0.044199   0.08042378 0.03104075 0.06725243 0.01543317 0.00611985\n",
      " 0.37092113 0.23262308 0.13795788 0.01402893]\n",
      "Iteration  5000\n",
      "Current h_hat\n",
      "[0.04235392 0.08626697 0.03204276 0.06283022 0.01469864 0.00585866\n",
      " 0.34427392 0.23310859 0.16294641 0.01561991]\n",
      "Iteration  6000\n",
      "Current h_hat\n",
      "[0.03867486 0.07943162 0.02969385 0.06643451 0.01227894 0.00484522\n",
      " 0.30955762 0.28070891 0.1647321  0.01364237]\n",
      "Iteration  7000\n",
      "Current h_hat\n",
      "[0.0444282  0.10187541 0.0358087  0.08661546 0.01372737 0.004954\n",
      " 0.31282348 0.21287427 0.17313002 0.01376308]\n",
      "Iteration  8000\n",
      "Current h_hat\n",
      "[0.04248291 0.10482774 0.02812519 0.06918253 0.01109294 0.00436346\n",
      " 0.39268164 0.17542699 0.15833225 0.01348434]\n",
      "Iteration  9000\n",
      "Current h_hat\n",
      "[0.04809912 0.09150634 0.02768703 0.08431744 0.01088945 0.00432397\n",
      " 0.36861862 0.20360358 0.14778585 0.01316859]\n",
      "Done ( 682.66832447052 s)\n",
      "\n",
      "Elapsed time :  11.378017902374268 Mins\n"
     ]
    }
   ],
   "source": [
    "t0 = time.time()\n",
    "\n",
    "res_two = cytopt.CytOpT(X_source, X_target, Lab_source, thetaTrue=h_target,\n",
    "                 method=\"desasc\",nItGrad=n_it_grad,nItSto=n_it_sto,stepGrad=pas_grad,\n",
    "                 eps=eps,monitoring=monitoring)\n",
    "elapsed_time = time.time() - t0\n",
    "print('Elapsed time : ',elapsed_time/60, 'Mins')"
   ]
  },
  {
   "cell_type": "code",
   "execution_count": 11,
   "metadata": {},
   "outputs": [
    {
     "data": {
      "text/html": [
       "<div>\n",
       "<style scoped>\n",
       "    .dataframe tbody tr th:only-of-type {\n",
       "        vertical-align: middle;\n",
       "    }\n",
       "\n",
       "    .dataframe tbody tr th {\n",
       "        vertical-align: top;\n",
       "    }\n",
       "\n",
       "    .dataframe thead th {\n",
       "        text-align: right;\n",
       "    }\n",
       "</style>\n",
       "<table border=\"1\" class=\"dataframe\">\n",
       "  <thead>\n",
       "    <tr style=\"text-align: right;\">\n",
       "      <th></th>\n",
       "      <th>GoldStandard</th>\n",
       "      <th>minmax</th>\n",
       "      <th>GoldStandard</th>\n",
       "      <th>desasc</th>\n",
       "    </tr>\n",
       "  </thead>\n",
       "  <tbody>\n",
       "    <tr>\n",
       "      <th>0</th>\n",
       "      <td>0.017004</td>\n",
       "      <td>4.822655e-02</td>\n",
       "      <td>0.017004</td>\n",
       "      <td>0.050046</td>\n",
       "    </tr>\n",
       "    <tr>\n",
       "      <th>1</th>\n",
       "      <td>0.128736</td>\n",
       "      <td>1.013123e-01</td>\n",
       "      <td>0.128736</td>\n",
       "      <td>0.094261</td>\n",
       "    </tr>\n",
       "    <tr>\n",
       "      <th>2</th>\n",
       "      <td>0.048482</td>\n",
       "      <td>3.945316e-02</td>\n",
       "      <td>0.048482</td>\n",
       "      <td>0.026887</td>\n",
       "    </tr>\n",
       "    <tr>\n",
       "      <th>3</th>\n",
       "      <td>0.057484</td>\n",
       "      <td>7.052263e-02</td>\n",
       "      <td>0.057484</td>\n",
       "      <td>0.079643</td>\n",
       "    </tr>\n",
       "    <tr>\n",
       "      <th>4</th>\n",
       "      <td>0.009090</td>\n",
       "      <td>9.850264e-03</td>\n",
       "      <td>0.009090</td>\n",
       "      <td>0.010810</td>\n",
       "    </tr>\n",
       "    <tr>\n",
       "      <th>5</th>\n",
       "      <td>0.002324</td>\n",
       "      <td>3.243496e-07</td>\n",
       "      <td>0.002324</td>\n",
       "      <td>0.004254</td>\n",
       "    </tr>\n",
       "    <tr>\n",
       "      <th>6</th>\n",
       "      <td>0.331460</td>\n",
       "      <td>3.551809e-01</td>\n",
       "      <td>0.331460</td>\n",
       "      <td>0.357164</td>\n",
       "    </tr>\n",
       "    <tr>\n",
       "      <th>7</th>\n",
       "      <td>0.281713</td>\n",
       "      <td>2.058597e-01</td>\n",
       "      <td>0.281713</td>\n",
       "      <td>0.212384</td>\n",
       "    </tr>\n",
       "    <tr>\n",
       "      <th>8</th>\n",
       "      <td>0.102083</td>\n",
       "      <td>1.571522e-01</td>\n",
       "      <td>0.102083</td>\n",
       "      <td>0.151436</td>\n",
       "    </tr>\n",
       "    <tr>\n",
       "      <th>9</th>\n",
       "      <td>0.021623</td>\n",
       "      <td>1.244202e-02</td>\n",
       "      <td>0.021623</td>\n",
       "      <td>0.013114</td>\n",
       "    </tr>\n",
       "  </tbody>\n",
       "</table>\n",
       "</div>"
      ],
      "text/plain": [
       "   GoldStandard        minmax  GoldStandard    desasc\n",
       "0      0.017004  4.822655e-02      0.017004  0.050046\n",
       "1      0.128736  1.013123e-01      0.128736  0.094261\n",
       "2      0.048482  3.945316e-02      0.048482  0.026887\n",
       "3      0.057484  7.052263e-02      0.057484  0.079643\n",
       "4      0.009090  9.850264e-03      0.009090  0.010810\n",
       "5      0.002324  3.243496e-07      0.002324  0.004254\n",
       "6      0.331460  3.551809e-01      0.331460  0.357164\n",
       "7      0.281713  2.058597e-01      0.281713  0.212384\n",
       "8      0.102083  1.571522e-01      0.102083  0.151436\n",
       "9      0.021623  1.244202e-02      0.021623  0.013114"
      ]
     },
     "execution_count": 11,
     "metadata": {},
     "output_type": "execute_result"
    }
   ],
   "source": [
    "proportions = pd.concat([res_one['proportions'], res_two['proportions']], axis=1)\n",
    "proportions"
   ]
  },
  {
   "cell_type": "code",
   "execution_count": 12,
   "metadata": {},
   "outputs": [
    {
     "data": {
      "text/html": [
       "<div>\n",
       "<style scoped>\n",
       "    .dataframe tbody tr th:only-of-type {\n",
       "        vertical-align: middle;\n",
       "    }\n",
       "\n",
       "    .dataframe tbody tr th {\n",
       "        vertical-align: top;\n",
       "    }\n",
       "\n",
       "    .dataframe thead th {\n",
       "        text-align: right;\n",
       "    }\n",
       "</style>\n",
       "<table border=\"1\" class=\"dataframe\">\n",
       "  <thead>\n",
       "    <tr style=\"text-align: right;\">\n",
       "      <th></th>\n",
       "      <th>minmax</th>\n",
       "      <th>desasc</th>\n",
       "    </tr>\n",
       "  </thead>\n",
       "  <tbody>\n",
       "    <tr>\n",
       "      <th>0</th>\n",
       "      <td>0.000000</td>\n",
       "      <td>0.790128</td>\n",
       "    </tr>\n",
       "    <tr>\n",
       "      <th>1</th>\n",
       "      <td>3.517515</td>\n",
       "      <td>0.788276</td>\n",
       "    </tr>\n",
       "    <tr>\n",
       "      <th>2</th>\n",
       "      <td>0.863719</td>\n",
       "      <td>0.776927</td>\n",
       "    </tr>\n",
       "    <tr>\n",
       "      <th>3</th>\n",
       "      <td>0.429785</td>\n",
       "      <td>0.761555</td>\n",
       "    </tr>\n",
       "    <tr>\n",
       "      <th>4</th>\n",
       "      <td>0.550441</td>\n",
       "      <td>0.747470</td>\n",
       "    </tr>\n",
       "    <tr>\n",
       "      <th>...</th>\n",
       "      <td>...</td>\n",
       "      <td>...</td>\n",
       "    </tr>\n",
       "    <tr>\n",
       "      <th>9995</th>\n",
       "      <td>0.053840</td>\n",
       "      <td>0.059803</td>\n",
       "    </tr>\n",
       "    <tr>\n",
       "      <th>9996</th>\n",
       "      <td>0.053832</td>\n",
       "      <td>0.059795</td>\n",
       "    </tr>\n",
       "    <tr>\n",
       "      <th>9997</th>\n",
       "      <td>0.053857</td>\n",
       "      <td>0.060391</td>\n",
       "    </tr>\n",
       "    <tr>\n",
       "      <th>9998</th>\n",
       "      <td>0.054014</td>\n",
       "      <td>0.059435</td>\n",
       "    </tr>\n",
       "    <tr>\n",
       "      <th>9999</th>\n",
       "      <td>0.053975</td>\n",
       "      <td>0.059049</td>\n",
       "    </tr>\n",
       "  </tbody>\n",
       "</table>\n",
       "<p>10000 rows × 2 columns</p>\n",
       "</div>"
      ],
      "text/plain": [
       "        minmax    desasc\n",
       "0     0.000000  0.790128\n",
       "1     3.517515  0.788276\n",
       "2     0.863719  0.776927\n",
       "3     0.429785  0.761555\n",
       "4     0.550441  0.747470\n",
       "...        ...       ...\n",
       "9995  0.053840  0.059803\n",
       "9996  0.053832  0.059795\n",
       "9997  0.053857  0.060391\n",
       "9998  0.054014  0.059435\n",
       "9999  0.053975  0.059049\n",
       "\n",
       "[10000 rows x 2 columns]"
      ]
     },
     "execution_count": 12,
     "metadata": {},
     "output_type": "execute_result"
    }
   ],
   "source": [
    "monitoring = pd.concat([res_one['monitoring'], res_two['monitoring']], axis=1)\n",
    "monitoring"
   ]
  },
  {
   "cell_type": "markdown",
   "metadata": {},
   "source": [
    "### Results of the two optimization procedures"
   ]
  },
  {
   "cell_type": "markdown",
   "metadata": {},
   "source": [
    "We display the evolution of the Kullback-Leibler divergence between $\\hat{p}$ and $p$, along the iterations of the two minimization procedures."
   ]
  },
  {
   "cell_type": "code",
   "execution_count": 13,
   "metadata": {},
   "outputs": [
    {
     "data": {
      "image/png": "[encoded data removed]",
      "text/plain": [
       "<Figure size 864x504 with 1 Axes>"
      ]
     },
     "metadata": {
      "needs_background": "light"
     },
     "output_type": "display_data"
    },
    {
     "data": {
      "image/png": "[encoded data removed]",
      "text/plain": [
       "<Figure size 864x504 with 1 Axes>"
      ]
     },
     "metadata": {
      "needs_background": "light"
     },
     "output_type": "display_data"
    }
   ],
   "source": [
    "cplt.barPlot(proportions)\n",
    "cplt.KLPlot(monitoring, n0=10, nStop=8000)"
   ]
  },
  {
   "cell_type": "code",
   "execution_count": null,
   "metadata": {},
   "outputs": [],
   "source": []
  }
 ],
 "metadata": {
  "kernelspec": {
   "display_name": "Python 3 (ipykernel)",
   "language": "python",
   "name": "python3"
  },
  "language_info": {
   "codemirror_mode": {
    "name": "ipython",
    "version": 3
   },
   "file_extension": ".py",
   "mimetype": "text/x-python",
   "name": "python",
   "nbconvert_exporter": "python",
   "pygments_lexer": "ipython3",
   "version": "3.8.8"
  }
 },
 "nbformat": 4,
 "nbformat_minor": 2
}
