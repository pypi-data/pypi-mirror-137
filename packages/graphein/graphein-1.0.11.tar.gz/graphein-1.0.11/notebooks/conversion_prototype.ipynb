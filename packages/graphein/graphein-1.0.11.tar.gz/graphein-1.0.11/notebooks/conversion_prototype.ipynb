{
 "cells": [
  {
   "cell_type": "code",
   "execution_count": null,
   "id": "hazardous-translator",
   "metadata": {},
   "outputs": [],
   "source": [
    "import pandas as pd\n",
    "import torch\n",
    "import torch.nn as nn\n",
    "import pytorch_lightning as pl\n",
    "from tqdm.notebook import tqdm\n",
    "import networkx as nx\n",
    "import torch_geometric\n",
    "from torch_geometric.data import Data\n",
    "from torch_geometric.utils import from_networkx\n",
    "from sklearn.preprocessing import LabelBinarizer"
   ]
  },
  {
   "cell_type": "markdown",
   "id": "cheap-commission",
   "metadata": {},
   "source": [
    "## Graph Construction"
   ]
  },
  {
   "cell_type": "code",
   "execution_count": null,
   "id": "junior-ordinary",
   "metadata": {},
   "outputs": [],
   "source": [
    "# Load dataset\n",
    "df = pd.read_csv(\"../datasets/pscdb/structural_rearrangement_data.csv\")\n",
    "pdbs = df[\"Free PDB\"]\n",
    "df.head"
   ]
  },
  {
   "cell_type": "code",
   "execution_count": null,
   "id": "yellow-building",
   "metadata": {
    "jupyter": {
     "outputs_hidden": true
    }
   },
   "outputs": [],
   "source": [
    "y = [torch.argmax(torch.Tensor(lab)).type(torch.LongTensor) for lab in LabelBinarizer().fit_transform(df.motion_type)]\n",
    "y"
   ]
  },
  {
   "cell_type": "code",
   "execution_count": null,
   "id": "coordinated-constitutional",
   "metadata": {},
   "outputs": [],
   "source": [
    "from graphein.protein.config import ProteinGraphConfig\n",
    "from graphein.protein.edges.distance import add_hydrogen_bond_interactions, add_peptide_bonds,\n",
    "from graphein.protein.graphs import construct_graph\n",
    "\n",
    "# Override config with constructors\n",
    "constructors = {\n",
    "    \"edge_construction_functions\": [add_hydrogen_bond_interactions, add_peptide_bonds],\n",
    "#    \"node_metadata_functions\": [add_dssp_feature]\n",
    "}\n",
    "\n",
    "config = ProteinGraphConfig(**constructors)\n",
    "print(config.dict())\n",
    "\n",
    "# Make graphs\n",
    "graph_list = []\n",
    "for pdb in tqdm(pdbs[0:31]):\n",
    "    graph_list.append(\n",
    "        construct_graph(pdb_code=pdb,\n",
    "                        config=config\n",
    "                       )\n",
    "    )"
   ]
  },
  {
   "cell_type": "markdown",
   "id": "diverse-exception",
   "metadata": {},
   "source": [
    "### Convert Nx graphs to PyTorch Geometric"
   ]
  },
  {
   "cell_type": "code",
   "execution_count": null,
   "id": "synthetic-hearts",
   "metadata": {},
   "outputs": [],
   "source": [
    "def convert_to_pyg_data(G: nx.Graph) -> Data:\n",
    "   \n",
    "    # Initialise dict used to construct Data object\n",
    "    data = {}\n",
    "    \n",
    "    # Assign node ids as a feature\n",
    "    data[\"node_id\"] = [n for n in G.nodes()]\n",
    "    G = nx.convert_node_labels_to_integers(G)\n",
    "    \n",
    "    # Construct Edge Index\n",
    "    edge_index = torch.LongTensor(list(G.edges)).t().contiguous()\n",
    "    \n",
    "    # Add node features\n",
    "    for i, (_, feat_dict) in enumerate(G.nodes(data=True)):\n",
    "        for key, value in feat_dict.items():\n",
    "            data[str(key)] = [value] if i == 0 else data[str(key)] + [value]\n",
    "            \n",
    "    # Add edge features\n",
    "    for i, (_, _, feat_dict) in enumerate(G.edges(data=True)):\n",
    "        for key, value in feat_dict.items():\n",
    "            data[str(key)] = list(value) if i == 0 else data[str(key)] + list(value)\n",
    "    \n",
    "    # Add graph-level features\n",
    "    for i, feat_name in enumerate(G.graph):\n",
    "        data[str(feat_name)] = [G.graph[feat_name]]\n",
    "        \n",
    "            \n",
    "    data['edge_index'] = edge_index.view(2, -1)\n",
    "    data = torch_geometric.data.Data.from_dict(data)\n",
    "    data.num_nodes = G.number_of_nodes()\n",
    "\n",
    "    return data       "
   ]
  },
  {
   "cell_type": "code",
   "execution_count": null,
   "id": "opponent-religion",
   "metadata": {
    "jupyter": {
     "outputs_hidden": true
    }
   },
   "outputs": [],
   "source": [
    "graph_list = [convert_to_pyg_data(graph) for graph in graph_list]\n",
    "graph_list"
   ]
  },
  {
   "cell_type": "markdown",
   "id": "stopped-browser",
   "metadata": {},
   "source": [
    "### Construct DataLoaders"
   ]
  },
  {
   "cell_type": "code",
   "execution_count": null,
   "id": "auburn-package",
   "metadata": {},
   "outputs": [],
   "source": [
    "from torch_geometric.data import Dataset, DataLoader\n",
    "data = list(zip(graph_list, y[0:31]))\n",
    "train_loader = DataLoader(data, batch_size=1)"
   ]
  },
  {
   "cell_type": "markdown",
   "id": "convinced-founder",
   "metadata": {},
   "source": [
    "## Define Model"
   ]
  },
  {
   "cell_type": "code",
   "execution_count": null,
   "id": "bronze-eagle",
   "metadata": {},
   "outputs": [],
   "source": [
    "from torch_geometric.nn import GCNConv, global_add_pool\n",
    "from torch.nn.functional import mse_loss, nll_loss, relu, softmax, cross_entropy\n",
    "from pytorch_lightning.metrics.functional import accuracy"
   ]
  },
  {
   "cell_type": "code",
   "execution_count": null,
   "id": "wooden-murray",
   "metadata": {},
   "outputs": [],
   "source": [
    "class GraphNet(pl.LightningModule):\n",
    "    def __init__(self):\n",
    "        super().__init__()\n",
    "        self.encoder = GCNConv(in_channels=3, out_channels=16)\n",
    "        self.decoder = nn.Linear(16, 7)\n",
    "        \n",
    "    def forward(self, x):\n",
    "        x = self.encoder(torch.Tensor(x.coords).squeeze(0), x.edge_index)\n",
    "        x = relu(x)\n",
    "        x = global_add_pool(x, batch=torch.as_tensor(0))\n",
    "        x = self.decoder(x)\n",
    "        return softmax(x)\n",
    "        \n",
    "    def training_step(self, batch, batch_idx):\n",
    "        x, y = batch   \n",
    "        y_hat = self(x)\n",
    "        loss = cross_entropy(y_hat, y)\n",
    "        acc = accuracy(y_hat, y)\n",
    "        return loss\n",
    "        \n",
    "    def configure_optimizers(self):\n",
    "        optimizer = torch.optim.Adam(self.parameters(), lr=1e-3)\n",
    "        return optimizer"
   ]
  },
  {
   "cell_type": "markdown",
   "id": "applicable-butler",
   "metadata": {},
   "source": [
    "## Train!"
   ]
  },
  {
   "cell_type": "code",
   "execution_count": null,
   "id": "egyptian-cliff",
   "metadata": {},
   "outputs": [],
   "source": [
    "# Train Model\n",
    "model = GraphNet()\n",
    "trainer = pl.Trainer(max_epochs=20)\n",
    "trainer.fit(model, train_loader)"
   ]
  },
  {
   "cell_type": "code",
   "execution_count": null,
   "id": "usual-huntington",
   "metadata": {},
   "outputs": [],
   "source": []
  }
 ],
 "metadata": {
  "kernelspec": {
   "display_name": "graphein_dev",
   "language": "python",
   "name": "graphein_dev"
  },
  "language_info": {
   "codemirror_mode": {
    "name": "ipython",
    "version": 3
   },
   "file_extension": ".py",
   "mimetype": "text/x-python",
   "name": "python",
   "nbconvert_exporter": "python",
   "pygments_lexer": "ipython3",
   "version": "3.7.9"
  }
 },
 "nbformat": 4,
 "nbformat_minor": 5
}
